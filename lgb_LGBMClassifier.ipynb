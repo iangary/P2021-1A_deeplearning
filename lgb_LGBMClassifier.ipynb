{
 "cells": [
  {
   "cell_type": "code",
   "execution_count": 16,
   "metadata": {},
   "outputs": [],
   "source": [
    "%matplotlib inline\n",
    "from sklearn.ensemble import BaggingClassifier\n",
    "from sklearn.datasets import make_classification\n",
    "import matplotlib.pyplot as plt\n",
    "import numpy as np\n",
    "import pandas as pd\n",
    "from sklearn.model_selection import train_test_split\n",
    "from sklearn.metrics import f1_score\n",
    "import matplotlib.pyplot as plt\n",
    "from sklearn.datasets import make_classification\n",
    "from sklearn.metrics import plot_confusion_matrix\n",
    "\n",
    "import pandas as pd\n",
    "from sklearn.metrics import f1_score\n",
    "data=pd.read_csv('train_covid.csv')\n",
    "data=data.fillna(1)\n",
    "\"\"\"\n",
    "mean_hh_cli_ct                                            4784 non-null   float64\n",
    "pct_worried_finances                                      0 non-null      float64\n",
    "pct_cmnty_cli                                             4804 non-null   float64\n",
    "\n",
    "\"\"\"\n",
    "data=data.drop(['date', 'state_code', 'gender', 'age_bucket',\"mean_hh_cli_ct\",\"pct_worried_finances\",\"pct_cmnty_cli\"],axis=1)\n",
    "\n",
    "data_0=data.loc[data[\"test_condition\"]==0]\n",
    "data_1=data.loc[data[\"test_condition\"]==1]\n",
    "\n",
    "# data_0=data_0.sample(3000,random_state=1)\n",
    "# data_1=data_1.sample(1000,random_state=1)\n",
    "data=pd.concat([data_0,data_1])\n",
    "X=data.iloc[:,0:89]\n",
    "y=data.iloc[:,89]\n",
    "data"
   ]
  },
  {
   "cell_type": "code",
   "execution_count": 17,
   "metadata": {},
   "outputs": [],
   "source": [
    "X_train, X_test, y_train, y_test = train_test_split(X, y, random_state=42)\n",
    "# X, y = make_classification(n_samples=100, n_features=4,\n",
    "#                            n_informative=2, n_redundant=0,\n",
    "#                            random_state=0, shuffle=False)\n",
    "# clf = BaggingClassifier(n_estimators=10, random_state=0)\n",
    "# clf.fit(X_train, y_train)"
   ]
  },
  {
   "cell_type": "code",
   "execution_count": 18,
   "metadata": {},
   "outputs": [],
   "source": [
    "from sklearn.pipeline import Pipeline\n",
    "from sklearn.model_selection import cross_val_score\n",
    "from sklearn.ensemble import RandomForestClassifier\n",
    "from sklearn.preprocessing import StandardScaler\n",
    "from sklearn import preprocessing\n",
    "from sklearn.feature_selection import SelectKBest, chi2\n",
    "from sklearn.metrics import f1_score\n",
    "import xgboost as xgb\n",
    "from sklearn.preprocessing import RobustScaler\n",
    "from sklearn.model_selection import GridSearchCV\n",
    "from sklearn.model_selection import RandomizedSearchCV\n",
    "import lightgbm as lgb"
   ]
  },
  {
   "cell_type": "code",
   "execution_count": 19,
   "metadata": {},
   "outputs": [
    {
     "data": {
      "text/plain": [
       "dict_keys(['memory', 'steps', 'verbose', 'scaler', 'min_max', 'feature_select', 'clf', 'scaler__copy', 'scaler__with_mean', 'scaler__with_std', 'min_max__clip', 'min_max__copy', 'min_max__feature_range', 'feature_select__k', 'feature_select__score_func', 'clf__boosting_type', 'clf__class_weight', 'clf__colsample_bytree', 'clf__importance_type', 'clf__learning_rate', 'clf__max_depth', 'clf__min_child_samples', 'clf__min_child_weight', 'clf__min_split_gain', 'clf__n_estimators', 'clf__n_jobs', 'clf__num_leaves', 'clf__objective', 'clf__random_state', 'clf__reg_alpha', 'clf__reg_lambda', 'clf__silent', 'clf__subsample', 'clf__subsample_for_bin', 'clf__subsample_freq'])"
      ]
     },
     "execution_count": 19,
     "metadata": {},
     "output_type": "execute_result"
    }
   ],
   "source": [
    "clf = xgb.XGBClassifier()\n",
    "clf=lgb.LGBMClassifier()\n",
    "pipe = Pipeline([\n",
    "                \n",
    "                 ('scaler', StandardScaler()), \n",
    "                 ('min_max', preprocessing.MinMaxScaler()),\n",
    "                 ('feature_select',SelectKBest(chi2)),\n",
    "                 ('clf',clf)\n",
    "                  ])\n",
    "pipe.get_params().keys()"
   ]
  },
  {
   "cell_type": "code",
   "execution_count": 20,
   "metadata": {},
   "outputs": [
    {
     "name": "stderr",
     "output_type": "stream",
     "text": [
      "c:\\Users\\Ian\\Python_workspace\\pyml\\lib\\site-packages\\lightgbm\\sklearn.py:598: UserWarning: 'silent' argument is deprecated and will be removed in a future release of LightGBM. Pass 'verbose' parameter via keyword arguments instead.\n",
      "  _log_warning(\"'silent' argument is deprecated and will be removed in a future release of LightGBM. \"\n",
      "c:\\Users\\Ian\\Python_workspace\\pyml\\lib\\site-packages\\lightgbm\\sklearn.py:598: UserWarning: 'silent' argument is deprecated and will be removed in a future release of LightGBM. Pass 'verbose' parameter via keyword arguments instead.\n",
      "  _log_warning(\"'silent' argument is deprecated and will be removed in a future release of LightGBM. \"\n"
     ]
    },
    {
     "name": "stdout",
     "output_type": "stream",
     "text": [
      "[LightGBM] [Warning] Unknown parameter: base_score\n",
      "[LightGBM] [Warning] Unknown parameter: eval_metric\n",
      "[LightGBM] [Warning] Unknown parameter: gamma\n",
      "[LightGBM] [Warning] learning_rate is set=0.01, eta=0.3 will be ignored. Current value: learning_rate=0.01\n"
     ]
    },
    {
     "name": "stderr",
     "output_type": "stream",
     "text": [
      "c:\\Users\\Ian\\Python_workspace\\pyml\\lib\\site-packages\\lightgbm\\sklearn.py:598: UserWarning: 'silent' argument is deprecated and will be removed in a future release of LightGBM. Pass 'verbose' parameter via keyword arguments instead.\n",
      "  _log_warning(\"'silent' argument is deprecated and will be removed in a future release of LightGBM. \"\n"
     ]
    },
    {
     "name": "stdout",
     "output_type": "stream",
     "text": [
      "[LightGBM] [Warning] Unknown parameter: base_score\n",
      "[LightGBM] [Warning] Unknown parameter: eval_metric\n",
      "[LightGBM] [Warning] Unknown parameter: gamma\n",
      "[LightGBM] [Warning] learning_rate is set=0.01, eta=0.3 will be ignored. Current value: learning_rate=0.01\n"
     ]
    },
    {
     "name": "stderr",
     "output_type": "stream",
     "text": [
      "c:\\Users\\Ian\\Python_workspace\\pyml\\lib\\site-packages\\lightgbm\\sklearn.py:598: UserWarning: 'silent' argument is deprecated and will be removed in a future release of LightGBM. Pass 'verbose' parameter via keyword arguments instead.\n",
      "  _log_warning(\"'silent' argument is deprecated and will be removed in a future release of LightGBM. \"\n"
     ]
    },
    {
     "name": "stdout",
     "output_type": "stream",
     "text": [
      "[LightGBM] [Warning] Unknown parameter: base_score\n",
      "[LightGBM] [Warning] Unknown parameter: eval_metric\n",
      "[LightGBM] [Warning] Unknown parameter: gamma\n",
      "[LightGBM] [Warning] learning_rate is set=0.01, eta=0.3 will be ignored. Current value: learning_rate=0.01\n"
     ]
    },
    {
     "name": "stderr",
     "output_type": "stream",
     "text": [
      "c:\\Users\\Ian\\Python_workspace\\pyml\\lib\\site-packages\\lightgbm\\sklearn.py:598: UserWarning: 'silent' argument is deprecated and will be removed in a future release of LightGBM. Pass 'verbose' parameter via keyword arguments instead.\n",
      "  _log_warning(\"'silent' argument is deprecated and will be removed in a future release of LightGBM. \"\n"
     ]
    },
    {
     "name": "stdout",
     "output_type": "stream",
     "text": [
      "[LightGBM] [Warning] Unknown parameter: base_score\n",
      "[LightGBM] [Warning] Unknown parameter: eval_metric\n",
      "[LightGBM] [Warning] Unknown parameter: gamma\n",
      "[LightGBM] [Warning] learning_rate is set=0.01, eta=0.3 will be ignored. Current value: learning_rate=0.01\n"
     ]
    },
    {
     "name": "stderr",
     "output_type": "stream",
     "text": [
      "c:\\Users\\Ian\\Python_workspace\\pyml\\lib\\site-packages\\lightgbm\\sklearn.py:598: UserWarning: 'silent' argument is deprecated and will be removed in a future release of LightGBM. Pass 'verbose' parameter via keyword arguments instead.\n",
      "  _log_warning(\"'silent' argument is deprecated and will be removed in a future release of LightGBM. \"\n"
     ]
    },
    {
     "name": "stdout",
     "output_type": "stream",
     "text": [
      "[LightGBM] [Warning] Unknown parameter: base_score\n",
      "[LightGBM] [Warning] Unknown parameter: eval_metric\n",
      "[LightGBM] [Warning] Unknown parameter: gamma\n",
      "[LightGBM] [Warning] learning_rate is set=0.01, eta=0.3 will be ignored. Current value: learning_rate=0.01\n"
     ]
    }
   ],
   "source": [
    "clf__n_estimators=np.arange(800,1000,100)\n",
    "clf__learning_rate=np.arange(0.01,1.0,0.01)\n",
    "feature_select__k=[10,11,12,13,14,15,16,17,18,19]\n",
    "clf__scale_pos_weight=[1]\n",
    "param_grid = { \n",
    "    'feature_select__k':[3],\n",
    "    'clf__boosting_type':['gbdt'],\n",
    "    'clf__objective':['binary'],\n",
    "    'clf__eval_metric':['error'],\n",
    "    'clf__eta':[0.3],\n",
    "    'clf__gamma':[0],\n",
    "    'clf__max_depth':[9],\n",
    "    'clf__min_child_weight':[1],\n",
    "    'clf__max_delta_step':[0],\n",
    "    'clf__subsample':[1],\n",
    "    'clf__colsample_bytree':[1],\n",
    "    'clf__silent' : [1],\n",
    "    'clf__seed' : [0],\n",
    "    'clf__base_score' : [0.5], \n",
    "    'clf__n_estimators': [900],\n",
    "    'clf__learning_rate':[0.01],\n",
    "    'clf__n_jobs':[1],\n",
    "    'clf__scale_pos_weight':clf__scale_pos_weight,\n",
    "}\n",
    "gs=GridSearchCV(estimator=pipe,\n",
    "               param_grid=param_grid,\n",
    "               scoring='f1_micro',\n",
    "               cv=5,\n",
    "              )\n",
    "gs=gs.fit(X_train,y_train)"
   ]
  },
  {
   "cell_type": "code",
   "execution_count": 21,
   "metadata": {},
   "outputs": [
    {
     "name": "stdout",
     "output_type": "stream",
     "text": [
      "{'clf__base_score': 0.5, 'clf__boosting_type': 'gbdt', 'clf__colsample_bytree': 1, 'clf__eta': 0.3, 'clf__eval_metric': 'error', 'clf__gamma': 0, 'clf__learning_rate': 0.01, 'clf__max_delta_step': 0, 'clf__max_depth': 9, 'clf__min_child_weight': 1, 'clf__n_estimators': 900, 'clf__n_jobs': 1, 'clf__objective': 'binary', 'clf__scale_pos_weight': 1, 'clf__seed': 0, 'clf__silent': 1, 'clf__subsample': 1, 'feature_select__k': 3}\n",
      "0.7994666666666668\n"
     ]
    }
   ],
   "source": [
    "print(gs.best_params_)\n",
    "print(gs.best_score_)"
   ]
  },
  {
   "cell_type": "code",
   "execution_count": 28,
   "metadata": {},
   "outputs": [],
   "source": [
    "\n",
    "test=pd.read_csv(\"test_covid.csv\")\n",
    "test=test.fillna(1)\n",
    "\"\"\"\n",
    "mean_hh_cli_ct                                            4784 non-null   float64\n",
    "pct_worried_finances                                      0 non-null      float64\n",
    "pct_cmnty_cli                                             4804 non-null   float64\n",
    "\n",
    "\"\"\"\n",
    "test=test.drop(['date', 'state_code', 'gender', 'age_bucket',\"mean_hh_cli_ct\",\"pct_worried_finances\",\"pct_cmnty_cli\"],axis=1)\n",
    "\n",
    "X_test=test.iloc[:,0:89]\n",
    "\n",
    "y_test=gs.best_estimator_.predict(X_test)\n",
    "col=['test_condition']\n",
    "df=pd.DataFrame(y_test,columns=col)\n",
    "df.to_csv('midterm.csv', index = True,index_label='id') "
   ]
  }
 ],
 "metadata": {
  "interpreter": {
   "hash": "f2d2a823a038604d853a60f43a5496ac741353b66549770f1041d492ccac9c62"
  },
  "kernelspec": {
   "display_name": "Python 3.9.7 64-bit ('pyml': venv)",
   "name": "python3"
  },
  "language_info": {
   "codemirror_mode": {
    "name": "ipython",
    "version": 3
   },
   "file_extension": ".py",
   "mimetype": "text/x-python",
   "name": "python",
   "nbconvert_exporter": "python",
   "pygments_lexer": "ipython3",
   "version": "3.9.7"
  },
  "orig_nbformat": 4
 },
 "nbformat": 4,
 "nbformat_minor": 2
}
