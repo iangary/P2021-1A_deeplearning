{
 "cells": [
  {
   "cell_type": "code",
   "execution_count": 3,
   "metadata": {},
   "outputs": [],
   "source": [
    "%matplotlib inline\n",
    "import numpy as np\n",
    "import pandas as pd\n",
    "import matplotlib.pyplot as plt\n",
    "from imblearn.over_sampling import RandomOverSampler\n",
    "import pandas as pd\n",
    "\n",
    "data=pd.read_csv('train_covid.csv')\n",
    "\n",
    "\"\"\"\n",
    "mean_hh_cli_ct                                            4784 non-null   float64\n",
    "pct_worried_finances                                      0 non-null      float64\n",
    "pct_cmnty_cli                                             4804 non-null   float64\n",
    "\n",
    "\"\"\"\n",
    "#date不是一個特徵值，除非使用OrdinalEncoder，轉換成數列\n",
    "#如果test的data是未來的這個特徵值，我認為不是一個好的分類指標\n",
    "#而pct_worried_finances都是NaN可以直接drop掉\n",
    "data=data.drop([\"date\",\"pct_worried_finances\"],axis=1)\n",
    "\n",
    "#分割feature和label\n",
    "length=data.shape[1]\n",
    "X=data.iloc[:,0:length-1]\n",
    "y=data.iloc[:,length-1]"
   ]
  },
  {
   "cell_type": "markdown",
   "metadata": {},
   "source": [
    "# Data Prepare\n"
   ]
  },
  {
   "cell_type": "markdown",
   "metadata": {},
   "source": [
    "## Use SimpleImputer 將nan用中位數替換"
   ]
  },
  {
   "cell_type": "code",
   "execution_count": 5,
   "metadata": {},
   "outputs": [
    {
     "data": {
      "text/plain": [
       "0"
      ]
     },
     "execution_count": 5,
     "metadata": {},
     "output_type": "execute_result"
    }
   ],
   "source": [
    "from sklearn.impute import SimpleImputer\n",
    "imp_mean = SimpleImputer(missing_values=np.nan, strategy='mean')\n",
    "#因為前三個欄位為str的type\n",
    "X_num=X.iloc[:,3:]\n",
    "#去掉不是float的feature\n",
    "X_num=imp_mean.fit_transform(X_num)\n",
    "\n",
    "X.iloc[:,3:]=X_num\n",
    "#確認是否nan都替換掉\n",
    "X.isna().sum().sum()"
   ]
  },
  {
   "cell_type": "markdown",
   "metadata": {},
   "source": [
    "## Split data 將x split按feature的type(object 和 float) 才可以正確使用演算法"
   ]
  },
  {
   "cell_type": "code",
   "execution_count": null,
   "metadata": {},
   "outputs": [],
   "source": [
    "X_cat=X.iloc[:,]"
   ]
  },
  {
   "cell_type": "markdown",
   "metadata": {},
   "source": [
    "## Using Different oversampler method"
   ]
  },
  {
   "cell_type": "code",
   "execution_count": null,
   "metadata": {},
   "outputs": [],
   "source": []
  },
  {
   "cell_type": "code",
   "execution_count": 6,
   "metadata": {},
   "outputs": [],
   "source": [
    "\n",
    "from imblearn.over_sampling import SMOTENC\n",
    "\n",
    "smote_nc = SMOTENC(categorical_features=[0,1,2], random_state=0)\n",
    "X, y = smote_nc.fit_resample(X, y)\n",
    "\n",
    "# ros = RandomOverSampler(random_state=0)\n",
    "# X, y = ros.fit_resample(X, y)\n"
   ]
  },
  {
   "cell_type": "markdown",
   "metadata": {},
   "source": [
    "## Using Different undersampler method"
   ]
  },
  {
   "cell_type": "code",
   "execution_count": 96,
   "metadata": {},
   "outputs": [],
   "source": [
    "# from imblearn.under_sampling import ClusterCentroids\n",
    "# cc = ClusterCentroids(categorical_features=[0,1,2],random_state=0)\n",
    "# X_resampled, y_resampled = cc.fit_resample(X, y)"
   ]
  },
  {
   "cell_type": "markdown",
   "metadata": {},
   "source": [
    "## test_condition_分布隨日期變化"
   ]
  },
  {
   "cell_type": "code",
   "execution_count": 97,
   "metadata": {},
   "outputs": [],
   "source": [
    "# for i in range(1000,5000,500):  \n",
    "#     y=data.iloc[i:,length-1]\n",
    "#     plt.hist(y,bins=10)\n",
    "#     filename=\"test_condition_分布隨日期變化\\ 最後{}\".format(5000-i)\n",
    "#     plt.savefig(filename) \n",
    "#     plt.close()  "
   ]
  },
  {
   "cell_type": "markdown",
   "metadata": {},
   "source": [
    "## OneHotEncoder"
   ]
  },
  {
   "cell_type": "code",
   "execution_count": 98,
   "metadata": {},
   "outputs": [],
   "source": [
    "from sklearn.compose import make_column_selector as selector\n",
    "#將是type 是object的取出來:categorical_columns取出來的index\n",
    "categorical_columns_selector = selector(dtype_include=object)\n",
    "categorical_columns = categorical_columns_selector(data)\n"
   ]
  },
  {
   "cell_type": "code",
   "execution_count": 99,
   "metadata": {},
   "outputs": [],
   "source": [
    "from sklearn.pipeline import Pipeline\n",
    "from sklearn.preprocessing import StandardScaler\n",
    "from sklearn import preprocessing\n",
    "from sklearn.feature_selection import SelectKBest, chi2\n",
    "from sklearn.model_selection import GridSearchCV\n",
    "from sklearn.preprocessing import OneHotEncoder"
   ]
  },
  {
   "cell_type": "code",
   "execution_count": 100,
   "metadata": {},
   "outputs": [],
   "source": [
    "X_cat=X[categorical_columns]\n",
    "\n",
    "#onehotencoder使用 -> fit -> transform -> return array \n",
    "enc =OneHotEncoder(sparse=False)\n",
    "enc.fit(X_cat)\n",
    "data_encoded=enc.transform(X_cat)\n",
    "#產生columns index的名稱\n",
    "columns_encoded = enc.get_feature_names(categorical_columns)\n",
    "X_categorical_columns=pd.DataFrame(data_encoded, columns=columns_encoded)\n",
    "\n",
    "X_withoutcategorical_columns=X.drop(categorical_columns,axis=1)\n",
    "\n",
    "X=pd.concat([X_withoutcategorical_columns, X_categorical_columns], axis=1)\n",
    "#onehotencoder之後\n"
   ]
  },
  {
   "cell_type": "markdown",
   "metadata": {},
   "source": [
    "## Using Combination of over- and under-sampling method"
   ]
  },
  {
   "cell_type": "code",
   "execution_count": 101,
   "metadata": {},
   "outputs": [],
   "source": [
    "# from imblearn.combine import SMOTEENN\n",
    "# smote_enn = SMOTEENN(random_state=0)\n",
    "# X, y = smote_enn.fit_resample(X, y)"
   ]
  },
  {
   "cell_type": "code",
   "execution_count": 102,
   "metadata": {},
   "outputs": [
    {
     "data": {
      "text/plain": [
       "(array([1268.,    0.,    0.,    0.,    0.,    0.,    0.,    0.,    0.,\n",
       "        1471.]),\n",
       " array([0. , 0.1, 0.2, 0.3, 0.4, 0.5, 0.6, 0.7, 0.8, 0.9, 1. ]),\n",
       " <BarContainer object of 10 artists>)"
      ]
     },
     "execution_count": 102,
     "metadata": {},
     "output_type": "execute_result"
    },
    {
     "data": {
      "image/png": "[encoded data removed]",
      "text/plain": [
       "<Figure size 432x288 with 1 Axes>"
      ]
     },
     "metadata": {
      "needs_background": "light"
     },
     "output_type": "display_data"
    }
   ],
   "source": [
    "plt.hist(y,bins=10)"
   ]
  },
  {
   "cell_type": "markdown",
   "metadata": {},
   "source": [
    "## Training Model : X,y"
   ]
  },
  {
   "cell_type": "code",
   "execution_count": 103,
   "metadata": {},
   "outputs": [],
   "source": [
    "\n",
    "from sklearn.metrics import mean_absolute_error\n",
    "import xgboost as xgb\n",
    "clf = xgb.XGBClassifier(objective= 'binary:logistic',eval_metric=mean_absolute_error,\n",
    "    tree_method=\"gpu_hist\",enable_categorical=True, use_label_encoder=False,\n",
    "    seed=42)\n",
    "\n"
   ]
  },
  {
   "cell_type": "markdown",
   "metadata": {},
   "source": [
    "# __Make Pipeline__"
   ]
  },
  {
   "cell_type": "code",
   "execution_count": 104,
   "metadata": {},
   "outputs": [
    {
     "data": {
      "text/plain": [
       "dict_keys(['memory', 'steps', 'verbose', 'scaler', 'min_max', 'feature_select', 'clf', 'scaler__copy', 'scaler__with_mean', 'scaler__with_std', 'min_max__clip', 'min_max__copy', 'min_max__feature_range', 'feature_select__k', 'feature_select__score_func', 'clf__objective', 'clf__use_label_encoder', 'clf__base_score', 'clf__booster', 'clf__colsample_bylevel', 'clf__colsample_bynode', 'clf__colsample_bytree', 'clf__enable_categorical', 'clf__gamma', 'clf__gpu_id', 'clf__importance_type', 'clf__interaction_constraints', 'clf__learning_rate', 'clf__max_delta_step', 'clf__max_depth', 'clf__min_child_weight', 'clf__missing', 'clf__monotone_constraints', 'clf__n_estimators', 'clf__n_jobs', 'clf__num_parallel_tree', 'clf__predictor', 'clf__random_state', 'clf__reg_alpha', 'clf__reg_lambda', 'clf__scale_pos_weight', 'clf__subsample', 'clf__tree_method', 'clf__validate_parameters', 'clf__verbosity', 'clf__eval_metric', 'clf__seed'])"
      ]
     },
     "execution_count": 104,
     "metadata": {},
     "output_type": "execute_result"
    }
   ],
   "source": [
    "from sklearn.pipeline import Pipeline\n",
    "from sklearn.preprocessing import MinMaxScaler\n",
    "from sklearn.feature_selection import SelectKBest, chi2\n",
    "from sklearn.model_selection import GridSearchCV\n",
    "from sklearn.preprocessing import StandardScaler\n",
    "from sklearn.impute import SimpleImputer\n",
    "pipe = Pipeline([\n",
    "                    \n",
    "                 ('scaler', StandardScaler()),\n",
    "                \n",
    "                ('min_max', preprocessing.MinMaxScaler(feature_range=(1, 1000))),\n",
    "                ('feature_select',SelectKBest(chi2)),\n",
    "                ('clf',clf)\n",
    "                  ])\n",
    "pipe.get_params().keys()"
   ]
  },
  {
   "cell_type": "markdown",
   "metadata": {},
   "source": [
    "## param_grid setting"
   ]
  },
  {
   "cell_type": "code",
   "execution_count": 110,
   "metadata": {},
   "outputs": [
    {
     "name": "stderr",
     "output_type": "stream",
     "text": [
      "c:\\Users\\Ian\\Python_workspace\\pyml\\lib\\site-packages\\sklearn\\model_selection\\_search.py:922: UserWarning: One or more of the test scores are non-finite: [nan]\n",
      "  warnings.warn(\n"
     ]
    },
    {
     "name": "stdout",
     "output_type": "stream",
     "text": [
      "[02:10:00] WARNING: C:/Users/Administrator/workspace/xgboost-win64_release_1.5.0/src/learner.cc:1115: Starting in XGBoost 1.3.0, the default evaluation metric used with the objective 'binary:logistic' was changed from 'error' to 'logloss'. Explicitly set eval_metric if you'd like to restore the old behavior.\n"
     ]
    }
   ],
   "source": [
    "from sklearn.model_selection import ShuffleSplit\n",
    "# 參數篩選\n",
    "feature_select__k=[100]#50,100,150,200 中\n",
    "# \n",
    "param_grid = { \n",
    "    \n",
    "    'feature_select__k':feature_select__k,\n",
    "    'clf__learning_rate': [0.05], \n",
    "    'clf__max_depth': [6], # 2,4,6中 6最好\n",
    "    'clf__min_child_weight': [11],# 11,20,30中 11最好\n",
    "    \n",
    "    'clf__subsample': [0.8],#0.4,0.8中 0.8最好\n",
    "    'clf__colsample_bytree': [0.7],\n",
    "    'clf__n_estimators': [1000], #1000,2000,3000,4000,5000中 5000最好 越多越好\n",
    "    \"clf__gamma\":[0.2] # 0.1,0.2,0.3中 0.2最好\n",
    "    \n",
    "}\n",
    "# GridSearchCV : refit==True 會重新用整個data重新訓練一次\n",
    "gs=GridSearchCV(estimator=pipe,\n",
    "               param_grid=param_grid,\n",
    "               \n",
    "            #    cv=ShuffleSplit(n_splits=5, test_size=0.3, random_state=0),\n",
    "               cv=5,\n",
    "               n_jobs = -1,\n",
    "              )\n",
    "gs=gs.fit(X,y)"
   ]
  },
  {
   "cell_type": "markdown",
   "metadata": {},
   "source": [
    "# Store best_params_\n"
   ]
  },
  {
   "cell_type": "code",
   "execution_count": 111,
   "metadata": {},
   "outputs": [
    {
     "name": "stdout",
     "output_type": "stream",
     "text": [
      "{'clf__colsample_bytree': 0.7, 'clf__gamma': 0.2, 'clf__learning_rate': 0.05, 'clf__max_depth': 6, 'clf__min_child_weight': 11, 'clf__n_estimators': 1000, 'clf__subsample': 0.8, 'feature_select__k': 100}\n",
      "nan\n",
      "   mean_fit_time  std_fit_time  mean_score_time  std_score_time  \\\n",
      "0      19.761203      0.355713         0.020186         0.00229   \n",
      "\n",
      "  param_clf__colsample_bytree param_clf__gamma param_clf__learning_rate  \\\n",
      "0                         0.7              0.2                     0.05   \n",
      "\n",
      "  param_clf__max_depth param_clf__min_child_weight param_clf__n_estimators  \\\n",
      "0                    6                          11                    1000   \n",
      "\n",
      "   ... param_feature_select__k  \\\n",
      "0  ...                     100   \n",
      "\n",
      "                                              params split0_test_score  \\\n",
      "0  {'clf__colsample_bytree': 0.7, 'clf__gamma': 0...          0.830292   \n",
      "\n",
      "   split1_test_score  split2_test_score  split3_test_score  split4_test_score  \\\n",
      "0            0.89781           0.930657                NaN           0.808044   \n",
      "\n",
      "   mean_test_score  std_test_score  rank_test_score  \n",
      "0              NaN             NaN                1  \n",
      "\n",
      "[1 rows x 21 columns]\n"
     ]
    }
   ],
   "source": [
    "# param_grid=gs.best_params_\n",
    "# type(param_grid)\n",
    "# for i in param_grid.keys():\n",
    "#     param_grid[i]=[param_grid[i]]\n",
    "# print(param_grid)\n",
    "print(gs.best_params_)\n",
    "print(gs.best_score_)\n",
    "\n",
    "df=pd.DataFrame(gs.cv_results_)\n",
    "print(df)\n",
    "# df.to_excel(\"xgboost_cv_results.xlsx\")"
   ]
  },
  {
   "cell_type": "markdown",
   "metadata": {},
   "source": [
    "# 輸入test data"
   ]
  },
  {
   "cell_type": "code",
   "execution_count": 112,
   "metadata": {},
   "outputs": [
    {
     "data": {
      "text/plain": [
       "(906, 94)"
      ]
     },
     "execution_count": 112,
     "metadata": {},
     "output_type": "execute_result"
    }
   ],
   "source": [
    "\n",
    "test=pd.read_csv(\"test_covid.csv\")\n",
    "\n",
    "\"\"\"\n",
    "mean_hh_cli_ct                                            4784 non-null   float64\n",
    "pct_worried_finances                                      0 non-null      float64\n",
    "pct_cmnty_cli                                             4804 non-null   float64\n",
    "\n",
    "\"\"\"\n",
    "# test=test.drop(['date', 'state_code', 'gender', 'age_bucket',\"mean_hh_cli_ct\",\"pct_worried_finances\",\"pct_cmnty_cli\"],axis=1)\n",
    "\n",
    "test=test.drop([\"date\",\"pct_worried_finances\"],axis=1)\n",
    "test.shape"
   ]
  },
  {
   "cell_type": "markdown",
   "metadata": {},
   "source": [
    "## Use SimpleImputer 將nan用中位數替換"
   ]
  },
  {
   "cell_type": "code",
   "execution_count": 113,
   "metadata": {},
   "outputs": [
    {
     "data": {
      "text/plain": [
       "0"
      ]
     },
     "execution_count": 113,
     "metadata": {},
     "output_type": "execute_result"
    }
   ],
   "source": [
    "from sklearn.impute import SimpleImputer\n",
    "imp_mean = SimpleImputer(missing_values=np.nan, strategy='mean')\n",
    "#因為前三個欄位為str的type\n",
    "test_num=test.iloc[:,3:]\n",
    "test_num=imp_mean.fit_transform(test_num)\n",
    "test.iloc[:,3:]=test_num\n",
    "#確認是否nan都替換掉\n",
    "test.isna().sum().sum()"
   ]
  },
  {
   "cell_type": "markdown",
   "metadata": {},
   "source": [
    "## OneHotEncoder  還要再確認是否一致"
   ]
  },
  {
   "cell_type": "code",
   "execution_count": 1,
   "metadata": {},
   "outputs": [
    {
     "ename": "NameError",
     "evalue": "name 'selector' is not defined",
     "output_type": "error",
     "traceback": [
      "\u001b[1;31m---------------------------------------------------------------------------\u001b[0m",
      "\u001b[1;31mNameError\u001b[0m                                 Traceback (most recent call last)",
      "\u001b[1;32m~\\AppData\\Local\\Temp/ipykernel_33724/1376199482.py\u001b[0m in \u001b[0;36m<module>\u001b[1;34m\u001b[0m\n\u001b[1;32m----> 1\u001b[1;33m \u001b[0mcategorical_columns_selector\u001b[0m \u001b[1;33m=\u001b[0m \u001b[0mselector\u001b[0m\u001b[1;33m(\u001b[0m\u001b[0mdtype_include\u001b[0m\u001b[1;33m=\u001b[0m\u001b[0mobject\u001b[0m\u001b[1;33m)\u001b[0m\u001b[1;33m\u001b[0m\u001b[1;33m\u001b[0m\u001b[0m\n\u001b[0m\u001b[0;32m      2\u001b[0m \u001b[0mcategorical_columns\u001b[0m \u001b[1;33m=\u001b[0m \u001b[0mcategorical_columns_selector\u001b[0m\u001b[1;33m(\u001b[0m\u001b[0mtest\u001b[0m\u001b[1;33m)\u001b[0m\u001b[1;33m\u001b[0m\u001b[1;33m\u001b[0m\u001b[0m\n\u001b[0;32m      3\u001b[0m \u001b[1;33m\u001b[0m\u001b[0m\n\u001b[0;32m      4\u001b[0m \u001b[0mX_test\u001b[0m\u001b[1;33m=\u001b[0m\u001b[0mtest\u001b[0m\u001b[1;33m.\u001b[0m\u001b[0miloc\u001b[0m\u001b[1;33m[\u001b[0m\u001b[1;33m:\u001b[0m\u001b[1;33m,\u001b[0m\u001b[1;36m0\u001b[0m\u001b[1;33m:\u001b[0m\u001b[0mtest\u001b[0m\u001b[1;33m.\u001b[0m\u001b[0mshape\u001b[0m\u001b[1;33m[\u001b[0m\u001b[1;36m1\u001b[0m\u001b[1;33m]\u001b[0m\u001b[1;33m-\u001b[0m\u001b[1;36m1\u001b[0m\u001b[1;33m]\u001b[0m\u001b[1;33m\u001b[0m\u001b[1;33m\u001b[0m\u001b[0m\n\u001b[0;32m      5\u001b[0m \u001b[1;33m\u001b[0m\u001b[0m\n",
      "\u001b[1;31mNameError\u001b[0m: name 'selector' is not defined"
     ]
    }
   ],
   "source": [
    "categorical_columns_selector = selector(dtype_include=object)\n",
    "categorical_columns = categorical_columns_selector(test)\n",
    "\n",
    "X_test=test.iloc[:,0:test.shape[1]-1]\n",
    "\n",
    "#onehotencoder使用 -> fit -> transform -> return array \n",
    "enc_test =OneHotEncoder(sparse=False)\n",
    "enc_test.fit(X_test[categorical_columns])\n",
    "data_encoded=enc_test.transform(X_test[categorical_columns])\n",
    "\n",
    "#產生columns index的名稱\n",
    "columns_encoded = enc_test.get_feature_names(categorical_columns)\n",
    "X_categorical_columns=pd.DataFrame(data_encoded, columns=columns_encoded)\n",
    "\n",
    "X_withoutcategorical_columns=X_test.drop(categorical_columns,axis=1)\n",
    "#為了讓onehotencoder 的種類一樣\n",
    "X_test=pd.concat([X_withoutcategorical_columns, X_categorical_columns], axis=1)\n",
    "#onehotencoder之後\n",
    "X_test.head()\n",
    "X_test.columns\n",
    "X_test=pd.DataFrame(X_test,columns=X.columns)\n",
    "print(X_test.isna().sum().sum())\n",
    "X_test=X_test.fillna(0)\n",
    "print(X_test.isna().sum().sum())\n",
    "X_test"
   ]
  },
  {
   "cell_type": "markdown",
   "metadata": {},
   "source": [
    "# test data 訓練"
   ]
  },
  {
   "cell_type": "code",
   "execution_count": 116,
   "metadata": {},
   "outputs": [],
   "source": [
    "y_test=gs.best_estimator_.predict(X_test)\n",
    "\n",
    "col=['test_condition']\n",
    "df=pd.DataFrame(y_test,columns=col)\n",
    "df.to_csv('xgboost_combinesampling_SMOTENC_ShuffleSplit.csv', index = True,index_label='id') \n"
   ]
  },
  {
   "cell_type": "code",
   "execution_count": 59,
   "metadata": {},
   "outputs": [
    {
     "data": {
      "text/plain": [
       "(906,)"
      ]
     },
     "execution_count": 59,
     "metadata": {},
     "output_type": "execute_result"
    }
   ],
   "source": [
    "y.shape"
   ]
  },
  {
   "cell_type": "code",
   "execution_count": 57,
   "metadata": {},
   "outputs": [
    {
     "data": {
      "text/plain": [
       "(906,)"
      ]
     },
     "execution_count": 57,
     "metadata": {},
     "output_type": "execute_result"
    }
   ],
   "source": [
    "y_test.shape"
   ]
  },
  {
   "cell_type": "code",
   "execution_count": null,
   "metadata": {},
   "outputs": [],
   "source": []
  }
 ],
 "metadata": {
  "interpreter": {
   "hash": "f2d2a823a038604d853a60f43a5496ac741353b66549770f1041d492ccac9c62"
  },
  "kernelspec": {
   "display_name": "Python 3.9.7 64-bit ('pyml': venv)",
   "name": "python3"
  },
  "language_info": {
   "codemirror_mode": {
    "name": "ipython",
    "version": 3
   },
   "file_extension": ".py",
   "mimetype": "text/x-python",
   "name": "python",
   "nbconvert_exporter": "python",
   "pygments_lexer": "ipython3",
   "version": "3.9.7"
  },
  "orig_nbformat": 4
 },
 "nbformat": 4,
 "nbformat_minor": 2
}
