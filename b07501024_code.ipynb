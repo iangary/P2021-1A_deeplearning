{
 "cells": [
  {
   "cell_type": "markdown",
   "metadata": {},
   "source": [
    "# Midterm Project Competition"
   ]
  },
  {
   "cell_type": "code",
   "execution_count": 1,
   "metadata": {},
   "outputs": [],
   "source": [
    "%matplotlib inline\n",
    "import numpy as np\n",
    "import pandas as pd\n",
    "import matplotlib.pyplot as plt\n",
    "from imblearn.over_sampling import RandomOverSampler\n",
    "import pandas as pd\n",
    "import seaborn as sns\n",
    "\n",
    "data=pd.read_csv('train_covid.csv')\n",
    "\n",
    "\"\"\"\n",
    "mean_hh_cli_ct                                            4784 non-null   float64\n",
    "pct_worried_finances                                      0 non-null      float64\n",
    "pct_cmnty_cli                                             4804 non-null   float64\n",
    "\n",
    "\"\"\"\n",
    "#date不是一個特徵值，除非使用OrdinalEncoder，轉換成數列\n",
    "#如果test的data是未來的這個特徵值，我認為不是一個好的分類指標\n",
    "#而pct_worried_finances都是NaN可以直接drop掉\n",
    "data=data.drop([\"date\",\"pct_worried_finances\"],axis=1)\n",
    "data.iloc[:,3:] =data.iloc[:,3:].astype(\"float32\")\n",
    "#分割feature和label\n",
    "length=data.shape[1]\n",
    "X=data.iloc[:,0:length-1]\n",
    "y=data.iloc[:,length-1]\n",
    "X.fillna(np.nan)\n",
    "X.replace([np.inf, -np.inf], np.nan, inplace=True)"
   ]
  },
  {
   "cell_type": "markdown",
   "metadata": {},
   "source": [
    " <font size=\"4\">\n",
    "\n",
    "## Data Prepare\n",
    "\n",
    "1. ColumTransformer & sklearn.compose.make_column_selector\n",
    "   1. for int or float Using **SimpleImputer(missing_values=np.nan, strategy='mean')S -> tandardScaler()->MinMaxScaler** \n",
    "   2. for str or object Using **Target Encoding()**\n",
    "2. sklearn.feature_selection.RFECV\n",
    "\n",
    "</font> "
   ]
  },
  {
   "cell_type": "markdown",
   "metadata": {},
   "source": [
    "## load package"
   ]
  },
  {
   "cell_type": "code",
   "execution_count": 4,
   "metadata": {},
   "outputs": [],
   "source": [
    "from sklearn.compose import make_column_transformer\n",
    "from sklearn.compose import make_column_selector as selector\n",
    "from sklearn.ensemble import RandomForestClassifier\n",
    "from sklearn.impute import SimpleImputer\n",
    "from sklearn.preprocessing import StandardScaler\n",
    "from sklearn.preprocessing import RobustScaler\n",
    "from sklearn.preprocessing import MinMaxScaler\n",
    "from sklearn.preprocessing import OneHotEncoder\n",
    "from sklearn.pipeline import make_pipeline\n",
    "from sklearn.model_selection import cross_validate\n",
    "from sklearn.metrics import mean_absolute_error\n",
    "from sklearn.pipeline import Pipeline\n",
    "import xgboost as xgb\n",
    "from imblearn.under_sampling import RandomUnderSampler\n",
    "from sklearn.model_selection import GridSearchCV\n",
    "from imblearn.pipeline import make_pipeline as make_pipeline_with_sampler\n",
    "from imblearn.under_sampling import CondensedNearestNeighbour \n",
    "from imblearn.under_sampling import TomekLinks\n",
    "from category_encoders import TargetEncoder\n",
    "from imblearn.over_sampling import SMOTE\n",
    "from sklearn.ensemble import RandomForestClassifier, VotingClassifier\n",
    "from sklearn.preprocessing import Normalizer\n",
    "from sklearn.preprocessing import QuantileTransformer\n",
    "#由於RFECV要跑很久，因此我將這些index存起來直接用\n",
    "def feacture_selection(X_res):\n",
    "    index_list=[0, 3, 5, 7, 8, 9, 22, 23, 25, 29, 31, 32, 34, 38, 41, 51, 53, 73, 76, 77, 83, 88]\n",
    "    X_sel=X_res[:,index_list] #from RFECV \n",
    "    return X_sel "
   ]
  },
  {
   "cell_type": "markdown",
   "metadata": {},
   "source": [
    "## sklearn.feature_selection.RFECV"
   ]
  },
  {
   "cell_type": "code",
   "execution_count": 4,
   "metadata": {},
   "outputs": [],
   "source": [
    "# XGBClassifier=xgb.XGBClassifier(objective= 'binary:logistic',eval_metric='mlogloss',\n",
    "#     tree_method=\"gpu_hist\",enable_categorical=True, use_label_encoder=False,\n",
    "#     seed=42,learning_rate=0.05,max_depth=6,min_child_weight=11,subsample=0.8,colsample_bytree=0.7,n_estimators=100,gamma=0.2)\n",
    "# num_pipe = make_pipeline(\n",
    "#     SimpleImputer(missing_values=np.nan, strategy='mean'),StandardScaler(),\n",
    "#     MinMaxScaler(feature_range=(1, 100))\n",
    "    \n",
    "# )\n",
    "# cat_pipe = make_pipeline(\n",
    "#     SimpleImputer(missing_values=np.nan, strategy='most_frequent'),\n",
    "#     TargetEncoder()\n",
    "# )    \n",
    "# preprocessor = make_column_transformer(\n",
    "#     (cat_pipe, selector(dtype_exclude=\"number\")),\n",
    "#     (num_pipe, selector(dtype_include=\"number\"))\n",
    "   \n",
    "#     # remainder='passthrough'\n",
    "    \n",
    "# )\n",
    "# preparedata=make_pipeline_with_sampler(\n",
    "#     preprocessor,RandomUnderSampler(random_state=42)\n",
    "# )\n",
    "\n",
    "# X_pre=preprocessor.fit_transform(X,y)\n",
    "# rus = RandomUnderSampler(random_state=42)\n",
    "# X_res, y_res = rus.fit_resample(X_pre, y)\n",
    "\n",
    "# X_pre"
   ]
  },
  {
   "cell_type": "code",
   "execution_count": 5,
   "metadata": {},
   "outputs": [],
   "source": [
    "# print(preprocessor.fit_transform(X,y).shape)\n",
    "# print(X.shape)\n",
    "# X_pre=preprocessor.fit_transform(X,y)\n",
    "# rus = RandomUnderSampler(random_state=42)\n",
    "# X_res, y_res = rus.fit_resample(X_pre, y)\n",
    "# print(X_res.shape)\n",
    "# # print(type(X_res))\n",
    "# # y_res=pd.DataFrame(y_res)\n",
    "# # print(y_res.shape)"
   ]
  },
  {
   "cell_type": "code",
   "execution_count": 55,
   "metadata": {},
   "outputs": [
    {
     "name": "stdout",
     "output_type": "stream",
     "text": [
      "Optimal number of features : 22\n"
     ]
    },
    {
     "data": {
      "image/png": "[encoded data removed]",
      "text/plain": [
       "<Figure size 432x288 with 1 Axes>"
      ]
     },
     "metadata": {
      "needs_background": "light"
     },
     "output_type": "display_data"
    }
   ],
   "source": [
    "# from sklearn.feature_selection import RFECV\n",
    "# min_features_to_select = 5  # Minimum number of features to consider\n",
    "# rfecv = RFECV(\n",
    "#     estimator=XGBClassifier,\n",
    "#     step=1,\n",
    "#     cv=5,\n",
    "#     scoring=\"accuracy\",\n",
    "#     min_features_to_select=min_features_to_select,\n",
    "# )\n",
    "# rfecv.fit(X_res,y_res)\n",
    "# print(\"Optimal number of features : {}\".format(rfecv.n_features_))\n",
    "\n",
    "# # Plot number of features VS. cross-validation scores\n",
    "# plt.figure()\n",
    "# plt.xlabel(\"Number of features selected\")\n",
    "# plt.ylabel(\"Cross validation score (accuracy)\")\n",
    "# plt.plot(\n",
    "#     range(min_features_to_select, len(rfecv.grid_scores_) + min_features_to_select),\n",
    "#     rfecv.grid_scores_,\n",
    "# )\n",
    "# plt.show()\n"
   ]
  },
  {
   "cell_type": "code",
   "execution_count": 56,
   "metadata": {},
   "outputs": [
    {
     "name": "stdout",
     "output_type": "stream",
     "text": [
      "[0, 3, 5, 7, 8, 9, 22, 23, 25, 29, 31, 32, 34, 38, 41, 51, 53, 73, 76, 77, 83, 88]\n"
     ]
    }
   ],
   "source": [
    "index_list=[]\n",
    "for index,i in enumerate(rfecv.ranking_):\n",
    "    if i == 1: \n",
    "        # print(index)\n",
    "        index_list.append(index)\n",
    "# feacture_extraction(X_pre)\n",
    "# X_res[:,index_list].shape\n",
    "\n",
    "# RFECV_result\n",
    "print(index_list)"
   ]
  },
  {
   "cell_type": "markdown",
   "metadata": {},
   "source": [
    "```python\n",
    "rfecv.ranking_\n",
    "[ 1, 30, 18, 54,  1,  9,  1, 26, 55, 43, 59, 32, 74, 81, 53, 35, 19,\n",
    "       36, 13, 11,  1, 23, 17, 66, 33, 39,  7, 44,  1,  4, 67, 15, 76, 79,\n",
    "       78,  1, 22, 34, 40, 62, 48, 57,  1, 58, 41, 21, 52, 73, 14, 37,  6,\n",
    "       83, 31, 69, 27, 50, 42, 82, 75, 60, 38, 29, 12, 72, 51, 24, 47,  8,\n",
    "       68, 49, 16, 20, 70,  2,  3, 64, 25, 77, 80, 84,  1,  5, 56, 71, 65,\n",
    "       28, 63, 10, 46, 45, 61]\n",
    "```"
   ]
  },
  {
   "cell_type": "markdown",
   "metadata": {},
   "source": [
    "# XGBClassifier"
   ]
  },
  {
   "cell_type": "markdown",
   "metadata": {},
   "source": [
    "## Make Pipeline"
   ]
  },
  {
   "cell_type": "code",
   "execution_count": 11,
   "metadata": {},
   "outputs": [
    {
     "data": {
      "text/plain": [
       "dict_keys(['memory', 'steps', 'verbose', 'xgbclassifier', 'xgbclassifier__objective', 'xgbclassifier__use_label_encoder', 'xgbclassifier__base_score', 'xgbclassifier__booster', 'xgbclassifier__colsample_bylevel', 'xgbclassifier__colsample_bynode', 'xgbclassifier__colsample_bytree', 'xgbclassifier__enable_categorical', 'xgbclassifier__gamma', 'xgbclassifier__gpu_id', 'xgbclassifier__importance_type', 'xgbclassifier__interaction_constraints', 'xgbclassifier__learning_rate', 'xgbclassifier__max_delta_step', 'xgbclassifier__max_depth', 'xgbclassifier__min_child_weight', 'xgbclassifier__missing', 'xgbclassifier__monotone_constraints', 'xgbclassifier__n_estimators', 'xgbclassifier__n_jobs', 'xgbclassifier__num_parallel_tree', 'xgbclassifier__predictor', 'xgbclassifier__random_state', 'xgbclassifier__reg_alpha', 'xgbclassifier__reg_lambda', 'xgbclassifier__scale_pos_weight', 'xgbclassifier__subsample', 'xgbclassifier__tree_method', 'xgbclassifier__validate_parameters', 'xgbclassifier__verbosity', 'xgbclassifier__eval_metric', 'xgbclassifier__seed'])"
      ]
     },
     "execution_count": 11,
     "metadata": {},
     "output_type": "execute_result"
    }
   ],
   "source": [
    "# QuantileTransformer() 效果反而沒有比較好 #MinMaxScaler([1,100])有加這個 1-100 從 0.7->0.71\n",
    "num_pipe = make_pipeline_with_sampler(\n",
    "    SimpleImputer(missing_values=np.nan, strategy='mean'),StandardScaler(),MinMaxScaler([1,100])\n",
    "    \n",
    ")\n",
    "cat_pipe = make_pipeline_with_sampler(\n",
    "    SimpleImputer(missing_values=np.nan, strategy='most_frequent'),\n",
    "    TargetEncoder()\n",
    ")    \n",
    "preprocessor = make_column_transformer(\n",
    "    (cat_pipe, selector(dtype_exclude=\"number\")),\n",
    "    (num_pipe, selector(dtype_include=\"number\")),\n",
    "    \n",
    ")\n",
    "preparedata=make_pipeline_with_sampler(\n",
    "    preprocessor,RandomUnderSampler(random_state=42)\n",
    ")\n",
    "\n",
    "# 資料預處理\n",
    "X_pre=preprocessor.fit_transform(X,y)\n",
    "rus = RandomUnderSampler(random_state=42)\n",
    "X_res, y_res = rus.fit_resample(X_pre, y)\n",
    "# sklearn.feature_selection.RFECV\n",
    "X_sel=feacture_selection(X_res) #from RFECV \n",
    "y_sel=y_res\n",
    "\n",
    "XGBClassifier= xgb.XGBClassifier(objective= 'binary:logistic',eval_metric='mlogloss',\n",
    "    tree_method=\"gpu_hist\",enable_categorical=True, use_label_encoder=False,\n",
    "    seed=42,learning_rate=0.05,max_depth=6,min_child_weight=11,subsample=0.8,colsample_bytree=0.7,n_estimators=1000,gamma=0.2)\n",
    "clf = make_pipeline_with_sampler(\n",
    "    XGBClassifier\n",
    ")\n",
    "clf.get_params().keys()"
   ]
  },
  {
   "cell_type": "code",
   "execution_count": 12,
   "metadata": {},
   "outputs": [
    {
     "data": {
      "text/plain": [
       "dict_keys(['explained_variance', 'r2', 'max_error', 'neg_median_absolute_error', 'neg_mean_absolute_error', 'neg_mean_absolute_percentage_error', 'neg_mean_squared_error', 'neg_mean_squared_log_error', 'neg_root_mean_squared_error', 'neg_mean_poisson_deviance', 'neg_mean_gamma_deviance', 'accuracy', 'top_k_accuracy', 'roc_auc', 'roc_auc_ovr', 'roc_auc_ovo', 'roc_auc_ovr_weighted', 'roc_auc_ovo_weighted', 'balanced_accuracy', 'average_precision', 'neg_log_loss', 'neg_brier_score', 'adjusted_rand_score', 'rand_score', 'homogeneity_score', 'completeness_score', 'v_measure_score', 'mutual_info_score', 'adjusted_mutual_info_score', 'normalized_mutual_info_score', 'fowlkes_mallows_score', 'precision', 'precision_macro', 'precision_micro', 'precision_samples', 'precision_weighted', 'recall', 'recall_macro', 'recall_micro', 'recall_samples', 'recall_weighted', 'f1', 'f1_macro', 'f1_micro', 'f1_samples', 'f1_weighted', 'jaccard', 'jaccard_macro', 'jaccard_micro', 'jaccard_samples', 'jaccard_weighted'])"
      ]
     },
     "execution_count": 12,
     "metadata": {},
     "output_type": "execute_result"
    }
   ],
   "source": [
    "subsample=np.array(range(1,10,1))/10\n",
    "import sklearn.metrics\n",
    "sklearn.metrics.SCORERS.keys()\n",
    "## 結論 undersample可能幸運抽掉一些"
   ]
  },
  {
   "cell_type": "markdown",
   "metadata": {},
   "source": [
    "## Model Training"
   ]
  },
  {
   "cell_type": "code",
   "execution_count": 16,
   "metadata": {},
   "outputs": [],
   "source": [
    "from sklearn.experimental import enable_halving_search_cv # noqa\n",
    "from sklearn.model_selection import HalvingGridSearchCV\n",
    "from sklearn.model_selection import TimeSeriesSplit\n",
    "param_grid = { \n",
    "    # \"condensednearestneighbour__sampling_strategy\":[\"all\",\"not majority\"],\n",
    "    #svc 正規化開強一點\n",
    "    'xgbclassifier__learning_rate': [0.05], \n",
    "    'xgbclassifier__max_depth': [8], # 2,4,6中 6最好\n",
    "    'xgbclassifier__min_child_weight': [25],# range(5,50,5)中 25最好\n",
    "    \n",
    "    'xgbclassifier__subsample': [0.8],# np.array(range(1,10,1))/10 中 0.4 best_score最好 但kaggle score =0.6777 反而0.8的是0.69977\n",
    "    'xgbclassifier__colsample_bytree': [0.7],\n",
    "    'xgbclassifier__n_estimators':[1000], #1000,2000,3000,4000,5000中 5000最好 越多越好 (1000)kaggle成績最好\n",
    "    \"xgbclassifier__gamma\":[0.9] # np.array(range(1,20,1))/10中 1.4 CV成績最好  但0.9kaggle成績最好\n",
    "    \n",
    "}\n",
    "# GridSearchCV : refit==True 會重新用整個data重新訓練一次\n",
    "gs=GridSearchCV(estimator=clf,\n",
    "               param_grid=param_grid,\n",
    "               scoring={\"f1\": \"f1\", \"f1_weighted accuracy\": \"f1_weighted\"},\n",
    "               refit=\"f1\",\n",
    "                # scoring='f1_weighted',\n",
    "               return_train_score=True,\n",
    "               cv=5,\n",
    "            # cv=TimeSeriesSplit(),#試下來這個比較好(怪怪的)\n",
    "               n_jobs = -1,\n",
    "              )\n",
    "gs=gs.fit(X_sel,y_res)"
   ]
  },
  {
   "cell_type": "markdown",
   "metadata": {},
   "source": [
    "## Recodr Model Training Result"
   ]
  },
  {
   "cell_type": "code",
   "execution_count": 17,
   "metadata": {},
   "outputs": [
    {
     "name": "stdout",
     "output_type": "stream",
     "text": [
      "0.7415097246315121\n"
     ]
    },
    {
     "data": {
      "text/plain": [
       "Pipeline(steps=[('xgbclassifier',\n",
       "                 XGBClassifier(base_score=0.5, booster='gbtree',\n",
       "                               colsample_bylevel=1, colsample_bynode=1,\n",
       "                               colsample_bytree=0.7, enable_categorical=True,\n",
       "                               eval_metric='mlogloss', gamma=0.9, gpu_id=0,\n",
       "                               importance_type=None, interaction_constraints='',\n",
       "                               learning_rate=0.05, max_delta_step=0,\n",
       "                               max_depth=8, min_child_weight=25, missing=nan,\n",
       "                               monotone_constraints='()', n_estimators=1000,\n",
       "                               n_jobs=8, num_parallel_tree=1, predictor='auto',\n",
       "                               random_state=42, reg_alpha=0, reg_lambda=1,\n",
       "                               scale_pos_weight=1, seed=42, subsample=0.8,\n",
       "                               tree_method='gpu_hist', use_label_encoder=False,\n",
       "                               validate_parameters=1, ...))])"
      ]
     },
     "execution_count": 17,
     "metadata": {},
     "output_type": "execute_result"
    }
   ],
   "source": [
    "# print(gs.best_params_)\n",
    "\n",
    "# df=pd.DataFrame(gs.cv_results_)\n",
    "# gs.cv_results_.keys()\n",
    "# gs.best_estimator_\n",
    "# gs.cv_results_.keys()\n",
    "print(gs.best_score_)\n",
    "gs.best_estimator_"
   ]
  },
  {
   "cell_type": "code",
   "execution_count": 18,
   "metadata": {},
   "outputs": [
    {
     "name": "stdout",
     "output_type": "stream",
     "text": [
      "                                      f1  f1_weighted accuracy\n",
      "XGBClassifier+undersample+RFECV  0.74151              0.751037\n"
     ]
    },
    {
     "data": {
      "text/html": [
       "<div>\n",
       "<style scoped>\n",
       "    .dataframe tbody tr th:only-of-type {\n",
       "        vertical-align: middle;\n",
       "    }\n",
       "\n",
       "    .dataframe tbody tr th {\n",
       "        vertical-align: top;\n",
       "    }\n",
       "\n",
       "    .dataframe thead th {\n",
       "        text-align: right;\n",
       "    }\n",
       "</style>\n",
       "<table border=\"1\" class=\"dataframe\">\n",
       "  <thead>\n",
       "    <tr style=\"text-align: right;\">\n",
       "      <th></th>\n",
       "      <th>param_xgbclassifier__n_estimators</th>\n",
       "      <th>param_xgbclassifier__min_child_weight</th>\n",
       "      <th>param_xgbclassifier__subsample</th>\n",
       "      <th>mean_test_f1_weighted accuracy</th>\n",
       "    </tr>\n",
       "  </thead>\n",
       "  <tbody>\n",
       "    <tr>\n",
       "      <th>0</th>\n",
       "      <td>1000</td>\n",
       "      <td>25</td>\n",
       "      <td>0.8</td>\n",
       "      <td>0.751037</td>\n",
       "    </tr>\n",
       "  </tbody>\n",
       "</table>\n",
       "</div>"
      ],
      "text/plain": [
       "  param_xgbclassifier__n_estimators param_xgbclassifier__min_child_weight  \\\n",
       "0                              1000                                    25   \n",
       "\n",
       "  param_xgbclassifier__subsample  mean_test_f1_weighted accuracy  \n",
       "0                            0.8                        0.751037  "
      ]
     },
     "execution_count": 18,
     "metadata": {},
     "output_type": "execute_result"
    }
   ],
   "source": [
    "index=[]\n",
    "index+= [\"XGBClassifier+undersample+RFECV\"]\n",
    "scores = {\"f1\": [], \"f1_weighted accuracy\": []}\n",
    "\n",
    "scores[\"f1\"].append(gs.cv_results_[\"mean_test_f1\"].mean())\n",
    "scores[\"f1_weighted accuracy\"].append(gs.cv_results_[\"mean_test_f1_weighted accuracy\"].mean())\n",
    "\n",
    "df_scores = pd.DataFrame(scores,index)\n",
    "print(df_scores)\n",
    "\n",
    "column_index=['param_xgbclassifier__n_estimators','param_xgbclassifier__min_child_weight','param_xgbclassifier__subsample','mean_test_f1_weighted accuracy']\n",
    "df=pd.DataFrame(gs.cv_results_)\n",
    "# print(df.columns)\n",
    "df[column_index]"
   ]
  },
  {
   "cell_type": "markdown",
   "metadata": {},
   "source": [
    "## Test data 訓練"
   ]
  },
  {
   "cell_type": "code",
   "execution_count": 76,
   "metadata": {},
   "outputs": [
    {
     "data": {
      "text/plain": [
       "(906, 22)"
      ]
     },
     "execution_count": 76,
     "metadata": {},
     "output_type": "execute_result"
    }
   ],
   "source": [
    "## X_test資料愈處理\n",
    "test=pd.read_csv(\"test_covid.csv\")\n",
    "\n",
    "\"\"\"\n",
    "mean_hh_cli_ct                                            4784 non-null   float64\n",
    "pct_worried_finances                                      0 non-null      float64\n",
    "pct_cmnty_cli                                             4804 non-null   float64\n",
    "\n",
    "\"\"\"\n",
    "# test=test.drop(['date', 'state_code', 'gender', 'age_bucket',\"mean_hh_cli_ct\",\"pct_worried_finances\",\"pct_cmnty_cli\"],axis=1)\n",
    "\n",
    "X_test=test.drop([\"date\",\"pct_worried_finances\"],axis=1)\n",
    "X_test=preprocessor.transform(X_test)\n",
    "X_test=feacture_selection(X_test)\n",
    "X_test.shape"
   ]
  },
  {
   "cell_type": "code",
   "execution_count": 77,
   "metadata": {},
   "outputs": [],
   "source": [
    "## 產生submit.csv \n",
    "y_test=gs.best_estimator_.predict(X_test)\n",
    "y_test=y_test.astype(np.int64)\n",
    "col=['test_condition']\n",
    "df=pd.DataFrame(y_test,columns=col)\n",
    "df.to_csv('xgboost.csv', index = True,index_label='id') \n"
   ]
  },
  {
   "cell_type": "markdown",
   "metadata": {},
   "source": [
    "## Record Model Score"
   ]
  },
  {
   "cell_type": "code",
   "execution_count": 23,
   "metadata": {},
   "outputs": [
    {
     "name": "stdout",
     "output_type": "stream",
     "text": [
      "                                       f1  f1_weighted accuracy  kaggle score\n",
      "XGBClassifier+undersample+RFECV  0.747514              0.755499         0.652\n"
     ]
    }
   ],
   "source": [
    "scores.update({\"kaggle score\":[]})\n",
    "scores[\"kaggle score\"].append(0.71081)\n",
    "df_scores = pd.DataFrame(scores,index)\n",
    "print(df_scores)"
   ]
  },
  {
   "cell_type": "code",
   "execution_count": 138,
   "metadata": {},
   "outputs": [],
   "source": [
    "Total_df_scores=pd.read_excel(\"實驗數據\\不同模型分數.xlsx\",index_col=0)\n",
    "Total_df_scores=pd.concat([Total_df_scores,df_scores])\n",
    "Total_df_scores.to_excel(\"實驗數據\\不同模型分數.xlsx\")"
   ]
  },
  {
   "cell_type": "markdown",
   "metadata": {},
   "source": [
    "## Confusion Matrix"
   ]
  },
  {
   "cell_type": "code",
   "execution_count": null,
   "metadata": {},
   "outputs": [
    {
     "data": {
      "image/png": "[encoded data removed]",
      "text/plain": [
       "<Figure size 432x288 with 2 Axes>"
      ]
     },
     "metadata": {},
     "output_type": "display_data"
    },
    {
     "name": "stdout",
     "output_type": "stream",
     "text": [
      "f1_score:  0.7002349781805975\n",
      "accuracy_score:  0.8214\n"
     ]
    }
   ],
   "source": [
    "from sklearn.metrics import confusion_matrix, ConfusionMatrixDisplay\n",
    "from sklearn.metrics import f1_score\n",
    "X_prepro=preprocessor.transform(X)\n",
    "\n",
    "X_prepro=feacture_selection(X_prepro)# 用REFCV的結果，去抓X的Feacture\n",
    "y_pred=gs.best_estimator_.predict(X_prepro)\n",
    "cm=confusion_matrix(y, y_pred)\n",
    "cm = confusion_matrix(y, y_pred)\n",
    "disp = ConfusionMatrixDisplay(confusion_matrix=cm,\n",
    "                              )\n",
    "disp.plot()\n",
    "\n",
    "plt.show()\n",
    "print(\"f1_score:  {}\".format(f1_score(y, y_pred)))\n",
    "from sklearn.metrics import accuracy_score\n",
    "print(\"accuracy_score:  {}\".format(accuracy_score(y, y_pred)))"
   ]
  },
  {
   "cell_type": "code",
   "execution_count": null,
   "metadata": {},
   "outputs": [
    {
     "data": {
      "image/png": "[encoded data removed]",
      "text/plain": [
       "<Figure size 432x288 with 2 Axes>"
      ]
     },
     "metadata": {},
     "output_type": "display_data"
    },
    {
     "name": "stdout",
     "output_type": "stream",
     "text": [
      "f1_score:  0.5314009661835749\n",
      "accuracy_score:  0.8236363636363636\n"
     ]
    }
   ],
   "source": [
    "from sklearn.model_selection import train_test_split\n",
    "from sklearn.metrics import confusion_matrix, ConfusionMatrixDisplay\n",
    "from sklearn.metrics import f1_score\n",
    "clf=xgb.XGBClassifier(base_score=0.5, booster='gbtree',\n",
    "                               colsample_bylevel=1, colsample_bynode=1,\n",
    "                               colsample_bytree=0.7, enable_categorical=True,\n",
    "                               eval_metric='mlogloss',\n",
    "                               gamma=0.9,\n",
    "                               gpu_id=0,\n",
    "                               importance_type=None, interaction_constraints='',\n",
    "                               learning_rate=0.05, max_delta_step=0,\n",
    "                               max_depth=6,\n",
    "                               min_child_weight=25,\n",
    "                               monotone_constraints='()', n_estimators=1000,\n",
    "                               n_jobs=8, num_parallel_tree=1, predictor='auto',\n",
    "                               random_state=42, reg_alpha=0, reg_lambda=1,\n",
    "                               scale_pos_weight=1, seed=42, subsample=0.8,\n",
    "                               tree_method='gpu_hist', use_label_encoder=False,\n",
    "                               validate_parameters=1)\n",
    "X_model=preprocessor.transform(X)\n",
    "\n",
    "X_model=feacture_selection(X_model)\n",
    "X_train, X_test, y_train, y_test = train_test_split(\n",
    "    X_model, y, test_size=0.33, random_state=42)\n",
    "clf.fit(X_train,y_train)\n",
    "y_pred=clf.predict(X_test)\n",
    "cm=confusion_matrix(y_test, y_pred)\n",
    "cm = confusion_matrix(y_test, y_pred)\n",
    "disp = ConfusionMatrixDisplay(confusion_matrix=cm,\n",
    "                              )\n",
    "disp.plot()\n",
    "\n",
    "plt.show()\n",
    "print(\"f1_score:  {}\".format(f1_score(y_test, y_pred)))\n",
    "from sklearn.metrics import accuracy_score\n",
    "print(\"accuracy_score:  {}\".format(accuracy_score(y_test, y_pred)))"
   ]
  }
 ],
 "metadata": {
  "interpreter": {
   "hash": "f2d2a823a038604d853a60f43a5496ac741353b66549770f1041d492ccac9c62"
  },
  "kernelspec": {
   "display_name": "Python 3.9.7 64-bit ('pyml': venv)",
   "name": "python3"
  },
  "language_info": {
   "codemirror_mode": {
    "name": "ipython",
    "version": 3
   },
   "file_extension": ".py",
   "mimetype": "text/x-python",
   "name": "python",
   "nbconvert_exporter": "python",
   "pygments_lexer": "ipython3",
   "version": "3.9.7"
  },
  "orig_nbformat": 4
 },
 "nbformat": 4,
 "nbformat_minor": 2
}
