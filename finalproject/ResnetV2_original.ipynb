{
  "cells": [
    {
      "cell_type": "markdown",
      "metadata": {
        "id": "wK4s_BnWfCUw"
      },
      "source": [
        "**Network architecture**\n",
        "- [ ] Number of hidden layers (network depth) \n",
        "- [ ] Number of neurons in each layer (layer width) \n",
        "- [ ] Activation type \n",
        "\n",
        "**Learning and optimization**\n",
        "- [ ] Learning rate and decay schedule\n",
        "- [ ] Mini-batch size\n",
        "- [ ] Optimization algorithms\n",
        "- [ ] Number of training iterations or epochs (and early stopping criteria)\n",
        "\n",
        "**Regularization techniques to avoid overfitting** \n",
        "- [ ] L2 regularization\n",
        "- [ ] Dropout layers\n",
        "- [ ] Data augmentation\n",
        "- [ ] Batch normalization\n",
        "- [ ] Transfer learning\n"
      ]
    },
    {
      "cell_type": "markdown",
      "metadata": {
        "id": "exf7DUxpKI2K"
      },
      "source": [
        "# 變數\n",
        "- [ ] 圖片大小 600*600\n",
        "- [ ] learning_rate 1e-5\n",
        "- [ ] batchsize 10\n",
        "- [ ] Class weight\n",
        "\n"
      ]
    },
    {
      "cell_type": "markdown",
      "metadata": {
        "id": "Z_FJyA-qmXas"
      },
      "source": [
        "# 紀錄\n",
        "- [ ] val_loss: 0.4730 - val_accuracy: 0.8344(450*450,1e-4)\n",
        "- [ ] val_loss: 0.4667 - val_accuracy: 0.8360(500*500,1e-5)\n",
        "- [ ] loss: 0.3391 - accuracy: 0.8854 - val_loss: 0.4624 - val_accuracy: 0.8425\n",
        "    (600*600, 1e-5)"
      ]
    },
    {
      "cell_type": "code",
      "execution_count": null,
      "metadata": {
        "id": "SIH3DOIAqliU"
      },
      "outputs": [],
      "source": [
        "import numpy as np\n",
        "import pandas as pd\n",
        "import tensorflow as tf\n",
        "import matplotlib.pyplot as plt\n",
        "import os\n",
        "from tensorflow.keras import models\n",
        "from tensorflow.keras import layers\n",
        "from tensorflow.keras.preprocessing import image\n",
        "from sklearn.model_selection import train_test_split\n",
        "from tqdm import tqdm\n",
        "from tensorflow.keras.preprocessing.image import ImageDataGenerator\n",
        "from tensorflow.keras import optimizers"
      ]
    },
    {
      "cell_type": "code",
      "execution_count": null,
      "metadata": {
        "colab": {
          "base_uri": "https://localhost:8080/"
        },
        "id": "cV5h_R6a_G-g",
        "outputId": "881232a1-eb87-455e-ed10-39292ca1518b"
      },
      "outputs": [
        {
          "output_type": "stream",
          "name": "stdout",
          "text": [
            "Mounted at /content/gdrive\n"
          ]
        }
      ],
      "source": [
        "# mount drive\n",
        "from google.colab import drive\n",
        "drive.mount('/content/gdrive')"
      ]
    },
    {
      "cell_type": "code",
      "execution_count": null,
      "metadata": {
        "id": "pMvkk9k6khPE"
      },
      "outputs": [],
      "source": [
        "# select 'add to my drive' on the shared folder\n",
        "\n",
        "root_path = 'gdrive/MyDrive/final_project'\n",
        "train_dir='gdrive/MyDrive/final_project/train/train' #train jpg save place \n",
        "train_df = pd.read_csv(f'{root_path}/train_data.csv')\n",
        "\n",
        "\n",
        "train_df=train_df.append(train_df.loc[1,:],ignore_index=True)\n",
        "train_df['Type'] = train_df['Type'].astype('str') #如果class_mode = 'sparse'要是string要是string"
      ]
    },
    {
      "cell_type": "markdown",
      "metadata": {
        "id": "G3AvFsVxKM1O"
      },
      "source": [
        "## InceptionResNetV2"
      ]
    },
    {
      "cell_type": "code",
      "execution_count": null,
      "metadata": {
        "colab": {
          "base_uri": "https://localhost:8080/"
        },
        "id": "xXsm1aK21Ocg",
        "outputId": "03c5bb5d-9416-4e41-8031-e45c930f2d3d"
      },
      "outputs": [
        {
          "output_type": "stream",
          "name": "stdout",
          "text": [
            "Found 7420 validated image filenames belonging to 4 classes.\n",
            "Found 1860 validated image filenames belonging to 4 classes.\n"
          ]
        }
      ],
      "source": [
        "# Data agumentation and pre-processing using tensorflow\n",
        "train_gen = ImageDataGenerator(   \n",
        "                rotation_range = 15,\n",
        "                zoom_range = 0.15,\n",
        "                width_shift_range=0.1,\n",
        "                height_shift_range=0.1,\n",
        "                shear_range=0.1,\n",
        "                fill_mode='nearest',\n",
        "                rescale=1./255.,\n",
        "                horizontal_flip = True,\n",
        "                validation_split=0.2005 # training: 80% data, validation: 20% data\n",
        "                 )\n",
        "\n",
        "valid_gen = ImageDataGenerator(   \n",
        "                # rotation_range = 40,\n",
        "                # zoom_range = 0.15,\n",
        "                # width_shift_range=0.2,\n",
        "                # height_shift_range=0.2,\n",
        "                # shear_range=0.2,\n",
        "                # fill_mode='nearest',\n",
        "                rescale=1./255.,\n",
        "                # horizontal_flip = True,\n",
        "                validation_split=0.2005 # training: 80% data, validation: 20% data\n",
        "                 )\n",
        "  \n",
        "train_generator = train_gen.flow_from_dataframe(\n",
        "    train_df, # dataframe\n",
        "    directory = train_dir, # images data path / folder in which images are there\n",
        "    x_col = 'Name',\n",
        "    y_col = 'Type',\n",
        "    subset=\"training\",\n",
        "    color_mode=\"rgb\",\n",
        "    target_size = (600,600), # image height , image width\n",
        "    class_mode=\"categorical\",\n",
        "    batch_size=10,\n",
        "    shuffle=True,\n",
        "    seed=42,\n",
        ")\n",
        "  \n",
        "  \n",
        "validation_generator = valid_gen.flow_from_dataframe(\n",
        "    train_df, # dataframe\n",
        "    directory = train_dir, # images data path / folder in which images are there\n",
        "    x_col = 'Name',\n",
        "    y_col = 'Type',\n",
        "    subset=\"validation\",\n",
        "    color_mode=\"rgb\",\n",
        "    target_size = (600,600), # image height , image width\n",
        "    class_mode=\"categorical\",\n",
        "    batch_size=10,\n",
        "    shuffle=True,\n",
        "    seed=42,\n",
        ")"
      ]
    },
    {
      "cell_type": "code",
      "execution_count": null,
      "metadata": {
        "colab": {
          "base_uri": "https://localhost:8080/"
        },
        "id": "XPvuVk2-XLGM",
        "outputId": "730715e0-04ca-415c-f5be-f1b0e88353b1"
      },
      "outputs": [
        {
          "name": "stderr",
          "output_type": "stream",
          "text": [
            "100%|██████████| 742/742 [27:00<00:00,  2.18s/it]\n"
          ]
        }
      ],
      "source": [
        "# train_labels=np.array([])\n",
        "# for i in tqdm(range(train_generator.n//train_generator.batch_size)):\n",
        "#   feat = train_generator[i][-1]\n",
        "#   labels = np.argmax(feat, axis=1)\n",
        "#   train_labels = np.append(train_labels,labels)\n"
      ]
    },
    {
      "cell_type": "code",
      "execution_count": null,
      "metadata": {
        "colab": {
          "base_uri": "https://localhost:8080/"
        },
        "id": "S4WzafAkaZN6",
        "outputId": "61739537-e02a-47fd-c5ba-b06e1659d53e"
      },
      "outputs": [
        {
          "name": "stdout",
          "output_type": "stream",
          "text": [
            "{0.0: 0.8672276764843385, 1.0: 1.3081805359661496, 2.0: 1.1906290115532734, 3.0: 0.8047722342733189}\n"
          ]
        }
      ],
      "source": [
        "# from sklearn.utils import class_weight\n",
        "# ClassWeights = dict(zip(np.unique(train_labels),\n",
        "#                         class_weight.compute_class_weight('balanced',\n",
        "#                                                 classes=np.unique(train_labels),y=train_labels)))\n",
        "# print(ClassWeights) "
      ]
    },
    {
      "cell_type": "code",
      "execution_count": null,
      "metadata": {
        "id": "raVHrssK8HvF"
      },
      "outputs": [],
      "source": [
        "ClassWeights ={0.0: 0.8672276764843385, 1.0: 1.3081805359661496, 2.0: 1.1906290115532734, 3.0: 0.8047722342733189}"
      ]
    },
    {
      "cell_type": "code",
      "execution_count": null,
      "metadata": {
        "id": "JnPkv-IBC0xJ",
        "colab": {
          "base_uri": "https://localhost:8080/"
        },
        "outputId": "24bedbd4-77f1-4d13-d197-f2595bfd304d"
      },
      "outputs": [
        {
          "output_type": "stream",
          "name": "stdout",
          "text": [
            "Downloading data from https://storage.googleapis.com/tensorflow/keras-applications/inception_resnet_v2/inception_resnet_v2_weights_tf_dim_ordering_tf_kernels_notop.h5\n",
            "219062272/219055592 [==============================] - 2s 0us/step\n",
            "219070464/219055592 [==============================] - 2s 0us/step\n"
          ]
        }
      ],
      "source": [
        "from tensorflow.keras import models\n",
        "from tensorflow.keras import layers\n",
        "from tensorflow.keras import optimizers\n",
        "from tensorflow.keras.callbacks import ModelCheckpoint\n",
        "from tensorflow.keras.callbacks import EarlyStopping\n",
        "from tensorflow.keras.callbacks import CSVLogger\n",
        "\n",
        "\n",
        "# load the InceptionResNetV2 architecture with imagenet weights as base\n",
        "base_model = tf.keras.applications.InceptionResNetV2(\n",
        "                     include_top=False,\n",
        "                     weights='imagenet',\n",
        "                     input_shape=(600,600,3)\n",
        "                     )\n",
        "  \n",
        "base_model.trainable=False\n",
        "# For freezing the layer we make use of layer.trainable = False\n",
        "# means that its internal state will not change during training.\n",
        "# model's trainable weights will not be updated during fit(),\n",
        "# and also its state updates will not run.\n",
        "  \n",
        "model = tf.keras.Sequential([ \n",
        "        base_model,   \n",
        "        tf.keras.layers.BatchNormalization(renorm=True),\n",
        "        tf.keras.layers.GlobalAveragePooling2D(),\n",
        "        tf.keras.layers.Dense(128, activation='relu'),\n",
        "        tf.keras.layers.Dropout(0.5),\n",
        "        tf.keras.layers.Dense(256, activation='relu'),\n",
        "        tf.keras.layers.Dropout(0.5),\n",
        "        tf.keras.layers.Dense(4, activation='softmax')\n",
        "    ])\n",
        "\n",
        "opt = optimizers.Adam(learning_rate = 1e-5)\n",
        "\n",
        "model.compile(optimizer=opt,loss='categorical_crossentropy',metrics=['accuracy'])\n",
        "# categorical cross entropy is taken since its used as a loss function for \n",
        "# multi-class classification problems where there are two or more output labels.\n",
        "# using Adam optimizer for better performance\n",
        "# other optimizers such as sgd can also be used depending upon the model\n",
        "\n",
        "log = CSVLogger('gdrive/MyDrive/final_project/code/soil/log3.csv',)\n",
        "\n",
        "mc = ModelCheckpoint(os.path.join('gdrive/MyDrive/final_project/code/soil/resnetV2_augment_lr_600_3.h5'),\n",
        "                     monitor='val_accuracy',\n",
        "                     verbose=1,\n",
        "                     save_best_only=True,\n",
        "                     save_weights_only=True,\n",
        "                     mode='max')\n",
        "\n",
        "early = tf.keras.callbacks.EarlyStopping(  \n",
        "                      #  monitor = 'val_accuracy',\n",
        "                      #  mode = 'max',\n",
        "                       patience=20,\n",
        "                       min_delta=0.0001,\n",
        "                      #  restore_best_weights=True\n",
        "                       )\n",
        "\n",
        "\n",
        "\n",
        "batch_size=10\n",
        "STEP_SIZE_TRAIN = train_generator.n//train_generator.batch_size\n",
        "STEP_SIZE_VALID = validation_generator.n//validation_generator.batch_size\n",
        "  \n"
      ]
    },
    {
      "cell_type": "code",
      "execution_count": null,
      "metadata": {
        "id": "mYG-AbS6xWFe"
      },
      "outputs": [],
      "source": [
        "model.load_weights('gdrive/MyDrive/final_project/code/resnetV2_augment_lr_600.h5')"
      ]
    },
    {
      "cell_type": "code",
      "source": [
        "history2 = model.fit(\n",
        "                    train_generator,\n",
        "                    steps_per_epoch=STEP_SIZE_TRAIN,\n",
        "                    validation_data=validation_generator,\n",
        "                    validation_steps=STEP_SIZE_VALID,\n",
        "                    class_weight = ClassWeights,\n",
        "                    epochs = 10,\n",
        "                    callbacks=[early,mc,log]\n",
        "                    )"
      ],
      "metadata": {
        "colab": {
          "base_uri": "https://localhost:8080/"
        },
        "id": "l_giKnb6TBvb",
        "outputId": "ceede788-7a38-4c88-8cea-895fb819f40e"
      },
      "execution_count": null,
      "outputs": [
        {
          "output_type": "stream",
          "name": "stdout",
          "text": [
            "Epoch 1/10\n",
            "742/742 [==============================] - ETA: 0s - loss: 0.4017 - accuracy: 0.8633\n",
            "Epoch 00001: val_accuracy improved from -inf to 0.83495, saving model to gdrive/MyDrive/final_project/code/resnetV2_augment_lr_600.h5\n",
            "742/742 [==============================] - 4022s 5s/step - loss: 0.4017 - accuracy: 0.8633 - val_loss: 0.4673 - val_accuracy: 0.8349\n",
            "Epoch 2/10\n",
            "742/742 [==============================] - ETA: 0s - loss: 0.4001 - accuracy: 0.8677\n",
            "Epoch 00002: val_accuracy improved from 0.83495 to 0.83548, saving model to gdrive/MyDrive/final_project/code/resnetV2_augment_lr_600.h5\n",
            "742/742 [==============================] - 1078s 1s/step - loss: 0.4001 - accuracy: 0.8677 - val_loss: 0.4641 - val_accuracy: 0.8355\n",
            "Epoch 3/10\n",
            "742/742 [==============================] - ETA: 0s - loss: 0.3913 - accuracy: 0.8670\n",
            "Epoch 00003: val_accuracy improved from 0.83548 to 0.83763, saving model to gdrive/MyDrive/final_project/code/resnetV2_augment_lr_600.h5\n",
            "742/742 [==============================] - 1056s 1s/step - loss: 0.3913 - accuracy: 0.8670 - val_loss: 0.4641 - val_accuracy: 0.8376\n",
            "Epoch 4/10\n",
            "742/742 [==============================] - ETA: 0s - loss: 0.3938 - accuracy: 0.8651\n",
            "Epoch 00004: val_accuracy did not improve from 0.83763\n",
            "742/742 [==============================] - 1065s 1s/step - loss: 0.3938 - accuracy: 0.8651 - val_loss: 0.4659 - val_accuracy: 0.8366\n",
            "Epoch 5/10\n",
            "742/742 [==============================] - ETA: 0s - loss: 0.3843 - accuracy: 0.8685\n",
            "Epoch 00005: val_accuracy did not improve from 0.83763\n",
            "742/742 [==============================] - 1076s 1s/step - loss: 0.3843 - accuracy: 0.8685 - val_loss: 0.4632 - val_accuracy: 0.8371\n",
            "Epoch 6/10\n",
            "742/742 [==============================] - ETA: 0s - loss: 0.3970 - accuracy: 0.8648\n",
            "Epoch 00006: val_accuracy did not improve from 0.83763\n",
            "742/742 [==============================] - 1051s 1s/step - loss: 0.3970 - accuracy: 0.8648 - val_loss: 0.4649 - val_accuracy: 0.8366\n",
            "Epoch 7/10\n",
            "742/742 [==============================] - ETA: 0s - loss: 0.3943 - accuracy: 0.8736\n",
            "Epoch 00007: val_accuracy did not improve from 0.83763\n",
            "742/742 [==============================] - 1080s 1s/step - loss: 0.3943 - accuracy: 0.8736 - val_loss: 0.4646 - val_accuracy: 0.8360\n",
            "Epoch 8/10\n",
            "742/742 [==============================] - ETA: 0s - loss: 0.3795 - accuracy: 0.8704\n",
            "Epoch 00008: val_accuracy did not improve from 0.83763\n",
            "742/742 [==============================] - 1106s 1s/step - loss: 0.3795 - accuracy: 0.8704 - val_loss: 0.4693 - val_accuracy: 0.8328\n",
            "Epoch 9/10\n",
            "742/742 [==============================] - ETA: 0s - loss: 0.3774 - accuracy: 0.8740\n",
            "Epoch 00009: val_accuracy improved from 0.83763 to 0.83925, saving model to gdrive/MyDrive/final_project/code/resnetV2_augment_lr_600.h5\n",
            "742/742 [==============================] - 1092s 1s/step - loss: 0.3774 - accuracy: 0.8740 - val_loss: 0.4645 - val_accuracy: 0.8392\n",
            "Epoch 10/10\n",
            "742/742 [==============================] - ETA: 0s - loss: 0.3888 - accuracy: 0.8701\n",
            "Epoch 00010: val_accuracy did not improve from 0.83925\n",
            "742/742 [==============================] - 1072s 1s/step - loss: 0.3888 - accuracy: 0.8701 - val_loss: 0.4646 - val_accuracy: 0.8382\n"
          ]
        }
      ]
    },
    {
      "cell_type": "code",
      "source": [
        "model.load_weights('gdrive/MyDrive/final_project/code/resnetV2_augment_lr_600.h5')"
      ],
      "metadata": {
        "id": "urH7uOkZnw55"
      },
      "execution_count": null,
      "outputs": []
    },
    {
      "cell_type": "code",
      "source": [
        "history = model.fit(\n",
        "                    train_generator,\n",
        "                    steps_per_epoch=STEP_SIZE_TRAIN,\n",
        "                    validation_data=validation_generator,\n",
        "                    validation_steps=STEP_SIZE_VALID,\n",
        "                    class_weight = ClassWeights,\n",
        "                    epochs = 50,\n",
        "                    callbacks=[early,mc,log]\n",
        "                    )"
      ],
      "metadata": {
        "colab": {
          "base_uri": "https://localhost:8080/"
        },
        "id": "5sKVh-AfaMY6",
        "outputId": "9093a516-28d1-4feb-a14d-11807317b1f2"
      },
      "execution_count": null,
      "outputs": [
        {
          "output_type": "stream",
          "name": "stdout",
          "text": [
            "Epoch 1/50\n",
            "742/742 [==============================] - ETA: 0s - loss: 0.3863 - accuracy: 0.8761\n",
            "Epoch 00001: val_accuracy improved from -inf to 0.83871, saving model to gdrive/MyDrive/final_project/code/soil/resnetV2_augment_lr_600_3.h5\n",
            "742/742 [==============================] - 2740s 4s/step - loss: 0.3863 - accuracy: 0.8761 - val_loss: 0.4646 - val_accuracy: 0.8387\n",
            "Epoch 2/50\n",
            "742/742 [==============================] - ETA: 0s - loss: 0.3770 - accuracy: 0.8764\n",
            "Epoch 00002: val_accuracy did not improve from 0.83871\n",
            "742/742 [==============================] - 683s 921ms/step - loss: 0.3770 - accuracy: 0.8764 - val_loss: 0.4662 - val_accuracy: 0.8355\n",
            "Epoch 3/50\n",
            "742/742 [==============================] - ETA: 0s - loss: 0.3808 - accuracy: 0.8681\n",
            "Epoch 00003: val_accuracy did not improve from 0.83871\n",
            "742/742 [==============================] - 688s 927ms/step - loss: 0.3808 - accuracy: 0.8681 - val_loss: 0.4636 - val_accuracy: 0.8360\n",
            "Epoch 4/50\n",
            "742/742 [==============================] - ETA: 0s - loss: 0.3721 - accuracy: 0.8709\n",
            "Epoch 00004: val_accuracy did not improve from 0.83871\n",
            "742/742 [==============================] - 682s 919ms/step - loss: 0.3721 - accuracy: 0.8709 - val_loss: 0.4651 - val_accuracy: 0.8382\n",
            "Epoch 5/50\n",
            "742/742 [==============================] - ETA: 0s - loss: 0.3704 - accuracy: 0.8743\n",
            "Epoch 00005: val_accuracy did not improve from 0.83871\n",
            "742/742 [==============================] - 681s 917ms/step - loss: 0.3704 - accuracy: 0.8743 - val_loss: 0.4661 - val_accuracy: 0.8382\n",
            "Epoch 6/50\n",
            "742/742 [==============================] - ETA: 0s - loss: 0.3686 - accuracy: 0.8760\n",
            "Epoch 00006: val_accuracy did not improve from 0.83871\n",
            "742/742 [==============================] - 678s 913ms/step - loss: 0.3686 - accuracy: 0.8760 - val_loss: 0.4678 - val_accuracy: 0.8355\n",
            "Epoch 7/50\n",
            "742/742 [==============================] - ETA: 0s - loss: 0.3734 - accuracy: 0.8736\n",
            "Epoch 00007: val_accuracy did not improve from 0.83871\n",
            "742/742 [==============================] - 681s 918ms/step - loss: 0.3734 - accuracy: 0.8736 - val_loss: 0.4666 - val_accuracy: 0.8371\n",
            "Epoch 8/50\n",
            "742/742 [==============================] - ETA: 0s - loss: 0.3677 - accuracy: 0.8743\n",
            "Epoch 00008: val_accuracy did not improve from 0.83871\n",
            "742/742 [==============================] - 683s 920ms/step - loss: 0.3677 - accuracy: 0.8743 - val_loss: 0.4658 - val_accuracy: 0.8355\n",
            "Epoch 9/50\n",
            "742/742 [==============================] - ETA: 0s - loss: 0.3748 - accuracy: 0.8724\n",
            "Epoch 00009: val_accuracy did not improve from 0.83871\n",
            "742/742 [==============================] - 683s 921ms/step - loss: 0.3748 - accuracy: 0.8724 - val_loss: 0.4674 - val_accuracy: 0.8371\n",
            "Epoch 10/50\n",
            "742/742 [==============================] - ETA: 0s - loss: 0.3770 - accuracy: 0.8718\n",
            "Epoch 00010: val_accuracy did not improve from 0.83871\n",
            "742/742 [==============================] - 687s 925ms/step - loss: 0.3770 - accuracy: 0.8718 - val_loss: 0.4643 - val_accuracy: 0.8387\n",
            "Epoch 11/50\n",
            "742/742 [==============================] - ETA: 0s - loss: 0.3640 - accuracy: 0.8756\n",
            "Epoch 00011: val_accuracy did not improve from 0.83871\n",
            "742/742 [==============================] - 681s 917ms/step - loss: 0.3640 - accuracy: 0.8756 - val_loss: 0.4618 - val_accuracy: 0.8387\n",
            "Epoch 12/50\n",
            "742/742 [==============================] - ETA: 0s - loss: 0.3744 - accuracy: 0.8759\n",
            "Epoch 00012: val_accuracy did not improve from 0.83871\n",
            "742/742 [==============================] - 689s 929ms/step - loss: 0.3744 - accuracy: 0.8759 - val_loss: 0.4624 - val_accuracy: 0.8387\n",
            "Epoch 13/50\n",
            "742/742 [==============================] - ETA: 0s - loss: 0.3635 - accuracy: 0.8765\n",
            "Epoch 00013: val_accuracy improved from 0.83871 to 0.83925, saving model to gdrive/MyDrive/final_project/code/soil/resnetV2_augment_lr_600_3.h5\n",
            "742/742 [==============================] - 691s 931ms/step - loss: 0.3635 - accuracy: 0.8765 - val_loss: 0.4626 - val_accuracy: 0.8392\n",
            "Epoch 14/50\n",
            "742/742 [==============================] - ETA: 0s - loss: 0.3701 - accuracy: 0.8775\n",
            "Epoch 00014: val_accuracy did not improve from 0.83925\n",
            "742/742 [==============================] - 693s 933ms/step - loss: 0.3701 - accuracy: 0.8775 - val_loss: 0.4654 - val_accuracy: 0.8371\n",
            "Epoch 15/50\n",
            "742/742 [==============================] - ETA: 0s - loss: 0.3640 - accuracy: 0.8767\n",
            "Epoch 00015: val_accuracy did not improve from 0.83925\n",
            "742/742 [==============================] - 688s 927ms/step - loss: 0.3640 - accuracy: 0.8767 - val_loss: 0.4624 - val_accuracy: 0.8387\n",
            "Epoch 16/50\n",
            "742/742 [==============================] - ETA: 0s - loss: 0.3583 - accuracy: 0.8805\n",
            "Epoch 00016: val_accuracy did not improve from 0.83925\n",
            "742/742 [==============================] - 683s 920ms/step - loss: 0.3583 - accuracy: 0.8805 - val_loss: 0.4649 - val_accuracy: 0.8382\n",
            "Epoch 17/50\n",
            "742/742 [==============================] - ETA: 0s - loss: 0.3561 - accuracy: 0.8768\n",
            "Epoch 00017: val_accuracy did not improve from 0.83925\n",
            "742/742 [==============================] - 688s 927ms/step - loss: 0.3561 - accuracy: 0.8768 - val_loss: 0.4620 - val_accuracy: 0.8387\n",
            "Epoch 18/50\n",
            "742/742 [==============================] - ETA: 0s - loss: 0.3606 - accuracy: 0.8810\n",
            "Epoch 00018: val_accuracy did not improve from 0.83925\n",
            "742/742 [==============================] - 686s 925ms/step - loss: 0.3606 - accuracy: 0.8810 - val_loss: 0.4613 - val_accuracy: 0.8382\n",
            "Epoch 19/50\n",
            "742/742 [==============================] - ETA: 0s - loss: 0.3619 - accuracy: 0.8755\n",
            "Epoch 00019: val_accuracy did not improve from 0.83925\n",
            "742/742 [==============================] - 686s 924ms/step - loss: 0.3619 - accuracy: 0.8755 - val_loss: 0.4638 - val_accuracy: 0.8387\n",
            "Epoch 20/50\n",
            "742/742 [==============================] - ETA: 0s - loss: 0.3617 - accuracy: 0.8823\n",
            "Epoch 00020: val_accuracy improved from 0.83925 to 0.84032, saving model to gdrive/MyDrive/final_project/code/soil/resnetV2_augment_lr_600_3.h5\n",
            "742/742 [==============================] - 688s 927ms/step - loss: 0.3617 - accuracy: 0.8823 - val_loss: 0.4619 - val_accuracy: 0.8403\n",
            "Epoch 21/50\n",
            "742/742 [==============================] - ETA: 0s - loss: 0.3583 - accuracy: 0.8776\n",
            "Epoch 00021: val_accuracy improved from 0.84032 to 0.84140, saving model to gdrive/MyDrive/final_project/code/soil/resnetV2_augment_lr_600_3.h5\n",
            "742/742 [==============================] - 685s 923ms/step - loss: 0.3583 - accuracy: 0.8776 - val_loss: 0.4616 - val_accuracy: 0.8414\n",
            "Epoch 22/50\n",
            "742/742 [==============================] - ETA: 0s - loss: 0.3591 - accuracy: 0.8774\n",
            "Epoch 00022: val_accuracy did not improve from 0.84140\n",
            "742/742 [==============================] - 689s 928ms/step - loss: 0.3591 - accuracy: 0.8774 - val_loss: 0.4641 - val_accuracy: 0.8398\n",
            "Epoch 23/50\n",
            "742/742 [==============================] - ETA: 0s - loss: 0.3554 - accuracy: 0.8814\n",
            "Epoch 00023: val_accuracy did not improve from 0.84140\n",
            "742/742 [==============================] - 687s 926ms/step - loss: 0.3554 - accuracy: 0.8814 - val_loss: 0.4585 - val_accuracy: 0.8392\n",
            "Epoch 24/50\n",
            "742/742 [==============================] - ETA: 0s - loss: 0.3482 - accuracy: 0.8834\n",
            "Epoch 00024: val_accuracy did not improve from 0.84140\n",
            "742/742 [==============================] - 688s 927ms/step - loss: 0.3482 - accuracy: 0.8834 - val_loss: 0.4621 - val_accuracy: 0.8403\n",
            "Epoch 25/50\n",
            "742/742 [==============================] - ETA: 0s - loss: 0.3441 - accuracy: 0.8829\n",
            "Epoch 00025: val_accuracy did not improve from 0.84140\n",
            "742/742 [==============================] - 690s 929ms/step - loss: 0.3441 - accuracy: 0.8829 - val_loss: 0.4622 - val_accuracy: 0.8382\n",
            "Epoch 26/50\n",
            "742/742 [==============================] - ETA: 0s - loss: 0.3487 - accuracy: 0.8801\n",
            "Epoch 00026: val_accuracy did not improve from 0.84140\n",
            "742/742 [==============================] - 683s 920ms/step - loss: 0.3487 - accuracy: 0.8801 - val_loss: 0.4651 - val_accuracy: 0.8382\n",
            "Epoch 27/50\n",
            "742/742 [==============================] - ETA: 0s - loss: 0.3520 - accuracy: 0.8807\n",
            "Epoch 00027: val_accuracy did not improve from 0.84140\n",
            "742/742 [==============================] - 689s 929ms/step - loss: 0.3520 - accuracy: 0.8807 - val_loss: 0.4637 - val_accuracy: 0.8392\n",
            "Epoch 28/50\n",
            "742/742 [==============================] - ETA: 0s - loss: 0.3469 - accuracy: 0.8818\n",
            "Epoch 00028: val_accuracy did not improve from 0.84140\n",
            "742/742 [==============================] - 688s 927ms/step - loss: 0.3469 - accuracy: 0.8818 - val_loss: 0.4658 - val_accuracy: 0.8392\n",
            "Epoch 29/50\n",
            "742/742 [==============================] - ETA: 0s - loss: 0.3492 - accuracy: 0.8763\n",
            "Epoch 00029: val_accuracy did not improve from 0.84140\n",
            "742/742 [==============================] - 688s 927ms/step - loss: 0.3492 - accuracy: 0.8763 - val_loss: 0.4645 - val_accuracy: 0.8409\n",
            "Epoch 30/50\n",
            "742/742 [==============================] - ETA: 0s - loss: 0.3457 - accuracy: 0.8832\n",
            "Epoch 00030: val_accuracy did not improve from 0.84140\n",
            "742/742 [==============================] - 691s 931ms/step - loss: 0.3457 - accuracy: 0.8832 - val_loss: 0.4669 - val_accuracy: 0.8376\n",
            "Epoch 31/50\n",
            "742/742 [==============================] - ETA: 0s - loss: 0.3480 - accuracy: 0.8845\n",
            "Epoch 00031: val_accuracy did not improve from 0.84140\n",
            "742/742 [==============================] - 684s 922ms/step - loss: 0.3480 - accuracy: 0.8845 - val_loss: 0.4672 - val_accuracy: 0.8387\n",
            "Epoch 32/50\n",
            "742/742 [==============================] - ETA: 0s - loss: 0.3367 - accuracy: 0.8873\n",
            "Epoch 00032: val_accuracy did not improve from 0.84140\n",
            "742/742 [==============================] - 691s 932ms/step - loss: 0.3367 - accuracy: 0.8873 - val_loss: 0.4664 - val_accuracy: 0.8409\n",
            "Epoch 33/50\n",
            "742/742 [==============================] - ETA: 0s - loss: 0.3509 - accuracy: 0.8850\n",
            "Epoch 00033: val_accuracy did not improve from 0.84140\n",
            "742/742 [==============================] - 692s 933ms/step - loss: 0.3509 - accuracy: 0.8850 - val_loss: 0.4648 - val_accuracy: 0.8414\n",
            "Epoch 34/50\n",
            "742/742 [==============================] - ETA: 0s - loss: 0.3508 - accuracy: 0.8791\n",
            "Epoch 00034: val_accuracy did not improve from 0.84140\n",
            "742/742 [==============================] - 694s 935ms/step - loss: 0.3508 - accuracy: 0.8791 - val_loss: 0.4677 - val_accuracy: 0.8392\n",
            "Epoch 35/50\n",
            "742/742 [==============================] - ETA: 0s - loss: 0.3409 - accuracy: 0.8849\n",
            "Epoch 00035: val_accuracy improved from 0.84140 to 0.84194, saving model to gdrive/MyDrive/final_project/code/soil/resnetV2_augment_lr_600_3.h5\n",
            "742/742 [==============================] - 691s 931ms/step - loss: 0.3409 - accuracy: 0.8849 - val_loss: 0.4619 - val_accuracy: 0.8419\n",
            "Epoch 36/50\n",
            "742/742 [==============================] - ETA: 0s - loss: 0.3391 - accuracy: 0.8854\n",
            "Epoch 00036: val_accuracy improved from 0.84194 to 0.84247, saving model to gdrive/MyDrive/final_project/code/soil/resnetV2_augment_lr_600_3.h5\n",
            "742/742 [==============================] - 688s 927ms/step - loss: 0.3391 - accuracy: 0.8854 - val_loss: 0.4624 - val_accuracy: 0.8425\n",
            "Epoch 37/50\n",
            "742/742 [==============================] - ETA: 0s - loss: 0.3335 - accuracy: 0.8841\n",
            "Epoch 00037: val_accuracy did not improve from 0.84247\n",
            "742/742 [==============================] - 688s 927ms/step - loss: 0.3335 - accuracy: 0.8841 - val_loss: 0.4608 - val_accuracy: 0.8409\n",
            "Epoch 38/50\n",
            "742/742 [==============================] - ETA: 0s - loss: 0.3403 - accuracy: 0.8852\n",
            "Epoch 00038: val_accuracy did not improve from 0.84247\n",
            "742/742 [==============================] - 687s 925ms/step - loss: 0.3403 - accuracy: 0.8852 - val_loss: 0.4673 - val_accuracy: 0.8425\n",
            "Epoch 39/50\n",
            "742/742 [==============================] - ETA: 0s - loss: 0.3270 - accuracy: 0.8903\n",
            "Epoch 00039: val_accuracy did not improve from 0.84247\n",
            "742/742 [==============================] - 687s 926ms/step - loss: 0.3270 - accuracy: 0.8903 - val_loss: 0.4673 - val_accuracy: 0.8403\n",
            "Epoch 40/50\n",
            "742/742 [==============================] - ETA: 0s - loss: 0.3422 - accuracy: 0.8844\n",
            "Epoch 00040: val_accuracy did not improve from 0.84247\n",
            "742/742 [==============================] - 686s 924ms/step - loss: 0.3422 - accuracy: 0.8844 - val_loss: 0.4663 - val_accuracy: 0.8409\n",
            "Epoch 41/50\n",
            "539/742 [====================>.........] - ETA: 2:53 - loss: 0.3382 - accuracy: 0.8813"
          ]
        }
      ]
    },
    {
      "cell_type": "code",
      "source": [
        "model.load_weights('gdrive/MyDrive/final_project/code/soil/resnetV2_augment_lr_600_3.h5')"
      ],
      "metadata": {
        "id": "-OxrCRDbwGq-"
      },
      "execution_count": null,
      "outputs": []
    },
    {
      "cell_type": "code",
      "execution_count": null,
      "metadata": {
        "id": "lH_5rEHnC3Vw"
      },
      "outputs": [],
      "source": [
        "import matplotlib.pyplot as plt\n",
        "\n",
        "\n",
        "# store results\n",
        "acc = history.history['accuracy']\n",
        "val_acc = history.history['val_accuracy']\n",
        "loss = history.history['loss']\n",
        "val_loss = history.history['val_loss']\n",
        "  \n",
        "  \n",
        "# plot results\n",
        "# accuracy\n",
        "plt.figure(figsize=(10, 16))\n",
        "plt.rcParams['figure.figsize'] = [16, 9]\n",
        "plt.rcParams['font.size'] = 14\n",
        "plt.rcParams['axes.grid'] = True\n",
        "plt.rcParams['figure.facecolor'] = 'white'\n",
        "plt.subplot(2, 1, 1)\n",
        "plt.plot(acc, label='Training Accuracy')\n",
        "plt.plot(val_acc, label='Validation Accuracy')\n",
        "plt.legend(loc='lower right')\n",
        "plt.ylabel('Accuracy')\n",
        "plt.title(f'\\nTraining and Validation Accuracy. \\nTrain Accuracy: {str(acc[-1])}\\nValidation Accuracy: {str(val_acc[-1])}')"
      ]
    },
    {
      "cell_type": "code",
      "execution_count": null,
      "metadata": {
        "id": "BV_et3SWeoUY"
      },
      "outputs": [],
      "source": [
        "# loss\n",
        "plt.subplot(2, 1, 2)\n",
        "plt.plot(loss, label='Training Loss')\n",
        "plt.plot(val_loss, label='Validation Loss')\n",
        "plt.legend(loc='upper right')\n",
        "plt.ylabel('Cross Entropy')\n",
        "plt.title(f'Training and Validation Loss. \\nTrain Loss: {str(loss[-1])}\\nValidation Loss: {str(val_loss[-1])}')\n",
        "plt.xlabel('epoch')\n",
        "plt.tight_layout(pad=3.0)\n",
        "plt.show()"
      ]
    },
    {
      "cell_type": "code",
      "execution_count": null,
      "metadata": {
        "id": "D9P6nHhlYk3L",
        "colab": {
          "base_uri": "https://localhost:8080/"
        },
        "outputId": "45ee4c16-af34-43a6-ae8a-bf9ed73681ae"
      },
      "outputs": [
        {
          "output_type": "stream",
          "name": "stdout",
          "text": [
            "Found 2800 validated image filenames.\n"
          ]
        }
      ],
      "source": [
        "# testing data extract features\n",
        "test_files = pd.read_csv('/content/gdrive/MyDrive/final_project/sample_output.csv')\n",
        "test_files['Type'] = test_files['Type'].astype('str')\n",
        "test_dir='gdrive/MyDrive/final_project/test/test'\n",
        "\n",
        "test_datagen = ImageDataGenerator(rescale=1./255)\n",
        "testing_generator = test_datagen.flow_from_dataframe(\n",
        "    dataframe = test_files,\n",
        "    directory = test_dir,\n",
        "    target_size = (500,500),\n",
        "    x_col = 'Name',\n",
        "    y_col = 'Type',\n",
        "    batch_size = 10,\n",
        "    class_mode = None,\n",
        "    shuffle = False\n",
        ")"
      ]
    },
    {
      "cell_type": "code",
      "execution_count": null,
      "metadata": {
        "id": "wjs2Hqf_ZBue"
      },
      "outputs": [],
      "source": [
        "pred = model.predict(testing_generator)"
      ]
    },
    {
      "cell_type": "code",
      "execution_count": null,
      "metadata": {
        "id": "jp57VVT-byZt",
        "colab": {
          "base_uri": "https://localhost:8080/",
          "height": 424
        },
        "outputId": "ba15199f-e821-4c28-e18d-48a2818773ba"
      },
      "outputs": [
        {
          "output_type": "execute_result",
          "data": {
            "text/html": [
              "\n",
              "  <div id=\"df-c9dc5195-c8c2-40d8-94c9-79bd9084aaca\">\n",
              "    <div class=\"colab-df-container\">\n",
              "      <div>\n",
              "<style scoped>\n",
              "    .dataframe tbody tr th:only-of-type {\n",
              "        vertical-align: middle;\n",
              "    }\n",
              "\n",
              "    .dataframe tbody tr th {\n",
              "        vertical-align: top;\n",
              "    }\n",
              "\n",
              "    .dataframe thead th {\n",
              "        text-align: right;\n",
              "    }\n",
              "</style>\n",
              "<table border=\"1\" class=\"dataframe\">\n",
              "  <thead>\n",
              "    <tr style=\"text-align: right;\">\n",
              "      <th></th>\n",
              "      <th>0</th>\n",
              "    </tr>\n",
              "  </thead>\n",
              "  <tbody>\n",
              "    <tr>\n",
              "      <th>0</th>\n",
              "      <td>3</td>\n",
              "    </tr>\n",
              "    <tr>\n",
              "      <th>1</th>\n",
              "      <td>1</td>\n",
              "    </tr>\n",
              "    <tr>\n",
              "      <th>2</th>\n",
              "      <td>0</td>\n",
              "    </tr>\n",
              "    <tr>\n",
              "      <th>3</th>\n",
              "      <td>0</td>\n",
              "    </tr>\n",
              "    <tr>\n",
              "      <th>4</th>\n",
              "      <td>0</td>\n",
              "    </tr>\n",
              "    <tr>\n",
              "      <th>...</th>\n",
              "      <td>...</td>\n",
              "    </tr>\n",
              "    <tr>\n",
              "      <th>2795</th>\n",
              "      <td>3</td>\n",
              "    </tr>\n",
              "    <tr>\n",
              "      <th>2796</th>\n",
              "      <td>2</td>\n",
              "    </tr>\n",
              "    <tr>\n",
              "      <th>2797</th>\n",
              "      <td>3</td>\n",
              "    </tr>\n",
              "    <tr>\n",
              "      <th>2798</th>\n",
              "      <td>3</td>\n",
              "    </tr>\n",
              "    <tr>\n",
              "      <th>2799</th>\n",
              "      <td>0</td>\n",
              "    </tr>\n",
              "  </tbody>\n",
              "</table>\n",
              "<p>2800 rows × 1 columns</p>\n",
              "</div>\n",
              "      <button class=\"colab-df-convert\" onclick=\"convertToInteractive('df-c9dc5195-c8c2-40d8-94c9-79bd9084aaca')\"\n",
              "              title=\"Convert this dataframe to an interactive table.\"\n",
              "              style=\"display:none;\">\n",
              "        \n",
              "  <svg xmlns=\"http://www.w3.org/2000/svg\" height=\"24px\"viewBox=\"0 0 24 24\"\n",
              "       width=\"24px\">\n",
              "    <path d=\"M0 0h24v24H0V0z\" fill=\"none\"/>\n",
              "    <path d=\"M18.56 5.44l.94 2.06.94-2.06 2.06-.94-2.06-.94-.94-2.06-.94 2.06-2.06.94zm-11 1L8.5 8.5l.94-2.06 2.06-.94-2.06-.94L8.5 2.5l-.94 2.06-2.06.94zm10 10l.94 2.06.94-2.06 2.06-.94-2.06-.94-.94-2.06-.94 2.06-2.06.94z\"/><path d=\"M17.41 7.96l-1.37-1.37c-.4-.4-.92-.59-1.43-.59-.52 0-1.04.2-1.43.59L10.3 9.45l-7.72 7.72c-.78.78-.78 2.05 0 2.83L4 21.41c.39.39.9.59 1.41.59.51 0 1.02-.2 1.41-.59l7.78-7.78 2.81-2.81c.8-.78.8-2.07 0-2.86zM5.41 20L4 18.59l7.72-7.72 1.47 1.35L5.41 20z\"/>\n",
              "  </svg>\n",
              "      </button>\n",
              "      \n",
              "  <style>\n",
              "    .colab-df-container {\n",
              "      display:flex;\n",
              "      flex-wrap:wrap;\n",
              "      gap: 12px;\n",
              "    }\n",
              "\n",
              "    .colab-df-convert {\n",
              "      background-color: #E8F0FE;\n",
              "      border: none;\n",
              "      border-radius: 50%;\n",
              "      cursor: pointer;\n",
              "      display: none;\n",
              "      fill: #1967D2;\n",
              "      height: 32px;\n",
              "      padding: 0 0 0 0;\n",
              "      width: 32px;\n",
              "    }\n",
              "\n",
              "    .colab-df-convert:hover {\n",
              "      background-color: #E2EBFA;\n",
              "      box-shadow: 0px 1px 2px rgba(60, 64, 67, 0.3), 0px 1px 3px 1px rgba(60, 64, 67, 0.15);\n",
              "      fill: #174EA6;\n",
              "    }\n",
              "\n",
              "    [theme=dark] .colab-df-convert {\n",
              "      background-color: #3B4455;\n",
              "      fill: #D2E3FC;\n",
              "    }\n",
              "\n",
              "    [theme=dark] .colab-df-convert:hover {\n",
              "      background-color: #434B5C;\n",
              "      box-shadow: 0px 1px 3px 1px rgba(0, 0, 0, 0.15);\n",
              "      filter: drop-shadow(0px 1px 2px rgba(0, 0, 0, 0.3));\n",
              "      fill: #FFFFFF;\n",
              "    }\n",
              "  </style>\n",
              "\n",
              "      <script>\n",
              "        const buttonEl =\n",
              "          document.querySelector('#df-c9dc5195-c8c2-40d8-94c9-79bd9084aaca button.colab-df-convert');\n",
              "        buttonEl.style.display =\n",
              "          google.colab.kernel.accessAllowed ? 'block' : 'none';\n",
              "\n",
              "        async function convertToInteractive(key) {\n",
              "          const element = document.querySelector('#df-c9dc5195-c8c2-40d8-94c9-79bd9084aaca');\n",
              "          const dataTable =\n",
              "            await google.colab.kernel.invokeFunction('convertToInteractive',\n",
              "                                                     [key], {});\n",
              "          if (!dataTable) return;\n",
              "\n",
              "          const docLinkHtml = 'Like what you see? Visit the ' +\n",
              "            '<a target=\"_blank\" href=https://colab.research.google.com/notebooks/data_table.ipynb>data table notebook</a>'\n",
              "            + ' to learn more about interactive tables.';\n",
              "          element.innerHTML = '';\n",
              "          dataTable['output_type'] = 'display_data';\n",
              "          await google.colab.output.renderOutput(dataTable, element);\n",
              "          const docLink = document.createElement('div');\n",
              "          docLink.innerHTML = docLinkHtml;\n",
              "          element.appendChild(docLink);\n",
              "        }\n",
              "      </script>\n",
              "    </div>\n",
              "  </div>\n",
              "  "
            ],
            "text/plain": [
              "      0\n",
              "0     3\n",
              "1     1\n",
              "2     0\n",
              "3     0\n",
              "4     0\n",
              "...  ..\n",
              "2795  3\n",
              "2796  2\n",
              "2797  3\n",
              "2798  3\n",
              "2799  0\n",
              "\n",
              "[2800 rows x 1 columns]"
            ]
          },
          "metadata": {},
          "execution_count": 11
        }
      ],
      "source": [
        "pred = np.argmax(pred, axis=1)\n",
        "pd.DataFrame(pred)"
      ]
    },
    {
      "cell_type": "markdown",
      "metadata": {
        "id": "g4QdSK4mC3h8"
      },
      "source": [
        "## export output csv"
      ]
    },
    {
      "cell_type": "code",
      "execution_count": null,
      "metadata": {
        "id": "aHgwOAjfC6B6",
        "colab": {
          "base_uri": "https://localhost:8080/",
          "height": 424
        },
        "outputId": "a1ecca7c-7774-4858-f0f5-7aa443a427f2"
      },
      "outputs": [
        {
          "output_type": "execute_result",
          "data": {
            "text/html": [
              "\n",
              "  <div id=\"df-88459ee9-2ae2-4efb-a800-cb9c7bb65986\">\n",
              "    <div class=\"colab-df-container\">\n",
              "      <div>\n",
              "<style scoped>\n",
              "    .dataframe tbody tr th:only-of-type {\n",
              "        vertical-align: middle;\n",
              "    }\n",
              "\n",
              "    .dataframe tbody tr th {\n",
              "        vertical-align: top;\n",
              "    }\n",
              "\n",
              "    .dataframe thead th {\n",
              "        text-align: right;\n",
              "    }\n",
              "</style>\n",
              "<table border=\"1\" class=\"dataframe\">\n",
              "  <thead>\n",
              "    <tr style=\"text-align: right;\">\n",
              "      <th></th>\n",
              "      <th>Name</th>\n",
              "      <th>Type</th>\n",
              "    </tr>\n",
              "  </thead>\n",
              "  <tbody>\n",
              "    <tr>\n",
              "      <th>0</th>\n",
              "      <td>000d70d25191ad64f00ca88a227c5985.jpg</td>\n",
              "      <td>3</td>\n",
              "    </tr>\n",
              "    <tr>\n",
              "      <th>1</th>\n",
              "      <td>0030def9579a3cb2f5d334dee7a1fb78.jpg</td>\n",
              "      <td>1</td>\n",
              "    </tr>\n",
              "    <tr>\n",
              "      <th>2</th>\n",
              "      <td>00323f13dd4c931d2b98382318fff36f.jpg</td>\n",
              "      <td>0</td>\n",
              "    </tr>\n",
              "    <tr>\n",
              "      <th>3</th>\n",
              "      <td>0047247f1be33a5a0cee4470760dcdf7.jpg</td>\n",
              "      <td>0</td>\n",
              "    </tr>\n",
              "    <tr>\n",
              "      <th>4</th>\n",
              "      <td>006ef2a336bd15f53b50440837a847b2.jpg</td>\n",
              "      <td>0</td>\n",
              "    </tr>\n",
              "    <tr>\n",
              "      <th>...</th>\n",
              "      <td>...</td>\n",
              "      <td>...</td>\n",
              "    </tr>\n",
              "    <tr>\n",
              "      <th>2795</th>\n",
              "      <td>ffa9fa81f310f5127c638b614a5a6034.jpg</td>\n",
              "      <td>3</td>\n",
              "    </tr>\n",
              "    <tr>\n",
              "      <th>2796</th>\n",
              "      <td>ffc3fa52be8106b071dbb4d45dab5041.jpg</td>\n",
              "      <td>2</td>\n",
              "    </tr>\n",
              "    <tr>\n",
              "      <th>2797</th>\n",
              "      <td>ffdc0dbd42650ace9a1be2c0d11bfa73.jpg</td>\n",
              "      <td>3</td>\n",
              "    </tr>\n",
              "    <tr>\n",
              "      <th>2798</th>\n",
              "      <td>ffed19041a89c1e6d9551d43d4584bc1.jpg</td>\n",
              "      <td>3</td>\n",
              "    </tr>\n",
              "    <tr>\n",
              "      <th>2799</th>\n",
              "      <td>fffcb9f1a43b0c841a4fc5614cd0844f.jpg</td>\n",
              "      <td>0</td>\n",
              "    </tr>\n",
              "  </tbody>\n",
              "</table>\n",
              "<p>2800 rows × 2 columns</p>\n",
              "</div>\n",
              "      <button class=\"colab-df-convert\" onclick=\"convertToInteractive('df-88459ee9-2ae2-4efb-a800-cb9c7bb65986')\"\n",
              "              title=\"Convert this dataframe to an interactive table.\"\n",
              "              style=\"display:none;\">\n",
              "        \n",
              "  <svg xmlns=\"http://www.w3.org/2000/svg\" height=\"24px\"viewBox=\"0 0 24 24\"\n",
              "       width=\"24px\">\n",
              "    <path d=\"M0 0h24v24H0V0z\" fill=\"none\"/>\n",
              "    <path d=\"M18.56 5.44l.94 2.06.94-2.06 2.06-.94-2.06-.94-.94-2.06-.94 2.06-2.06.94zm-11 1L8.5 8.5l.94-2.06 2.06-.94-2.06-.94L8.5 2.5l-.94 2.06-2.06.94zm10 10l.94 2.06.94-2.06 2.06-.94-2.06-.94-.94-2.06-.94 2.06-2.06.94z\"/><path d=\"M17.41 7.96l-1.37-1.37c-.4-.4-.92-.59-1.43-.59-.52 0-1.04.2-1.43.59L10.3 9.45l-7.72 7.72c-.78.78-.78 2.05 0 2.83L4 21.41c.39.39.9.59 1.41.59.51 0 1.02-.2 1.41-.59l7.78-7.78 2.81-2.81c.8-.78.8-2.07 0-2.86zM5.41 20L4 18.59l7.72-7.72 1.47 1.35L5.41 20z\"/>\n",
              "  </svg>\n",
              "      </button>\n",
              "      \n",
              "  <style>\n",
              "    .colab-df-container {\n",
              "      display:flex;\n",
              "      flex-wrap:wrap;\n",
              "      gap: 12px;\n",
              "    }\n",
              "\n",
              "    .colab-df-convert {\n",
              "      background-color: #E8F0FE;\n",
              "      border: none;\n",
              "      border-radius: 50%;\n",
              "      cursor: pointer;\n",
              "      display: none;\n",
              "      fill: #1967D2;\n",
              "      height: 32px;\n",
              "      padding: 0 0 0 0;\n",
              "      width: 32px;\n",
              "    }\n",
              "\n",
              "    .colab-df-convert:hover {\n",
              "      background-color: #E2EBFA;\n",
              "      box-shadow: 0px 1px 2px rgba(60, 64, 67, 0.3), 0px 1px 3px 1px rgba(60, 64, 67, 0.15);\n",
              "      fill: #174EA6;\n",
              "    }\n",
              "\n",
              "    [theme=dark] .colab-df-convert {\n",
              "      background-color: #3B4455;\n",
              "      fill: #D2E3FC;\n",
              "    }\n",
              "\n",
              "    [theme=dark] .colab-df-convert:hover {\n",
              "      background-color: #434B5C;\n",
              "      box-shadow: 0px 1px 3px 1px rgba(0, 0, 0, 0.15);\n",
              "      filter: drop-shadow(0px 1px 2px rgba(0, 0, 0, 0.3));\n",
              "      fill: #FFFFFF;\n",
              "    }\n",
              "  </style>\n",
              "\n",
              "      <script>\n",
              "        const buttonEl =\n",
              "          document.querySelector('#df-88459ee9-2ae2-4efb-a800-cb9c7bb65986 button.colab-df-convert');\n",
              "        buttonEl.style.display =\n",
              "          google.colab.kernel.accessAllowed ? 'block' : 'none';\n",
              "\n",
              "        async function convertToInteractive(key) {\n",
              "          const element = document.querySelector('#df-88459ee9-2ae2-4efb-a800-cb9c7bb65986');\n",
              "          const dataTable =\n",
              "            await google.colab.kernel.invokeFunction('convertToInteractive',\n",
              "                                                     [key], {});\n",
              "          if (!dataTable) return;\n",
              "\n",
              "          const docLinkHtml = 'Like what you see? Visit the ' +\n",
              "            '<a target=\"_blank\" href=https://colab.research.google.com/notebooks/data_table.ipynb>data table notebook</a>'\n",
              "            + ' to learn more about interactive tables.';\n",
              "          element.innerHTML = '';\n",
              "          dataTable['output_type'] = 'display_data';\n",
              "          await google.colab.output.renderOutput(dataTable, element);\n",
              "          const docLink = document.createElement('div');\n",
              "          docLink.innerHTML = docLinkHtml;\n",
              "          element.appendChild(docLink);\n",
              "        }\n",
              "      </script>\n",
              "    </div>\n",
              "  </div>\n",
              "  "
            ],
            "text/plain": [
              "                                      Name  Type\n",
              "0     000d70d25191ad64f00ca88a227c5985.jpg     3\n",
              "1     0030def9579a3cb2f5d334dee7a1fb78.jpg     1\n",
              "2     00323f13dd4c931d2b98382318fff36f.jpg     0\n",
              "3     0047247f1be33a5a0cee4470760dcdf7.jpg     0\n",
              "4     006ef2a336bd15f53b50440837a847b2.jpg     0\n",
              "...                                    ...   ...\n",
              "2795  ffa9fa81f310f5127c638b614a5a6034.jpg     3\n",
              "2796  ffc3fa52be8106b071dbb4d45dab5041.jpg     2\n",
              "2797  ffdc0dbd42650ace9a1be2c0d11bfa73.jpg     3\n",
              "2798  ffed19041a89c1e6d9551d43d4584bc1.jpg     3\n",
              "2799  fffcb9f1a43b0c841a4fc5614cd0844f.jpg     0\n",
              "\n",
              "[2800 rows x 2 columns]"
            ]
          },
          "metadata": {},
          "execution_count": 12
        }
      ],
      "source": [
        "output=pd.read_csv(\"gdrive/MyDrive/final_project/sample_output.csv\")\n",
        "#將結果放到正確格式的csv\n",
        "output[\"Type\"]=pd.DataFrame(pred)\n",
        "output.to_csv('gdrive/MyDrive/final_project/output/resnetV2_augment_lr_600_3.csv',index=False)\n",
        "output"
      ]
    }
  ],
  "metadata": {
    "accelerator": "GPU",
    "colab": {
      "collapsed_sections": [],
      "name": "ResnetV2_augment.ipynb",
      "provenance": []
    },
    "kernelspec": {
      "display_name": "Python 3",
      "name": "python3"
    },
    "language_info": {
      "name": "python"
    }
  },
  "nbformat": 4,
  "nbformat_minor": 0
}