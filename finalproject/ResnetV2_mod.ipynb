{
  "cells": [
    {
      "cell_type": "markdown",
      "metadata": {
        "id": "wK4s_BnWfCUw"
      },
      "source": [
        "**Network architecture**\n",
        "\n",
        "- [x]  Number of hidden layers (network depth) \n",
        "- [x] Number of neurons in each layer (layer width) \n",
        "- [x] Activation type \n",
        "\n",
        "**Learning and optimization**\n",
        "- [ ] Learning rate and decay schedule\n",
        "- [ ] Mini-batch size\n",
        "- [ ] Optimization algorithms\n",
        "- [ ] Number of training iterations or epochs (and early stopping criteria)\n",
        "\n",
        "**Regularization techniques to avoid overfitting** \n",
        "- [ ] L2 regularization\n",
        "- [ ] Dropout layers\n",
        "- [ ] Data augmentation\n",
        "- [ ] Batch normalization\n",
        "- [ ] Transfer learning\n"
      ]
    },
    {
      "cell_type": "markdown",
      "metadata": {
        "id": "exf7DUxpKI2K"
      },
      "source": [
        "# 變數\n",
        "- [ ] 圖片大小 600*600\n",
        "- [ ] learning_rate 1e-5\n",
        "- [ ] batchsize 10\n",
        "- [ ] Class weight\n",
        "\n"
      ]
    },
    {
      "cell_type": "markdown",
      "metadata": {
        "id": "Z_FJyA-qmXas"
      },
      "source": [
        "# 紀錄\n",
        "- [ ] val_loss: 0.4730 - val_accuracy: 0.8344(450*450,1e-4)\n",
        "- [ ] val_loss: 0.4667 - val_accuracy: 0.8360(500*500,1e-5)\n",
        "- [ ] loss: 0.3391 - accuracy: 0.8854 - val_loss: 0.4624 - val_accuracy: 0.8425\n",
        "    (600*600, 1e-5)"
      ]
    },
    {
      "cell_type": "code",
      "execution_count": null,
      "metadata": {
        "id": "SIH3DOIAqliU"
      },
      "outputs": [],
      "source": [
        "import numpy as np\n",
        "import pandas as pd\n",
        "import tensorflow as tf\n",
        "import matplotlib.pyplot as plt\n",
        "import os\n",
        "from tensorflow.keras import models\n",
        "from tensorflow.keras import layers\n",
        "from tensorflow.keras.preprocessing import image\n",
        "from sklearn.model_selection import train_test_split\n",
        "from tqdm import tqdm\n",
        "from tensorflow.keras.preprocessing.image import ImageDataGenerator\n",
        "from tensorflow.keras import optimizers"
      ]
    },
    {
      "cell_type": "code",
      "execution_count": null,
      "metadata": {
        "colab": {
          "base_uri": "https://localhost:8080/"
        },
        "id": "cV5h_R6a_G-g",
        "outputId": "4991f0d2-348e-4c12-cc77-6e47df3d85a3"
      },
      "outputs": [
        {
          "name": "stdout",
          "output_type": "stream",
          "text": [
            "Mounted at /content/gdrive\n"
          ]
        }
      ],
      "source": [
        "# mount drive\n",
        "from google.colab import drive\n",
        "drive.mount('/content/gdrive')"
      ]
    },
    {
      "cell_type": "code",
      "execution_count": null,
      "metadata": {
        "id": "pMvkk9k6khPE"
      },
      "outputs": [],
      "source": [
        "# select 'add to my drive' on the shared folder\n",
        "\n",
        "root_path = 'gdrive/MyDrive/final_project'\n",
        "train_dir='gdrive/MyDrive/final_project/train/train' #train jpg save place \n",
        "train_df = pd.read_csv(f'{root_path}/train_data.csv')\n",
        "\n",
        "\n",
        "train_df=train_df.append(train_df.loc[1,:],ignore_index=True)\n",
        "train_df['Type'] = train_df['Type'].astype('str') #如果class_mode = 'sparse'要是string要是string"
      ]
    },
    {
      "cell_type": "markdown",
      "metadata": {
        "id": "G3AvFsVxKM1O"
      },
      "source": [
        "## InceptionResNetV2"
      ]
    },
    {
      "cell_type": "code",
      "execution_count": null,
      "metadata": {
        "colab": {
          "base_uri": "https://localhost:8080/"
        },
        "id": "xXsm1aK21Ocg",
        "outputId": "64b75f8b-adce-4f59-f72c-c5bd41a374ed"
      },
      "outputs": [
        {
          "name": "stdout",
          "output_type": "stream",
          "text": [
            "Found 7420 validated image filenames belonging to 4 classes.\n",
            "Found 1860 validated image filenames belonging to 4 classes.\n"
          ]
        }
      ],
      "source": [
        "# Data agumentation and pre-processing using tensorflow\n",
        "train_gen = ImageDataGenerator(   \n",
        "                rotation_range = 15,\n",
        "                zoom_range = 0.15,\n",
        "                width_shift_range=0.1,\n",
        "                height_shift_range=0.1,\n",
        "                shear_range=0.1,\n",
        "                fill_mode='nearest',\n",
        "                rescale=1./255.,\n",
        "                horizontal_flip = True,\n",
        "                validation_split=0.2005 # training: 80% data, validation: 20% data\n",
        "                 )\n",
        "\n",
        "valid_gen = ImageDataGenerator(   \n",
        "                # rotation_range = 40,\n",
        "                # zoom_range = 0.15,\n",
        "                # width_shift_range=0.2,\n",
        "                # height_shift_range=0.2,\n",
        "                # shear_range=0.2,\n",
        "                # fill_mode='nearest',\n",
        "                rescale=1./255.,\n",
        "                # horizontal_flip = True,\n",
        "                validation_split=0.2005 # training: 80% data, validation: 20% data\n",
        "                 )\n",
        "  \n",
        "train_generator = train_gen.flow_from_dataframe(\n",
        "    train_df, # dataframe\n",
        "    directory = train_dir, # images data path / folder in which images are there\n",
        "    x_col = 'Name',\n",
        "    y_col = 'Type',\n",
        "    subset=\"training\",\n",
        "    color_mode=\"rgb\",\n",
        "    target_size = (600,600), # image height , image width\n",
        "    class_mode=\"categorical\",\n",
        "    batch_size=10,\n",
        "    shuffle=True,\n",
        "    seed=42,\n",
        ")\n",
        "  \n",
        "  \n",
        "validation_generator = valid_gen.flow_from_dataframe(\n",
        "    train_df, # dataframe\n",
        "    directory = train_dir, # images data path / folder in which images are there\n",
        "    x_col = 'Name',\n",
        "    y_col = 'Type',\n",
        "    subset=\"validation\",\n",
        "    color_mode=\"rgb\",\n",
        "    target_size = (600,600), # image height , image width\n",
        "    class_mode=\"categorical\",\n",
        "    batch_size=10,\n",
        "    shuffle=True,\n",
        "    seed=42,\n",
        ")"
      ]
    },
    {
      "cell_type": "code",
      "execution_count": null,
      "metadata": {
        "colab": {
          "base_uri": "https://localhost:8080/"
        },
        "id": "XPvuVk2-XLGM",
        "outputId": "730715e0-04ca-415c-f5be-f1b0e88353b1"
      },
      "outputs": [
        {
          "name": "stderr",
          "output_type": "stream",
          "text": [
            "100%|██████████| 742/742 [27:00<00:00,  2.18s/it]\n"
          ]
        }
      ],
      "source": [
        "# train_labels=np.array([])\n",
        "# for i in tqdm(range(train_generator.n//train_generator.batch_size)):\n",
        "#   feat = train_generator[i][-1]\n",
        "#   labels = np.argmax(feat, axis=1)\n",
        "#   train_labels = np.append(train_labels,labels)\n"
      ]
    },
    {
      "cell_type": "code",
      "execution_count": null,
      "metadata": {
        "colab": {
          "base_uri": "https://localhost:8080/"
        },
        "id": "S4WzafAkaZN6",
        "outputId": "61739537-e02a-47fd-c5ba-b06e1659d53e"
      },
      "outputs": [
        {
          "name": "stdout",
          "output_type": "stream",
          "text": [
            "{0.0: 0.8672276764843385, 1.0: 1.3081805359661496, 2.0: 1.1906290115532734, 3.0: 0.8047722342733189}\n"
          ]
        }
      ],
      "source": [
        "# from sklearn.utils import class_weight\n",
        "# ClassWeights = dict(zip(np.unique(train_labels),\n",
        "#                         class_weight.compute_class_weight('balanced',\n",
        "#                                                 classes=np.unique(train_labels),y=train_labels)))\n",
        "# print(ClassWeights) "
      ]
    },
    {
      "cell_type": "code",
      "execution_count": null,
      "metadata": {
        "id": "raVHrssK8HvF"
      },
      "outputs": [],
      "source": [
        "ClassWeights ={0.0: 0.8672276764843385, 1.0: 1.3081805359661496, 2.0: 1.1906290115532734, 3.0: 0.8047722342733189}"
      ]
    },
    {
      "cell_type": "code",
      "execution_count": null,
      "metadata": {
        "colab": {
          "base_uri": "https://localhost:8080/"
        },
        "id": "JnPkv-IBC0xJ",
        "outputId": "4a3c6233-f6a6-47b3-a050-83c3d1df21aa"
      },
      "outputs": [
        {
          "name": "stdout",
          "output_type": "stream",
          "text": [
            "Downloading data from https://storage.googleapis.com/tensorflow/keras-applications/inception_resnet_v2/inception_resnet_v2_weights_tf_dim_ordering_tf_kernels_notop.h5\n",
            "219062272/219055592 [==============================] - 2s 0us/step\n",
            "219070464/219055592 [==============================] - 2s 0us/step\n"
          ]
        }
      ],
      "source": [
        "from tensorflow.keras import models\n",
        "from tensorflow.keras import layers\n",
        "from tensorflow.keras import optimizers\n",
        "from tensorflow.keras.callbacks import ModelCheckpoint\n",
        "from tensorflow.keras.callbacks import EarlyStopping\n",
        "from tensorflow.keras.callbacks import CSVLogger\n",
        "\n",
        "\n",
        "# load the InceptionResNetV2 architecture with imagenet weights as base\n",
        "base_model = tf.keras.applications.InceptionResNetV2(\n",
        "                     include_top=False,\n",
        "                     weights='imagenet',\n",
        "                     input_shape=(600,600,3)\n",
        "                     )\n",
        "  \n",
        "base_model.trainable=False\n",
        "# For freezing the layer we make use of layer.trainable = False\n",
        "# means that its internal state will not change during training.\n",
        "# model's trainable weights will not be updated during fit(),\n",
        "# and also its state updates will not run.\n",
        "  \n",
        "model = tf.keras.Sequential([ \n",
        "        base_model,   \n",
        "        tf.keras.layers.BatchNormalization(renorm=True),\n",
        "        tf.keras.layers.GlobalAveragePooling2D(),\n",
        "        tf.keras.layers.Dense(128, activation='relu'),\n",
        "        tf.keras.layers.Dropout(0.5),\n",
        "        tf.keras.layers.Dense(256, activation='relu'),\n",
        "        tf.keras.layers.Dropout(0.5),\n",
        "        tf.keras.layers.Dense(4, activation='softmax')\n",
        "    ])\n",
        "\n",
        "opt = optimizers.Adam(learning_rate = 1e-5)\n",
        "\n",
        "model.compile(optimizer=opt,loss='categorical_crossentropy',metrics=['accuracy'])\n",
        "# categorical cross entropy is taken since its used as a loss function for \n",
        "# multi-class classification problems where there are two or more output labels.\n",
        "# using Adam optimizer for better performance\n",
        "# other optimizers such as sgd can also be used depending upon the model\n",
        "\n",
        "log = CSVLogger('gdrive/MyDrive/final_project/code/soil/log3.csv',)\n",
        "\n",
        "mc = ModelCheckpoint(os.path.join('gdrive/MyDrive/final_project/code/soil/resnetV2_augment_lr_600_bal_mod_3.h5'),\n",
        "                     monitor='val_accuracy',\n",
        "                     verbose=1,\n",
        "                     save_best_only=True,\n",
        "                     save_weights_only=True,\n",
        "                     mode='max')\n",
        "\n",
        "early = tf.keras.callbacks.EarlyStopping(  \n",
        "                      #  monitor = 'val_accuracy',\n",
        "                      #  mode = 'max',\n",
        "                       patience=20,\n",
        "                       min_delta=0.0001,\n",
        "                      #  restore_best_weights=True\n",
        "                       )\n",
        "\n",
        "\n",
        "\n",
        "batch_size=10\n",
        "STEP_SIZE_TRAIN = train_generator.n//train_generator.batch_size\n",
        "STEP_SIZE_VALID = validation_generator.n//validation_generator.batch_size\n",
        "  \n"
      ]
    },
    {
      "cell_type": "code",
      "execution_count": null,
      "metadata": {
        "colab": {
          "base_uri": "https://localhost:8080/"
        },
        "id": "6dvsw8e2Lj4P",
        "outputId": "3bc72a32-6525-473a-b50b-300b59d27620"
      },
      "outputs": [
        {
          "name": "stdout",
          "output_type": "stream",
          "text": [
            "Model: \"sequential\"\n",
            "_________________________________________________________________\n",
            " Layer (type)                Output Shape              Param #   \n",
            "=================================================================\n",
            " inception_resnet_v2 (Functi  (None, 17, 17, 1536)     54336736  \n",
            " onal)                                                           \n",
            "                                                                 \n",
            " batch_normalization_203 (Ba  (None, 17, 17, 1536)     10752     \n",
            " tchNormalization)                                               \n",
            "                                                                 \n",
            " global_average_pooling2d (G  (None, 1536)             0         \n",
            " lobalAveragePooling2D)                                          \n",
            "                                                                 \n",
            " dense (Dense)               (None, 128)               196736    \n",
            "                                                                 \n",
            " dropout (Dropout)           (None, 128)               0         \n",
            "                                                                 \n",
            " dense_1 (Dense)             (None, 256)               33024     \n",
            "                                                                 \n",
            " dropout_1 (Dropout)         (None, 256)               0         \n",
            "                                                                 \n",
            " dense_2 (Dense)             (None, 4)                 1028      \n",
            "                                                                 \n",
            "=================================================================\n",
            "Total params: 54,578,276\n",
            "Trainable params: 54,510,052\n",
            "Non-trainable params: 68,224\n",
            "_________________________________________________________________\n"
          ]
        }
      ],
      "source": [
        "base_model.trainable = True\n",
        "model.summary()\n"
      ]
    },
    {
      "cell_type": "code",
      "execution_count": null,
      "metadata": {
        "id": "-OxrCRDbwGq-"
      },
      "outputs": [],
      "source": [
        "model.load_weights('gdrive/MyDrive/final_project/code/soil/resnetV2_augment_lr_600_bal_mod.h5')"
      ]
    },
    {
      "cell_type": "code",
      "execution_count": null,
      "metadata": {
        "colab": {
          "base_uri": "https://localhost:8080/"
        },
        "id": "Txjj5xf23AZD",
        "outputId": "814e6832-9e2e-4d1b-ff23-a8803284aad9"
      },
      "outputs": [
        {
          "name": "stdout",
          "output_type": "stream",
          "text": [
            "Model: \"sequential\"\n",
            "_________________________________________________________________\n",
            " Layer (type)                Output Shape              Param #   \n",
            "=================================================================\n",
            " inception_resnet_v2 (Functi  (None, 17, 17, 1536)     54336736  \n",
            " onal)                                                           \n",
            "                                                                 \n",
            " batch_normalization_203 (Ba  (None, 17, 17, 1536)     10752     \n",
            " tchNormalization)                                               \n",
            "                                                                 \n",
            " global_average_pooling2d (G  (None, 1536)             0         \n",
            " lobalAveragePooling2D)                                          \n",
            "                                                                 \n",
            " dense (Dense)               (None, 128)               196736    \n",
            "                                                                 \n",
            " dropout (Dropout)           (None, 128)               0         \n",
            "                                                                 \n",
            " dense_1 (Dense)             (None, 256)               33024     \n",
            "                                                                 \n",
            " dropout_1 (Dropout)         (None, 256)               0         \n",
            "                                                                 \n",
            " dense_2 (Dense)             (None, 4)                 1028      \n",
            "                                                                 \n",
            "=================================================================\n",
            "Total params: 54,578,276\n",
            "Trainable params: 54,510,052\n",
            "Non-trainable params: 68,224\n",
            "_________________________________________________________________\n",
            "Epoch 1/50\n",
            "742/742 [==============================] - ETA: 0s - loss: 0.6806 - accuracy: 0.7412\n",
            "Epoch 00001: val_accuracy improved from -inf to 0.82527, saving model to gdrive/MyDrive/final_project/code/soil/resnetV2_augment_lr_600_bal_mod.h5\n",
            "742/742 [==============================] - 2778s 4s/step - loss: 0.6806 - accuracy: 0.7412 - val_loss: 0.4965 - val_accuracy: 0.8253\n",
            "Epoch 2/50\n",
            "742/742 [==============================] - ETA: 0s - loss: 0.5791 - accuracy: 0.7829\n",
            "Epoch 00002: val_accuracy improved from 0.82527 to 0.83065, saving model to gdrive/MyDrive/final_project/code/soil/resnetV2_augment_lr_600_bal_mod.h5\n",
            "742/742 [==============================] - 2592s 3s/step - loss: 0.5791 - accuracy: 0.7829 - val_loss: 0.4830 - val_accuracy: 0.8306\n",
            "Epoch 3/50\n",
            "742/742 [==============================] - ETA: 0s - loss: 0.5465 - accuracy: 0.8003\n",
            "Epoch 00003: val_accuracy improved from 0.83065 to 0.83387, saving model to gdrive/MyDrive/final_project/code/soil/resnetV2_augment_lr_600_bal_mod.h5\n",
            "742/742 [==============================] - 2603s 4s/step - loss: 0.5465 - accuracy: 0.8003 - val_loss: 0.4744 - val_accuracy: 0.8339\n",
            "Epoch 4/50\n",
            "742/742 [==============================] - ETA: 0s - loss: 0.5202 - accuracy: 0.8069\n",
            "Epoch 00004: val_accuracy improved from 0.83387 to 0.83710, saving model to gdrive/MyDrive/final_project/code/soil/resnetV2_augment_lr_600_bal_mod.h5\n",
            "742/742 [==============================] - 2594s 3s/step - loss: 0.5202 - accuracy: 0.8069 - val_loss: 0.4715 - val_accuracy: 0.8371\n",
            "Epoch 5/50\n",
            "742/742 [==============================] - ETA: 0s - loss: 0.4977 - accuracy: 0.8204\n",
            "Epoch 00005: val_accuracy improved from 0.83710 to 0.84032, saving model to gdrive/MyDrive/final_project/code/soil/resnetV2_augment_lr_600_bal_mod.h5\n",
            "742/742 [==============================] - 2588s 3s/step - loss: 0.4977 - accuracy: 0.8204 - val_loss: 0.4665 - val_accuracy: 0.8403\n",
            "Epoch 6/50\n",
            "742/742 [==============================] - ETA: 0s - loss: 0.4845 - accuracy: 0.8279\n",
            "Epoch 00006: val_accuracy improved from 0.84032 to 0.84247, saving model to gdrive/MyDrive/final_project/code/soil/resnetV2_augment_lr_600_bal_mod.h5\n",
            "742/742 [==============================] - 2587s 3s/step - loss: 0.4845 - accuracy: 0.8279 - val_loss: 0.4604 - val_accuracy: 0.8425\n",
            "Epoch 7/50\n",
            "742/742 [==============================] - ETA: 0s - loss: 0.4735 - accuracy: 0.8310\n",
            "Epoch 00007: val_accuracy improved from 0.84247 to 0.84355, saving model to gdrive/MyDrive/final_project/code/soil/resnetV2_augment_lr_600_bal_mod.h5\n",
            "742/742 [==============================] - 2591s 3s/step - loss: 0.4735 - accuracy: 0.8310 - val_loss: 0.4578 - val_accuracy: 0.8435\n",
            "Epoch 8/50\n",
            "742/742 [==============================] - ETA: 0s - loss: 0.4442 - accuracy: 0.8396\n",
            "Epoch 00008: val_accuracy did not improve from 0.84355\n",
            "742/742 [==============================] - 2590s 3s/step - loss: 0.4442 - accuracy: 0.8396 - val_loss: 0.4569 - val_accuracy: 0.8419\n",
            "Epoch 9/50\n",
            " 59/742 [=>............................] - ETA: 37:05 - loss: 0.4502 - accuracy: 0.8390"
          ]
        }
      ],
      "source": [
        "model.compile(optimizer=tf.keras.optimizers.Adam(1e-6),loss='categorical_crossentropy',metrics=['accuracy'])\n",
        "\n",
        "history = model.fit(\n",
        "                    train_generator,\n",
        "                    steps_per_epoch=STEP_SIZE_TRAIN,\n",
        "                    validation_data=validation_generator,\n",
        "                    validation_steps=STEP_SIZE_VALID,\n",
        "                    epochs=50,\n",
        "                    callbacks=[early,mc]\n",
        "                    )"
      ]
    },
    {
      "cell_type": "code",
      "execution_count": null,
      "metadata": {
        "id": "QkdKs1RAPJ4L"
      },
      "outputs": [],
      "source": [
        "model.load_weights('gdrive/MyDrive/final_project/code/soil/resnetV2_augment_lr_600_bal_mod_2.h5')"
      ]
    },
    {
      "cell_type": "code",
      "execution_count": null,
      "metadata": {
        "colab": {
          "base_uri": "https://localhost:8080/"
        },
        "id": "rwEZ40fePQRY",
        "outputId": "9c602ed6-0268-4f0e-dfd8-830bc6f7a8d7"
      },
      "outputs": [
        {
          "name": "stdout",
          "output_type": "stream",
          "text": [
            "Epoch 1/50\n",
            "742/742 [==============================] - ETA: 0s - loss: 0.4261 - accuracy: 0.8495\n",
            "Epoch 00001: val_accuracy improved from -inf to 0.84731, saving model to gdrive/MyDrive/final_project/code/soil/resnetV2_augment_lr_600_bal_mod_3.h5\n",
            "742/742 [==============================] - 2722s 4s/step - loss: 0.4261 - accuracy: 0.8495 - val_loss: 0.4512 - val_accuracy: 0.8473\n",
            "Epoch 2/50\n",
            "742/742 [==============================] - ETA: 0s - loss: 0.4030 - accuracy: 0.8550\n",
            "Epoch 00002: val_accuracy did not improve from 0.84731\n",
            "742/742 [==============================] - 2468s 3s/step - loss: 0.4030 - accuracy: 0.8550 - val_loss: 0.4511 - val_accuracy: 0.8462\n",
            "Epoch 3/50\n",
            "742/742 [==============================] - ETA: 0s - loss: 0.4044 - accuracy: 0.8577\n",
            "Epoch 00003: val_accuracy did not improve from 0.84731\n",
            "742/742 [==============================] - 2455s 3s/step - loss: 0.4044 - accuracy: 0.8577 - val_loss: 0.4518 - val_accuracy: 0.8446\n",
            "Epoch 4/50\n",
            "742/742 [==============================] - ETA: 0s - loss: 0.3941 - accuracy: 0.8608\n",
            "Epoch 00004: val_accuracy did not improve from 0.84731\n",
            "742/742 [==============================] - 2453s 3s/step - loss: 0.3941 - accuracy: 0.8608 - val_loss: 0.4483 - val_accuracy: 0.8446\n",
            "Epoch 5/50\n",
            "742/742 [==============================] - ETA: 0s - loss: 0.3906 - accuracy: 0.8619\n",
            "Epoch 00005: val_accuracy did not improve from 0.84731\n",
            "742/742 [==============================] - 2460s 3s/step - loss: 0.3906 - accuracy: 0.8619 - val_loss: 0.4465 - val_accuracy: 0.8430\n",
            "Epoch 6/50\n",
            "742/742 [==============================] - ETA: 0s - loss: 0.3816 - accuracy: 0.8663\n",
            "Epoch 00006: val_accuracy did not improve from 0.84731\n",
            "742/742 [==============================] - 2452s 3s/step - loss: 0.3816 - accuracy: 0.8663 - val_loss: 0.4425 - val_accuracy: 0.8446\n",
            "Epoch 7/50\n",
            "742/742 [==============================] - ETA: 0s - loss: 0.3781 - accuracy: 0.8666\n",
            "Epoch 00007: val_accuracy did not improve from 0.84731\n",
            "742/742 [==============================] - 2447s 3s/step - loss: 0.3781 - accuracy: 0.8666 - val_loss: 0.4412 - val_accuracy: 0.8430\n",
            "Epoch 8/50\n",
            "742/742 [==============================] - ETA: 0s - loss: 0.3587 - accuracy: 0.8732\n",
            "Epoch 00008: val_accuracy did not improve from 0.84731\n",
            "742/742 [==============================] - 2473s 3s/step - loss: 0.3587 - accuracy: 0.8732 - val_loss: 0.4457 - val_accuracy: 0.8425\n",
            "Epoch 9/50\n",
            "742/742 [==============================] - ETA: 0s - loss: 0.3577 - accuracy: 0.8765\n",
            "Epoch 00009: val_accuracy did not improve from 0.84731\n",
            "742/742 [==============================] - 2460s 3s/step - loss: 0.3577 - accuracy: 0.8765 - val_loss: 0.4451 - val_accuracy: 0.8414\n",
            "Epoch 10/50\n",
            "304/742 [===========>..................] - ETA: 22:28 - loss: 0.3449 - accuracy: 0.8743"
          ]
        }
      ],
      "source": [
        "model.compile(optimizer=tf.keras.optimizers.Adam(1e-6),loss='categorical_crossentropy',metrics=['accuracy'])\n",
        "\n",
        "history = model.fit(\n",
        "                    train_generator,\n",
        "                    steps_per_epoch=STEP_SIZE_TRAIN,\n",
        "                    validation_data=validation_generator,\n",
        "                    validation_steps=STEP_SIZE_VALID,\n",
        "                    epochs=50,\n",
        "                    callbacks=[early,mc]\n",
        "                    )"
      ]
    },
    {
      "cell_type": "code",
      "execution_count": null,
      "metadata": {
        "id": "lH_5rEHnC3Vw"
      },
      "outputs": [],
      "source": [
        "import matplotlib.pyplot as plt\n",
        "\n",
        "\n",
        "# store results\n",
        "acc = history.history['accuracy']\n",
        "val_acc = history.history['val_accuracy']\n",
        "loss = history.history['loss']\n",
        "val_loss = history.history['val_loss']\n",
        "  \n",
        "  \n",
        "# plot results\n",
        "# accuracy\n",
        "plt.figure(figsize=(10, 16))\n",
        "plt.rcParams['figure.figsize'] = [16, 9]\n",
        "plt.rcParams['font.size'] = 14\n",
        "plt.rcParams['axes.grid'] = True\n",
        "plt.rcParams['figure.facecolor'] = 'white'\n",
        "plt.subplot(2, 1, 1)\n",
        "plt.plot(acc, label='Training Accuracy')\n",
        "plt.plot(val_acc, label='Validation Accuracy')\n",
        "plt.legend(loc='lower right')\n",
        "plt.ylabel('Accuracy')\n",
        "plt.title(f'\\nTraining and Validation Accuracy. \\nTrain Accuracy: {str(acc[-1])}\\nValidation Accuracy: {str(val_acc[-1])}')"
      ]
    },
    {
      "cell_type": "code",
      "execution_count": null,
      "metadata": {
        "id": "BV_et3SWeoUY"
      },
      "outputs": [],
      "source": [
        "# loss\n",
        "plt.subplot(2, 1, 2)\n",
        "plt.plot(loss, label='Training Loss')\n",
        "plt.plot(val_loss, label='Validation Loss')\n",
        "plt.legend(loc='upper right')\n",
        "plt.ylabel('Cross Entropy')\n",
        "plt.title(f'Training and Validation Loss. \\nTrain Loss: {str(loss[-1])}\\nValidation Loss: {str(val_loss[-1])}')\n",
        "plt.xlabel('epoch')\n",
        "plt.tight_layout(pad=3.0)\n",
        "plt.show()"
      ]
    },
    {
      "cell_type": "code",
      "execution_count": null,
      "metadata": {
        "colab": {
          "base_uri": "https://localhost:8080/"
        },
        "id": "D9P6nHhlYk3L",
        "outputId": "45ee4c16-af34-43a6-ae8a-bf9ed73681ae"
      },
      "outputs": [
        {
          "name": "stdout",
          "output_type": "stream",
          "text": [
            "Found 2800 validated image filenames.\n"
          ]
        }
      ],
      "source": [
        "# testing data extract features\n",
        "test_files = pd.read_csv('/content/gdrive/MyDrive/final_project/sample_output.csv')\n",
        "test_files['Type'] = test_files['Type'].astype('str')\n",
        "test_dir='gdrive/MyDrive/final_project/test/test'\n",
        "\n",
        "test_datagen = ImageDataGenerator(rescale=1./255)\n",
        "testing_generator = test_datagen.flow_from_dataframe(\n",
        "    dataframe = test_files,\n",
        "    directory = test_dir,\n",
        "    target_size = (600,600),\n",
        "    x_col = 'Name',\n",
        "    y_col = 'Type',\n",
        "    batch_size = 10,\n",
        "    class_mode = None,\n",
        "    shuffle = False\n",
        ")"
      ]
    },
    {
      "cell_type": "code",
      "execution_count": null,
      "metadata": {
        "id": "wjs2Hqf_ZBue"
      },
      "outputs": [],
      "source": [
        "pred = model.predict(testing_generator)"
      ]
    },
    {
      "cell_type": "code",
      "execution_count": null,
      "metadata": {
        "colab": {
          "base_uri": "https://localhost:8080/",
          "height": 424
        },
        "id": "jp57VVT-byZt",
        "outputId": "ba15199f-e821-4c28-e18d-48a2818773ba"
      },
      "outputs": [
        {
          "data": {
            "text/html": [
              "\n",
              "  <div id=\"df-c9dc5195-c8c2-40d8-94c9-79bd9084aaca\">\n",
              "    <div class=\"colab-df-container\">\n",
              "      <div>\n",
              "<style scoped>\n",
              "    .dataframe tbody tr th:only-of-type {\n",
              "        vertical-align: middle;\n",
              "    }\n",
              "\n",
              "    .dataframe tbody tr th {\n",
              "        vertical-align: top;\n",
              "    }\n",
              "\n",
              "    .dataframe thead th {\n",
              "        text-align: right;\n",
              "    }\n",
              "</style>\n",
              "<table border=\"1\" class=\"dataframe\">\n",
              "  <thead>\n",
              "    <tr style=\"text-align: right;\">\n",
              "      <th></th>\n",
              "      <th>0</th>\n",
              "    </tr>\n",
              "  </thead>\n",
              "  <tbody>\n",
              "    <tr>\n",
              "      <th>0</th>\n",
              "      <td>3</td>\n",
              "    </tr>\n",
              "    <tr>\n",
              "      <th>1</th>\n",
              "      <td>1</td>\n",
              "    </tr>\n",
              "    <tr>\n",
              "      <th>2</th>\n",
              "      <td>0</td>\n",
              "    </tr>\n",
              "    <tr>\n",
              "      <th>3</th>\n",
              "      <td>0</td>\n",
              "    </tr>\n",
              "    <tr>\n",
              "      <th>4</th>\n",
              "      <td>0</td>\n",
              "    </tr>\n",
              "    <tr>\n",
              "      <th>...</th>\n",
              "      <td>...</td>\n",
              "    </tr>\n",
              "    <tr>\n",
              "      <th>2795</th>\n",
              "      <td>3</td>\n",
              "    </tr>\n",
              "    <tr>\n",
              "      <th>2796</th>\n",
              "      <td>2</td>\n",
              "    </tr>\n",
              "    <tr>\n",
              "      <th>2797</th>\n",
              "      <td>3</td>\n",
              "    </tr>\n",
              "    <tr>\n",
              "      <th>2798</th>\n",
              "      <td>3</td>\n",
              "    </tr>\n",
              "    <tr>\n",
              "      <th>2799</th>\n",
              "      <td>0</td>\n",
              "    </tr>\n",
              "  </tbody>\n",
              "</table>\n",
              "<p>2800 rows × 1 columns</p>\n",
              "</div>\n",
              "      <button class=\"colab-df-convert\" onclick=\"convertToInteractive('df-c9dc5195-c8c2-40d8-94c9-79bd9084aaca')\"\n",
              "              title=\"Convert this dataframe to an interactive table.\"\n",
              "              style=\"display:none;\">\n",
              "        \n",
              "  <svg xmlns=\"http://www.w3.org/2000/svg\" height=\"24px\"viewBox=\"0 0 24 24\"\n",
              "       width=\"24px\">\n",
              "    <path d=\"M0 0h24v24H0V0z\" fill=\"none\"/>\n",
              "    <path d=\"M18.56 5.44l.94 2.06.94-2.06 2.06-.94-2.06-.94-.94-2.06-.94 2.06-2.06.94zm-11 1L8.5 8.5l.94-2.06 2.06-.94-2.06-.94L8.5 2.5l-.94 2.06-2.06.94zm10 10l.94 2.06.94-2.06 2.06-.94-2.06-.94-.94-2.06-.94 2.06-2.06.94z\"/><path d=\"M17.41 7.96l-1.37-1.37c-.4-.4-.92-.59-1.43-.59-.52 0-1.04.2-1.43.59L10.3 9.45l-7.72 7.72c-.78.78-.78 2.05 0 2.83L4 21.41c.39.39.9.59 1.41.59.51 0 1.02-.2 1.41-.59l7.78-7.78 2.81-2.81c.8-.78.8-2.07 0-2.86zM5.41 20L4 18.59l7.72-7.72 1.47 1.35L5.41 20z\"/>\n",
              "  </svg>\n",
              "      </button>\n",
              "      \n",
              "  <style>\n",
              "    .colab-df-container {\n",
              "      display:flex;\n",
              "      flex-wrap:wrap;\n",
              "      gap: 12px;\n",
              "    }\n",
              "\n",
              "    .colab-df-convert {\n",
              "      background-color: #E8F0FE;\n",
              "      border: none;\n",
              "      border-radius: 50%;\n",
              "      cursor: pointer;\n",
              "      display: none;\n",
              "      fill: #1967D2;\n",
              "      height: 32px;\n",
              "      padding: 0 0 0 0;\n",
              "      width: 32px;\n",
              "    }\n",
              "\n",
              "    .colab-df-convert:hover {\n",
              "      background-color: #E2EBFA;\n",
              "      box-shadow: 0px 1px 2px rgba(60, 64, 67, 0.3), 0px 1px 3px 1px rgba(60, 64, 67, 0.15);\n",
              "      fill: #174EA6;\n",
              "    }\n",
              "\n",
              "    [theme=dark] .colab-df-convert {\n",
              "      background-color: #3B4455;\n",
              "      fill: #D2E3FC;\n",
              "    }\n",
              "\n",
              "    [theme=dark] .colab-df-convert:hover {\n",
              "      background-color: #434B5C;\n",
              "      box-shadow: 0px 1px 3px 1px rgba(0, 0, 0, 0.15);\n",
              "      filter: drop-shadow(0px 1px 2px rgba(0, 0, 0, 0.3));\n",
              "      fill: #FFFFFF;\n",
              "    }\n",
              "  </style>\n",
              "\n",
              "      <script>\n",
              "        const buttonEl =\n",
              "          document.querySelector('#df-c9dc5195-c8c2-40d8-94c9-79bd9084aaca button.colab-df-convert');\n",
              "        buttonEl.style.display =\n",
              "          google.colab.kernel.accessAllowed ? 'block' : 'none';\n",
              "\n",
              "        async function convertToInteractive(key) {\n",
              "          const element = document.querySelector('#df-c9dc5195-c8c2-40d8-94c9-79bd9084aaca');\n",
              "          const dataTable =\n",
              "            await google.colab.kernel.invokeFunction('convertToInteractive',\n",
              "                                                     [key], {});\n",
              "          if (!dataTable) return;\n",
              "\n",
              "          const docLinkHtml = 'Like what you see? Visit the ' +\n",
              "            '<a target=\"_blank\" href=https://colab.research.google.com/notebooks/data_table.ipynb>data table notebook</a>'\n",
              "            + ' to learn more about interactive tables.';\n",
              "          element.innerHTML = '';\n",
              "          dataTable['output_type'] = 'display_data';\n",
              "          await google.colab.output.renderOutput(dataTable, element);\n",
              "          const docLink = document.createElement('div');\n",
              "          docLink.innerHTML = docLinkHtml;\n",
              "          element.appendChild(docLink);\n",
              "        }\n",
              "      </script>\n",
              "    </div>\n",
              "  </div>\n",
              "  "
            ],
            "text/plain": [
              "      0\n",
              "0     3\n",
              "1     1\n",
              "2     0\n",
              "3     0\n",
              "4     0\n",
              "...  ..\n",
              "2795  3\n",
              "2796  2\n",
              "2797  3\n",
              "2798  3\n",
              "2799  0\n",
              "\n",
              "[2800 rows x 1 columns]"
            ]
          },
          "execution_count": 11,
          "metadata": {},
          "output_type": "execute_result"
        }
      ],
      "source": [
        "pred = np.argmax(pred, axis=1)\n",
        "pd.DataFrame(pred)"
      ]
    },
    {
      "cell_type": "markdown",
      "metadata": {
        "id": "g4QdSK4mC3h8"
      },
      "source": [
        "## export output csv"
      ]
    },
    {
      "cell_type": "code",
      "execution_count": null,
      "metadata": {
        "colab": {
          "base_uri": "https://localhost:8080/",
          "height": 424
        },
        "id": "aHgwOAjfC6B6",
        "outputId": "a1ecca7c-7774-4858-f0f5-7aa443a427f2"
      },
      "outputs": [
        {
          "data": {
            "text/html": [
              "\n",
              "  <div id=\"df-88459ee9-2ae2-4efb-a800-cb9c7bb65986\">\n",
              "    <div class=\"colab-df-container\">\n",
              "      <div>\n",
              "<style scoped>\n",
              "    .dataframe tbody tr th:only-of-type {\n",
              "        vertical-align: middle;\n",
              "    }\n",
              "\n",
              "    .dataframe tbody tr th {\n",
              "        vertical-align: top;\n",
              "    }\n",
              "\n",
              "    .dataframe thead th {\n",
              "        text-align: right;\n",
              "    }\n",
              "</style>\n",
              "<table border=\"1\" class=\"dataframe\">\n",
              "  <thead>\n",
              "    <tr style=\"text-align: right;\">\n",
              "      <th></th>\n",
              "      <th>Name</th>\n",
              "      <th>Type</th>\n",
              "    </tr>\n",
              "  </thead>\n",
              "  <tbody>\n",
              "    <tr>\n",
              "      <th>0</th>\n",
              "      <td>000d70d25191ad64f00ca88a227c5985.jpg</td>\n",
              "      <td>3</td>\n",
              "    </tr>\n",
              "    <tr>\n",
              "      <th>1</th>\n",
              "      <td>0030def9579a3cb2f5d334dee7a1fb78.jpg</td>\n",
              "      <td>1</td>\n",
              "    </tr>\n",
              "    <tr>\n",
              "      <th>2</th>\n",
              "      <td>00323f13dd4c931d2b98382318fff36f.jpg</td>\n",
              "      <td>0</td>\n",
              "    </tr>\n",
              "    <tr>\n",
              "      <th>3</th>\n",
              "      <td>0047247f1be33a5a0cee4470760dcdf7.jpg</td>\n",
              "      <td>0</td>\n",
              "    </tr>\n",
              "    <tr>\n",
              "      <th>4</th>\n",
              "      <td>006ef2a336bd15f53b50440837a847b2.jpg</td>\n",
              "      <td>0</td>\n",
              "    </tr>\n",
              "    <tr>\n",
              "      <th>...</th>\n",
              "      <td>...</td>\n",
              "      <td>...</td>\n",
              "    </tr>\n",
              "    <tr>\n",
              "      <th>2795</th>\n",
              "      <td>ffa9fa81f310f5127c638b614a5a6034.jpg</td>\n",
              "      <td>3</td>\n",
              "    </tr>\n",
              "    <tr>\n",
              "      <th>2796</th>\n",
              "      <td>ffc3fa52be8106b071dbb4d45dab5041.jpg</td>\n",
              "      <td>2</td>\n",
              "    </tr>\n",
              "    <tr>\n",
              "      <th>2797</th>\n",
              "      <td>ffdc0dbd42650ace9a1be2c0d11bfa73.jpg</td>\n",
              "      <td>3</td>\n",
              "    </tr>\n",
              "    <tr>\n",
              "      <th>2798</th>\n",
              "      <td>ffed19041a89c1e6d9551d43d4584bc1.jpg</td>\n",
              "      <td>3</td>\n",
              "    </tr>\n",
              "    <tr>\n",
              "      <th>2799</th>\n",
              "      <td>fffcb9f1a43b0c841a4fc5614cd0844f.jpg</td>\n",
              "      <td>0</td>\n",
              "    </tr>\n",
              "  </tbody>\n",
              "</table>\n",
              "<p>2800 rows × 2 columns</p>\n",
              "</div>\n",
              "      <button class=\"colab-df-convert\" onclick=\"convertToInteractive('df-88459ee9-2ae2-4efb-a800-cb9c7bb65986')\"\n",
              "              title=\"Convert this dataframe to an interactive table.\"\n",
              "              style=\"display:none;\">\n",
              "        \n",
              "  <svg xmlns=\"http://www.w3.org/2000/svg\" height=\"24px\"viewBox=\"0 0 24 24\"\n",
              "       width=\"24px\">\n",
              "    <path d=\"M0 0h24v24H0V0z\" fill=\"none\"/>\n",
              "    <path d=\"M18.56 5.44l.94 2.06.94-2.06 2.06-.94-2.06-.94-.94-2.06-.94 2.06-2.06.94zm-11 1L8.5 8.5l.94-2.06 2.06-.94-2.06-.94L8.5 2.5l-.94 2.06-2.06.94zm10 10l.94 2.06.94-2.06 2.06-.94-2.06-.94-.94-2.06-.94 2.06-2.06.94z\"/><path d=\"M17.41 7.96l-1.37-1.37c-.4-.4-.92-.59-1.43-.59-.52 0-1.04.2-1.43.59L10.3 9.45l-7.72 7.72c-.78.78-.78 2.05 0 2.83L4 21.41c.39.39.9.59 1.41.59.51 0 1.02-.2 1.41-.59l7.78-7.78 2.81-2.81c.8-.78.8-2.07 0-2.86zM5.41 20L4 18.59l7.72-7.72 1.47 1.35L5.41 20z\"/>\n",
              "  </svg>\n",
              "      </button>\n",
              "      \n",
              "  <style>\n",
              "    .colab-df-container {\n",
              "      display:flex;\n",
              "      flex-wrap:wrap;\n",
              "      gap: 12px;\n",
              "    }\n",
              "\n",
              "    .colab-df-convert {\n",
              "      background-color: #E8F0FE;\n",
              "      border: none;\n",
              "      border-radius: 50%;\n",
              "      cursor: pointer;\n",
              "      display: none;\n",
              "      fill: #1967D2;\n",
              "      height: 32px;\n",
              "      padding: 0 0 0 0;\n",
              "      width: 32px;\n",
              "    }\n",
              "\n",
              "    .colab-df-convert:hover {\n",
              "      background-color: #E2EBFA;\n",
              "      box-shadow: 0px 1px 2px rgba(60, 64, 67, 0.3), 0px 1px 3px 1px rgba(60, 64, 67, 0.15);\n",
              "      fill: #174EA6;\n",
              "    }\n",
              "\n",
              "    [theme=dark] .colab-df-convert {\n",
              "      background-color: #3B4455;\n",
              "      fill: #D2E3FC;\n",
              "    }\n",
              "\n",
              "    [theme=dark] .colab-df-convert:hover {\n",
              "      background-color: #434B5C;\n",
              "      box-shadow: 0px 1px 3px 1px rgba(0, 0, 0, 0.15);\n",
              "      filter: drop-shadow(0px 1px 2px rgba(0, 0, 0, 0.3));\n",
              "      fill: #FFFFFF;\n",
              "    }\n",
              "  </style>\n",
              "\n",
              "      <script>\n",
              "        const buttonEl =\n",
              "          document.querySelector('#df-88459ee9-2ae2-4efb-a800-cb9c7bb65986 button.colab-df-convert');\n",
              "        buttonEl.style.display =\n",
              "          google.colab.kernel.accessAllowed ? 'block' : 'none';\n",
              "\n",
              "        async function convertToInteractive(key) {\n",
              "          const element = document.querySelector('#df-88459ee9-2ae2-4efb-a800-cb9c7bb65986');\n",
              "          const dataTable =\n",
              "            await google.colab.kernel.invokeFunction('convertToInteractive',\n",
              "                                                     [key], {});\n",
              "          if (!dataTable) return;\n",
              "\n",
              "          const docLinkHtml = 'Like what you see? Visit the ' +\n",
              "            '<a target=\"_blank\" href=https://colab.research.google.com/notebooks/data_table.ipynb>data table notebook</a>'\n",
              "            + ' to learn more about interactive tables.';\n",
              "          element.innerHTML = '';\n",
              "          dataTable['output_type'] = 'display_data';\n",
              "          await google.colab.output.renderOutput(dataTable, element);\n",
              "          const docLink = document.createElement('div');\n",
              "          docLink.innerHTML = docLinkHtml;\n",
              "          element.appendChild(docLink);\n",
              "        }\n",
              "      </script>\n",
              "    </div>\n",
              "  </div>\n",
              "  "
            ],
            "text/plain": [
              "                                      Name  Type\n",
              "0     000d70d25191ad64f00ca88a227c5985.jpg     3\n",
              "1     0030def9579a3cb2f5d334dee7a1fb78.jpg     1\n",
              "2     00323f13dd4c931d2b98382318fff36f.jpg     0\n",
              "3     0047247f1be33a5a0cee4470760dcdf7.jpg     0\n",
              "4     006ef2a336bd15f53b50440837a847b2.jpg     0\n",
              "...                                    ...   ...\n",
              "2795  ffa9fa81f310f5127c638b614a5a6034.jpg     3\n",
              "2796  ffc3fa52be8106b071dbb4d45dab5041.jpg     2\n",
              "2797  ffdc0dbd42650ace9a1be2c0d11bfa73.jpg     3\n",
              "2798  ffed19041a89c1e6d9551d43d4584bc1.jpg     3\n",
              "2799  fffcb9f1a43b0c841a4fc5614cd0844f.jpg     0\n",
              "\n",
              "[2800 rows x 2 columns]"
            ]
          },
          "execution_count": 12,
          "metadata": {},
          "output_type": "execute_result"
        }
      ],
      "source": [
        "output=pd.read_csv(\"gdrive/MyDrive/final_project/sample_output.csv\")\n",
        "#將結果放到正確格式的csv\n",
        "output[\"Type\"]=pd.DataFrame(pred)\n",
        "output.to_csv('gdrive/MyDrive/final_project/output/resnetV2_augment_lr_600_3.csv',index=False)\n",
        "output"
      ]
    }
  ],
  "metadata": {
    "accelerator": "GPU",
    "colab": {
      "collapsed_sections": [],
      "name": "ResnetV2_augment_lr_600_bal_mod.ipynb",
      "provenance": []
    },
    "kernelspec": {
      "display_name": "Python 3",
      "name": "python3"
    },
    "language_info": {
      "name": "python"
    }
  },
  "nbformat": 4,
  "nbformat_minor": 0
}
