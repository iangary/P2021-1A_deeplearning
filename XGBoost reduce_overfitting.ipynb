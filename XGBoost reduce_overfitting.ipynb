{
 "cells": [
  {
   "cell_type": "markdown",
   "metadata": {},
   "source": [
    "# Try to reduce overfitting"
   ]
  },
  {
   "cell_type": "code",
   "execution_count": null,
   "metadata": {},
   "outputs": [],
   "source": []
  },
  {
   "cell_type": "code",
   "execution_count": 1,
   "metadata": {},
   "outputs": [],
   "source": [
    "%matplotlib inline\n",
    "import numpy as np\n",
    "import pandas as pd\n",
    "import matplotlib.pyplot as plt\n",
    "from imblearn.over_sampling import RandomOverSampler\n",
    "import pandas as pd\n",
    "\n",
    "data=pd.read_csv('train_covid.csv')\n",
    "\n",
    "\"\"\"\n",
    "mean_hh_cli_ct                                            4784 non-null   float64\n",
    "pct_worried_finances                                      0 non-null      float64\n",
    "pct_cmnty_cli                                             4804 non-null   float64\n",
    "\n",
    "\"\"\"\n",
    "#date不是一個特徵值，除非使用OrdinalEncoder，轉換成數列\n",
    "#如果test的data是未來的這個特徵值，我認為不是一個好的分類指標\n",
    "#而pct_worried_finances都是NaN可以直接drop掉\n",
    "data=data.drop([\"date\",\"pct_worried_finances\"],axis=1)\n",
    "\n",
    "#分割feature和label\n",
    "length=data.shape[1]\n",
    "X=data.iloc[:,0:length-1]\n",
    "y=data.iloc[:,length-1]"
   ]
  },
  {
   "cell_type": "markdown",
   "metadata": {},
   "source": [
    "# Data Prepare\n"
   ]
  },
  {
   "cell_type": "markdown",
   "metadata": {},
   "source": [
    "## Use SimpleImputer 將nan用中位數替換"
   ]
  },
  {
   "cell_type": "code",
   "execution_count": 2,
   "metadata": {},
   "outputs": [
    {
     "data": {
      "text/plain": [
       "0"
      ]
     },
     "execution_count": 2,
     "metadata": {},
     "output_type": "execute_result"
    }
   ],
   "source": [
    "from sklearn.impute import SimpleImputer\n",
    "imp_mean = SimpleImputer(missing_values=np.nan, strategy='mean')\n",
    "#因為前三個欄位為str的type\n",
    "X_num=X.iloc[:,3:]\n",
    "X_num=imp_mean.fit_transform(X_num)\n",
    "X.iloc[:,3:]=X_num\n",
    "#確認是否nan都替換掉\n",
    "X.isna().sum().sum()"
   ]
  },
  {
   "cell_type": "markdown",
   "metadata": {},
   "source": [
    "## Using Different oversampler method"
   ]
  },
  {
   "cell_type": "code",
   "execution_count": 3,
   "metadata": {},
   "outputs": [
    {
     "data": {
      "text/plain": [
       "<AxesSubplot:>"
      ]
     },
     "execution_count": 3,
     "metadata": {},
     "output_type": "execute_result"
    },
    {
     "data": {
      "image/png": "[encoded data removed]",
      "text/plain": [
       "<Figure size 432x288 with 1 Axes>"
      ]
     },
     "metadata": {
      "needs_background": "light"
     },
     "output_type": "display_data"
    }
   ],
   "source": [
    "from imblearn.over_sampling import SMOTENC\n",
    "\n",
    "smote_nc = SMOTENC(categorical_features=[0, 1,2], random_state=0)\n",
    "X, y = smote_nc.fit_resample(X, y)\n",
    "\n",
    "# ros = RandomOverSampler(random_state=0)\n",
    "# X, y = ros.fit_resample(X, y)\n",
    "y.hist(bins=10) "
   ]
  },
  {
   "cell_type": "markdown",
   "metadata": {},
   "source": [
    "## OneHotEncoder"
   ]
  },
  {
   "cell_type": "code",
   "execution_count": 4,
   "metadata": {},
   "outputs": [],
   "source": [
    "from sklearn.compose import make_column_selector as selector\n",
    "#將是type 是object的取出來:categorical_columns取出來的index\n",
    "categorical_columns_selector = selector(dtype_include=object)\n",
    "categorical_columns = categorical_columns_selector(data)\n"
   ]
  },
  {
   "cell_type": "code",
   "execution_count": 5,
   "metadata": {},
   "outputs": [],
   "source": [
    "from sklearn.pipeline import Pipeline\n",
    "from sklearn.preprocessing import StandardScaler, OneHotEncoder\n",
    "from sklearn import preprocessing\n",
    "from sklearn.feature_selection import SelectKBest, chi2\n",
    "from sklearn.model_selection import GridSearchCV\n",
    "from sklearn.preprocessing import OneHotEncoder"
   ]
  },
  {
   "cell_type": "code",
   "execution_count": 6,
   "metadata": {},
   "outputs": [],
   "source": [
    "X_cat=X[categorical_columns]\n",
    "\n",
    "#onehotencoder使用 -> fit -> transform -> return array \n",
    "enc =OneHotEncoder(sparse=False)\n",
    "enc.fit(X_cat)\n",
    "data_encoded=enc.transform(X_cat)\n",
    "#產生columns index的名稱\n",
    "columns_encoded = enc.get_feature_names(categorical_columns)\n",
    "X_categorical_columns=pd.DataFrame(data_encoded, columns=columns_encoded)\n",
    "\n",
    "X_withoutcategorical_columns=X.drop(categorical_columns,axis=1)\n",
    "\n",
    "X=pd.concat([X_withoutcategorical_columns, X_categorical_columns], axis=1)\n",
    "#onehotencoder之後\n"
   ]
  },
  {
   "cell_type": "code",
   "execution_count": 24,
   "metadata": {},
   "outputs": [],
   "source": [
    "from sklearn.metrics import mean_absolute_error\n",
    "import xgboost as xgb\n",
    "\n",
    "clf = xgb.XGBClassifier(objective= 'binary:logistic',eval_metric=mean_absolute_error,\n",
    "    tree_method=\"gpu_hist\",enable_categorical=True, use_label_encoder=False,\n",
    "    seed=42)"
   ]
  },
  {
   "cell_type": "markdown",
   "metadata": {},
   "source": [
    "# __Make Pipeline__"
   ]
  },
  {
   "cell_type": "code",
   "execution_count": 25,
   "metadata": {},
   "outputs": [
    {
     "data": {
      "text/plain": [
       "dict_keys(['memory', 'steps', 'verbose', 'scaler', 'min_max', 'feature_select', 'clf', 'scaler__copy', 'scaler__with_mean', 'scaler__with_std', 'min_max__clip', 'min_max__copy', 'min_max__feature_range', 'feature_select__k', 'feature_select__score_func', 'clf__objective', 'clf__use_label_encoder', 'clf__base_score', 'clf__booster', 'clf__colsample_bylevel', 'clf__colsample_bynode', 'clf__colsample_bytree', 'clf__enable_categorical', 'clf__gamma', 'clf__gpu_id', 'clf__importance_type', 'clf__interaction_constraints', 'clf__learning_rate', 'clf__max_delta_step', 'clf__max_depth', 'clf__min_child_weight', 'clf__missing', 'clf__monotone_constraints', 'clf__n_estimators', 'clf__n_jobs', 'clf__num_parallel_tree', 'clf__predictor', 'clf__random_state', 'clf__reg_alpha', 'clf__reg_lambda', 'clf__scale_pos_weight', 'clf__subsample', 'clf__tree_method', 'clf__validate_parameters', 'clf__verbosity', 'clf__eval_metric', 'clf__seed'])"
      ]
     },
     "execution_count": 25,
     "metadata": {},
     "output_type": "execute_result"
    }
   ],
   "source": [
    "from sklearn.preprocessing import StandardScaler\n",
    "from sklearn.impute import SimpleImputer\n",
    "pipe = Pipeline([\n",
    "                    \n",
    "                 ('scaler', StandardScaler()),\n",
    "                \n",
    "                ('min_max', preprocessing.MinMaxScaler(feature_range=(1, 1000))),\n",
    "                ('feature_select',SelectKBest(chi2)),\n",
    "                ('clf',clf)\n",
    "                  ])\n",
    "pipe.get_params().keys()"
   ]
  },
  {
   "cell_type": "markdown",
   "metadata": {},
   "source": [
    "## param_grid setting (reduce score to prevent overfitting)"
   ]
  },
  {
   "cell_type": "code",
   "execution_count": 26,
   "metadata": {},
   "outputs": [
    {
     "name": "stdout",
     "output_type": "stream",
     "text": [
      "[00:46:50] WARNING: C:/Users/Administrator/workspace/xgboost-win64_release_1.5.0/src/learner.cc:1115: Starting in XGBoost 1.3.0, the default evaluation metric used with the objective 'binary:logistic' was changed from 'error' to 'logloss'. Explicitly set eval_metric if you'd like to restore the old behavior.\n"
     ]
    }
   ],
   "source": [
    "from sklearn.model_selection import ShuffleSplit\n",
    "# 參數篩選\n",
    "feature_select__k=[10]#50,100,150,200 中 50最好(score最佳，但也可能會overfitting)\n",
    "\n",
    "param_grid = { \n",
    "    \n",
    "    'feature_select__k':feature_select__k,\n",
    "    'clf__learning_rate': [0.005], \n",
    "    'clf__max_depth': [4], # 2,4,6中 6最好\n",
    "    'clf__min_child_weight': [5],# 11,20,30中 11最好\n",
    "    \n",
    "    'clf__subsample': [0.4],#0.4,0.8中 0.8最好\n",
    "    'clf__colsample_bytree': [0.5],\n",
    "    'clf__n_estimators': [1000], #number of trees, change it to 1000 for better results\n",
    "    \"clf__gamma\":[0.1] # 0.1,0.2,0.3中 0.2最好\n",
    "    \n",
    "}\n",
    "# GridSearchCV : refit==True 會重新用整個data重新訓練一次\n",
    "gs=GridSearchCV(estimator=pipe,\n",
    "               param_grid=param_grid,\n",
    "               scoring='f1_macro',\n",
    "               cv=ShuffleSplit(n_splits=5, test_size=0.3, random_state=0),\n",
    "               n_jobs = -1,\n",
    "              )\n",
    "gs=gs.fit(X,y)"
   ]
  },
  {
   "cell_type": "markdown",
   "metadata": {},
   "source": [
    "# Store best_params_\n"
   ]
  },
  {
   "cell_type": "code",
   "execution_count": 27,
   "metadata": {},
   "outputs": [
    {
     "name": "stdout",
     "output_type": "stream",
     "text": [
      "{'clf__colsample_bytree': 0.5, 'clf__gamma': 0.1, 'clf__learning_rate': 0.005, 'clf__max_depth': 4, 'clf__min_child_weight': 5, 'clf__n_estimators': 1000, 'clf__subsample': 0.4, 'feature_select__k': 10}\n",
      "0.7459619345595224\n"
     ]
    },
    {
     "data": {
      "text/plain": [
       "Pipeline(steps=[('scaler', StandardScaler()),\n",
       "                ('min_max', MinMaxScaler(feature_range=(1, 1000))),\n",
       "                ('feature_select',\n",
       "                 SelectKBest(score_func=<function chi2 at 0x000002154995AA60>)),\n",
       "                ('clf',\n",
       "                 XGBClassifier(base_score=0.5, booster='gbtree',\n",
       "                               colsample_bylevel=1, colsample_bynode=1,\n",
       "                               colsample_bytree=0.5, enable_categorical=True,\n",
       "                               eval_metric=<function mean_absolute_error at...\n",
       "                               interaction_constraints='', learning_rate=0.005,\n",
       "                               max_delta_step=0, max_depth=4,\n",
       "                               min_child_weight=5, missing=nan,\n",
       "                               monotone_constraints='()', n_estimators=1000,\n",
       "                               n_jobs=8, num_parallel_tree=1, predictor='auto',\n",
       "                               random_state=42, reg_alpha=0, reg_lambda=1,\n",
       "                               scale_pos_weight=1, seed=42, subsample=0.4,\n",
       "                               tree_method='gpu_hist', use_label_encoder=False,\n",
       "                               validate_parameters=1, ...))])"
      ]
     },
     "execution_count": 27,
     "metadata": {},
     "output_type": "execute_result"
    }
   ],
   "source": [
    "param_grid=gs.best_params_\n",
    "# type(param_grid)\n",
    "# for i in param_grid.keys():\n",
    "#     param_grid[i]=[param_grid[i]]\n",
    "# print(param_grid)\n",
    "print(gs.best_params_)\n",
    "print(gs.best_score_)\n",
    "\n",
    "df=pd.DataFrame(gs.cv_results_)\n",
    "\n",
    "# df.to_excel(\"xgboost_cv_results.xlsx\")\n",
    "gs.best_estimator_"
   ]
  },
  {
   "cell_type": "markdown",
   "metadata": {},
   "source": [
    "# 輸入test data"
   ]
  },
  {
   "cell_type": "code",
   "execution_count": 28,
   "metadata": {},
   "outputs": [],
   "source": [
    "\n",
    "test=pd.read_csv(\"test_covid.csv\")\n",
    "\n",
    "\"\"\"\n",
    "mean_hh_cli_ct                                            4784 non-null   float64\n",
    "pct_worried_finances                                      0 non-null      float64\n",
    "pct_cmnty_cli                                             4804 non-null   float64\n",
    "\n",
    "\"\"\"\n",
    "# test=test.drop(['date', 'state_code', 'gender', 'age_bucket',\"mean_hh_cli_ct\",\"pct_worried_finances\",\"pct_cmnty_cli\"],axis=1)\n",
    "\n",
    "test=test.drop([\"date\",\"pct_worried_finances\"],axis=1)"
   ]
  },
  {
   "cell_type": "markdown",
   "metadata": {},
   "source": [
    "## Use SimpleImputer 將nan用中位數替換"
   ]
  },
  {
   "cell_type": "code",
   "execution_count": 29,
   "metadata": {},
   "outputs": [
    {
     "data": {
      "text/plain": [
       "0"
      ]
     },
     "execution_count": 29,
     "metadata": {},
     "output_type": "execute_result"
    }
   ],
   "source": [
    "from sklearn.impute import SimpleImputer\n",
    "imp_mean = SimpleImputer(missing_values=np.nan, strategy='mean')\n",
    "#因為前三個欄位為str的type\n",
    "test_num=test.iloc[:,3:]\n",
    "test_num=imp_mean.fit_transform(test_num)\n",
    "test.iloc[:,3:]=test_num\n",
    "#確認是否nan都替換掉\n",
    "test.isna().sum().sum()"
   ]
  },
  {
   "cell_type": "markdown",
   "metadata": {},
   "source": [
    "## OneHotEncoder  還要再確認是否一致"
   ]
  },
  {
   "cell_type": "code",
   "execution_count": 30,
   "metadata": {},
   "outputs": [
    {
     "name": "stdout",
     "output_type": "stream",
     "text": [
      "5436\n",
      "0\n"
     ]
    }
   ],
   "source": [
    "categorical_columns_selector = selector(dtype_include=object)\n",
    "categorical_columns = categorical_columns_selector(test)\n",
    "\n",
    "X_test=test.iloc[:,0:test.shape[1]-1]\n",
    "\n",
    "#onehotencoder使用 -> fit -> transform -> return array \n",
    "enc_test =OneHotEncoder(sparse=False)\n",
    "enc_test.fit(X_test[categorical_columns])\n",
    "data_encoded=enc_test.transform(X_test[categorical_columns])\n",
    "\n",
    "#產生columns index的名稱\n",
    "columns_encoded = enc_test.get_feature_names(categorical_columns)\n",
    "X_categorical_columns=pd.DataFrame(data_encoded, columns=columns_encoded)\n",
    "\n",
    "X_withoutcategorical_columns=X_test.drop(categorical_columns,axis=1)\n",
    "#為了讓onehotencoder 的種類一樣\n",
    "X_test=pd.concat([X_withoutcategorical_columns, X_categorical_columns], axis=1)\n",
    "#onehotencoder之後\n",
    "X_test.head()\n",
    "X_test.columns\n",
    "X_test=pd.DataFrame(X_test,columns=X.columns)\n",
    "print(X_test.isna().sum().sum())\n",
    "X_test=X_test.fillna(0)\n",
    "print(X_test.isna().sum().sum())"
   ]
  },
  {
   "cell_type": "markdown",
   "metadata": {},
   "source": [
    "# test data 訓練"
   ]
  },
  {
   "cell_type": "code",
   "execution_count": 31,
   "metadata": {},
   "outputs": [],
   "source": [
    "y_test=gs.best_estimator_.predict(X_test)\n",
    "col=['test_condition']\n",
    "df=pd.DataFrame(y_test,columns=col)\n",
    "df.to_csv('xgboost_oversampling_SMOTENC_lower_cvscore.csv', index = True,index_label='id') "
   ]
  },
  {
   "cell_type": "code",
   "execution_count": null,
   "metadata": {},
   "outputs": [],
   "source": []
  }
 ],
 "metadata": {
  "interpreter": {
   "hash": "f2d2a823a038604d853a60f43a5496ac741353b66549770f1041d492ccac9c62"
  },
  "kernelspec": {
   "display_name": "Python 3.9.7 64-bit ('pyml': venv)",
   "name": "python3"
  },
  "language_info": {
   "codemirror_mode": {
    "name": "ipython",
    "version": 3
   },
   "file_extension": ".py",
   "mimetype": "text/x-python",
   "name": "python",
   "nbconvert_exporter": "python",
   "pygments_lexer": "ipython3",
   "version": "3.9.7"
  },
  "orig_nbformat": 4
 },
 "nbformat": 4,
 "nbformat_minor": 2
}
