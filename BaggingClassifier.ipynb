{
 "cells": [
  {
   "cell_type": "code",
   "execution_count": 9,
   "metadata": {},
   "outputs": [],
   "source": [
    "%matplotlib inline\n",
    "import numpy as np\n",
    "import pandas as pd\n",
    "import matplotlib.pyplot as plt\n",
    "from imblearn.over_sampling import RandomOverSampler\n",
    "import pandas as pd\n",
    "\n",
    "data=pd.read_csv('train_covid.csv')\n",
    "\n",
    "\"\"\"\n",
    "mean_hh_cli_ct                                            4784 non-null   float64\n",
    "pct_worried_finances                                      0 non-null      float64\n",
    "pct_cmnty_cli                                             4804 non-null   float64\n",
    "\n",
    "\"\"\"\n",
    "#date不是一個特徵值，除非使用OrdinalEncoder，轉換成數列\n",
    "#如果test的data是未來的這個特徵值，我認為不是一個好的分類指標\n",
    "#而pct_worried_finances都是NaN可以直接drop掉\n",
    "data=data.drop([\"date\",\"pct_worried_finances\"],axis=1)\n",
    "\n",
    "#分割feature和label\n",
    "length=data.shape[1]\n",
    "X=data.iloc[:,0:length-1]\n",
    "y=data.iloc[:,length-1]"
   ]
  },
  {
   "cell_type": "markdown",
   "metadata": {},
   "source": [
    "# Data Prepare\n"
   ]
  },
  {
   "cell_type": "markdown",
   "metadata": {},
   "source": [
    "## Use SimpleImputer 將nan用中位數替換"
   ]
  },
  {
   "cell_type": "code",
   "execution_count": 10,
   "metadata": {},
   "outputs": [
    {
     "data": {
      "text/plain": [
       "0"
      ]
     },
     "execution_count": 10,
     "metadata": {},
     "output_type": "execute_result"
    }
   ],
   "source": [
    "from sklearn.impute import SimpleImputer\n",
    "imp_mean = SimpleImputer(missing_values=np.nan, strategy='mean')\n",
    "#因為前三個欄位為str的type\n",
    "X_num=X.iloc[:,3:]\n",
    "X_num=imp_mean.fit_transform(X_num)\n",
    "X.iloc[:,3:]=X_num\n",
    "#確認是否nan都替換掉\n",
    "X.isna().sum().sum()"
   ]
  },
  {
   "cell_type": "markdown",
   "metadata": {},
   "source": [
    "## Using Different oversampler method"
   ]
  },
  {
   "cell_type": "code",
   "execution_count": 11,
   "metadata": {},
   "outputs": [],
   "source": [
    "from imblearn.over_sampling import SMOTENC\n",
    "\n",
    "smote_nc = SMOTENC(categorical_features=[0,1,2], random_state=0)\n",
    "X, y = smote_nc.fit_resample(X, y)\n",
    "\n",
    "# ros = RandomOverSampler(random_state=0)\n",
    "# X, y = ros.fit_resample(X, y)\n"
   ]
  },
  {
   "cell_type": "code",
   "execution_count": 12,
   "metadata": {},
   "outputs": [],
   "source": [
    "# for i in range(1000,5000,500):  \n",
    "#     y=data.iloc[i:,length-1]\n",
    "#     plt.hist(y,bins=10)\n",
    "#     filename=\"test_condition_分布隨日期變化\\ 最後{}\".format(5000-i)\n",
    "#     plt.savefig(filename) \n",
    "#     plt.close()  "
   ]
  },
  {
   "cell_type": "markdown",
   "metadata": {},
   "source": [
    "## OneHotEncoder"
   ]
  },
  {
   "cell_type": "code",
   "execution_count": 13,
   "metadata": {},
   "outputs": [],
   "source": [
    "from sklearn.compose import make_column_selector as selector\n",
    "#將是type 是object的取出來:categorical_columns取出來的index\n",
    "categorical_columns_selector = selector(dtype_include=object)\n",
    "categorical_columns = categorical_columns_selector(data)\n"
   ]
  },
  {
   "cell_type": "code",
   "execution_count": 14,
   "metadata": {},
   "outputs": [],
   "source": [
    "from sklearn.pipeline import Pipeline\n",
    "from sklearn.preprocessing import StandardScaler, OneHotEncoder\n",
    "from sklearn import preprocessing\n",
    "from sklearn.feature_selection import SelectKBest, chi2\n",
    "from sklearn.model_selection import GridSearchCV\n",
    "from sklearn.preprocessing import OneHotEncoder"
   ]
  },
  {
   "cell_type": "code",
   "execution_count": 15,
   "metadata": {},
   "outputs": [],
   "source": [
    "X_cat=X[categorical_columns]\n",
    "\n",
    "#onehotencoder使用 -> fit -> transform -> return array \n",
    "enc =OneHotEncoder(sparse=False)\n",
    "enc.fit(X_cat)\n",
    "data_encoded=enc.transform(X_cat)\n",
    "#產生columns index的名稱\n",
    "columns_encoded = enc.get_feature_names(categorical_columns)\n",
    "X_categorical_columns=pd.DataFrame(data_encoded, columns=columns_encoded)\n",
    "\n",
    "X_withoutcategorical_columns=X.drop(categorical_columns,axis=1)\n",
    "\n",
    "X=pd.concat([X_withoutcategorical_columns, X_categorical_columns], axis=1)\n",
    "#onehotencoder之後\n",
    "\n"
   ]
  },
  {
   "cell_type": "code",
   "execution_count": 16,
   "metadata": {},
   "outputs": [
    {
     "data": {
      "text/html": [
       "<div>\n",
       "<style scoped>\n",
       "    .dataframe tbody tr th:only-of-type {\n",
       "        vertical-align: middle;\n",
       "    }\n",
       "\n",
       "    .dataframe tbody tr th {\n",
       "        vertical-align: top;\n",
       "    }\n",
       "\n",
       "    .dataframe thead th {\n",
       "        text-align: right;\n",
       "    }\n",
       "</style>\n",
       "<table border=\"1\" class=\"dataframe\">\n",
       "  <thead>\n",
       "    <tr style=\"text-align: right;\">\n",
       "      <th></th>\n",
       "      <th>n</th>\n",
       "      <th>weight_sums</th>\n",
       "      <th>pct_cli</th>\n",
       "      <th>pct_ili</th>\n",
       "      <th>pct_cli_anosmia_ageusia</th>\n",
       "      <th>pct_hh_cli</th>\n",
       "      <th>pct_cmnty_cli</th>\n",
       "      <th>pct_hh_fever</th>\n",
       "      <th>pct_hh_sore_throat</th>\n",
       "      <th>pct_hh_cough</th>\n",
       "      <th>...</th>\n",
       "      <th>state_code_va</th>\n",
       "      <th>state_code_vt</th>\n",
       "      <th>state_code_wa</th>\n",
       "      <th>state_code_wi</th>\n",
       "      <th>state_code_wv</th>\n",
       "      <th>gender_female</th>\n",
       "      <th>gender_male</th>\n",
       "      <th>age_bucket_18-34</th>\n",
       "      <th>age_bucket_35-54</th>\n",
       "      <th>age_bucket_55+</th>\n",
       "    </tr>\n",
       "  </thead>\n",
       "  <tbody>\n",
       "    <tr>\n",
       "      <th>0</th>\n",
       "      <td>691.000000</td>\n",
       "      <td>7.178188e+05</td>\n",
       "      <td>1.943200</td>\n",
       "      <td>2.092700</td>\n",
       "      <td>3.736900</td>\n",
       "      <td>3.043500</td>\n",
       "      <td>16.353709</td>\n",
       "      <td>3.623200</td>\n",
       "      <td>14.658900</td>\n",
       "      <td>25.362300</td>\n",
       "      <td>...</td>\n",
       "      <td>0.0</td>\n",
       "      <td>0.0</td>\n",
       "      <td>0.0</td>\n",
       "      <td>0.0</td>\n",
       "      <td>0.0</td>\n",
       "      <td>1.0</td>\n",
       "      <td>0.0</td>\n",
       "      <td>0.0</td>\n",
       "      <td>1.0</td>\n",
       "      <td>0.0</td>\n",
       "    </tr>\n",
       "    <tr>\n",
       "      <th>1</th>\n",
       "      <td>594.000000</td>\n",
       "      <td>2.440767e+06</td>\n",
       "      <td>1.194500</td>\n",
       "      <td>1.023900</td>\n",
       "      <td>2.559700</td>\n",
       "      <td>1.683500</td>\n",
       "      <td>16.353709</td>\n",
       "      <td>2.188600</td>\n",
       "      <td>11.952900</td>\n",
       "      <td>21.212100</td>\n",
       "      <td>...</td>\n",
       "      <td>0.0</td>\n",
       "      <td>0.0</td>\n",
       "      <td>0.0</td>\n",
       "      <td>0.0</td>\n",
       "      <td>0.0</td>\n",
       "      <td>1.0</td>\n",
       "      <td>0.0</td>\n",
       "      <td>0.0</td>\n",
       "      <td>1.0</td>\n",
       "      <td>0.0</td>\n",
       "    </tr>\n",
       "    <tr>\n",
       "      <th>2</th>\n",
       "      <td>98.000000</td>\n",
       "      <td>3.051519e+05</td>\n",
       "      <td>0.000000</td>\n",
       "      <td>0.000000</td>\n",
       "      <td>3.191500</td>\n",
       "      <td>1.020400</td>\n",
       "      <td>16.353709</td>\n",
       "      <td>1.020400</td>\n",
       "      <td>8.163300</td>\n",
       "      <td>15.306100</td>\n",
       "      <td>...</td>\n",
       "      <td>0.0</td>\n",
       "      <td>0.0</td>\n",
       "      <td>0.0</td>\n",
       "      <td>0.0</td>\n",
       "      <td>0.0</td>\n",
       "      <td>0.0</td>\n",
       "      <td>1.0</td>\n",
       "      <td>0.0</td>\n",
       "      <td>0.0</td>\n",
       "      <td>1.0</td>\n",
       "    </tr>\n",
       "    <tr>\n",
       "      <th>3</th>\n",
       "      <td>759.000000</td>\n",
       "      <td>6.789525e+05</td>\n",
       "      <td>1.992000</td>\n",
       "      <td>1.726400</td>\n",
       "      <td>3.320100</td>\n",
       "      <td>3.425600</td>\n",
       "      <td>16.353709</td>\n",
       "      <td>3.689100</td>\n",
       "      <td>16.754600</td>\n",
       "      <td>25.989400</td>\n",
       "      <td>...</td>\n",
       "      <td>0.0</td>\n",
       "      <td>0.0</td>\n",
       "      <td>0.0</td>\n",
       "      <td>0.0</td>\n",
       "      <td>0.0</td>\n",
       "      <td>1.0</td>\n",
       "      <td>0.0</td>\n",
       "      <td>1.0</td>\n",
       "      <td>0.0</td>\n",
       "      <td>0.0</td>\n",
       "    </tr>\n",
       "    <tr>\n",
       "      <th>4</th>\n",
       "      <td>438.000000</td>\n",
       "      <td>8.263480e+05</td>\n",
       "      <td>0.230900</td>\n",
       "      <td>0.230900</td>\n",
       "      <td>1.616600</td>\n",
       "      <td>0.457700</td>\n",
       "      <td>16.353709</td>\n",
       "      <td>0.915300</td>\n",
       "      <td>5.022800</td>\n",
       "      <td>17.123300</td>\n",
       "      <td>...</td>\n",
       "      <td>0.0</td>\n",
       "      <td>0.0</td>\n",
       "      <td>0.0</td>\n",
       "      <td>0.0</td>\n",
       "      <td>0.0</td>\n",
       "      <td>1.0</td>\n",
       "      <td>0.0</td>\n",
       "      <td>0.0</td>\n",
       "      <td>0.0</td>\n",
       "      <td>1.0</td>\n",
       "    </tr>\n",
       "    <tr>\n",
       "      <th>...</th>\n",
       "      <td>...</td>\n",
       "      <td>...</td>\n",
       "      <td>...</td>\n",
       "      <td>...</td>\n",
       "      <td>...</td>\n",
       "      <td>...</td>\n",
       "      <td>...</td>\n",
       "      <td>...</td>\n",
       "      <td>...</td>\n",
       "      <td>...</td>\n",
       "      <td>...</td>\n",
       "      <td>...</td>\n",
       "      <td>...</td>\n",
       "      <td>...</td>\n",
       "      <td>...</td>\n",
       "      <td>...</td>\n",
       "      <td>...</td>\n",
       "      <td>...</td>\n",
       "      <td>...</td>\n",
       "      <td>...</td>\n",
       "      <td>...</td>\n",
       "    </tr>\n",
       "    <tr>\n",
       "      <th>7721</th>\n",
       "      <td>68.212861</td>\n",
       "      <td>2.379435e+05</td>\n",
       "      <td>0.000000</td>\n",
       "      <td>0.337838</td>\n",
       "      <td>0.000000</td>\n",
       "      <td>0.331800</td>\n",
       "      <td>13.090070</td>\n",
       "      <td>0.331800</td>\n",
       "      <td>1.146788</td>\n",
       "      <td>7.724592</td>\n",
       "      <td>...</td>\n",
       "      <td>0.0</td>\n",
       "      <td>0.0</td>\n",
       "      <td>0.0</td>\n",
       "      <td>0.0</td>\n",
       "      <td>0.0</td>\n",
       "      <td>1.0</td>\n",
       "      <td>0.0</td>\n",
       "      <td>0.0</td>\n",
       "      <td>0.0</td>\n",
       "      <td>1.0</td>\n",
       "    </tr>\n",
       "    <tr>\n",
       "      <th>7722</th>\n",
       "      <td>151.822940</td>\n",
       "      <td>6.034892e+05</td>\n",
       "      <td>2.673809</td>\n",
       "      <td>2.673809</td>\n",
       "      <td>4.980876</td>\n",
       "      <td>2.898391</td>\n",
       "      <td>34.417168</td>\n",
       "      <td>2.898391</td>\n",
       "      <td>12.973454</td>\n",
       "      <td>19.491909</td>\n",
       "      <td>...</td>\n",
       "      <td>0.0</td>\n",
       "      <td>0.0</td>\n",
       "      <td>0.0</td>\n",
       "      <td>0.0</td>\n",
       "      <td>0.0</td>\n",
       "      <td>1.0</td>\n",
       "      <td>0.0</td>\n",
       "      <td>0.0</td>\n",
       "      <td>1.0</td>\n",
       "      <td>0.0</td>\n",
       "    </tr>\n",
       "    <tr>\n",
       "      <th>7723</th>\n",
       "      <td>169.627646</td>\n",
       "      <td>3.509105e+05</td>\n",
       "      <td>1.830351</td>\n",
       "      <td>1.830351</td>\n",
       "      <td>6.589123</td>\n",
       "      <td>2.369102</td>\n",
       "      <td>35.602145</td>\n",
       "      <td>3.324040</td>\n",
       "      <td>10.369216</td>\n",
       "      <td>15.746734</td>\n",
       "      <td>...</td>\n",
       "      <td>0.0</td>\n",
       "      <td>0.0</td>\n",
       "      <td>0.0</td>\n",
       "      <td>0.0</td>\n",
       "      <td>0.0</td>\n",
       "      <td>1.0</td>\n",
       "      <td>0.0</td>\n",
       "      <td>0.0</td>\n",
       "      <td>1.0</td>\n",
       "      <td>0.0</td>\n",
       "    </tr>\n",
       "    <tr>\n",
       "      <th>7724</th>\n",
       "      <td>246.479004</td>\n",
       "      <td>5.699816e+05</td>\n",
       "      <td>0.456274</td>\n",
       "      <td>0.421173</td>\n",
       "      <td>2.141070</td>\n",
       "      <td>1.554701</td>\n",
       "      <td>15.890545</td>\n",
       "      <td>1.934649</td>\n",
       "      <td>3.885957</td>\n",
       "      <td>15.309260</td>\n",
       "      <td>...</td>\n",
       "      <td>0.0</td>\n",
       "      <td>0.0</td>\n",
       "      <td>0.0</td>\n",
       "      <td>0.0</td>\n",
       "      <td>0.0</td>\n",
       "      <td>1.0</td>\n",
       "      <td>0.0</td>\n",
       "      <td>0.0</td>\n",
       "      <td>1.0</td>\n",
       "      <td>0.0</td>\n",
       "    </tr>\n",
       "    <tr>\n",
       "      <th>7725</th>\n",
       "      <td>146.293753</td>\n",
       "      <td>2.819475e+05</td>\n",
       "      <td>0.997221</td>\n",
       "      <td>1.399052</td>\n",
       "      <td>2.098565</td>\n",
       "      <td>0.981200</td>\n",
       "      <td>22.018291</td>\n",
       "      <td>1.385618</td>\n",
       "      <td>12.238385</td>\n",
       "      <td>15.761621</td>\n",
       "      <td>...</td>\n",
       "      <td>0.0</td>\n",
       "      <td>0.0</td>\n",
       "      <td>0.0</td>\n",
       "      <td>0.0</td>\n",
       "      <td>0.0</td>\n",
       "      <td>1.0</td>\n",
       "      <td>0.0</td>\n",
       "      <td>1.0</td>\n",
       "      <td>0.0</td>\n",
       "      <td>0.0</td>\n",
       "    </tr>\n",
       "  </tbody>\n",
       "</table>\n",
       "<p>7726 rows × 145 columns</p>\n",
       "</div>"
      ],
      "text/plain": [
       "               n   weight_sums   pct_cli   pct_ili  pct_cli_anosmia_ageusia  \\\n",
       "0     691.000000  7.178188e+05  1.943200  2.092700                 3.736900   \n",
       "1     594.000000  2.440767e+06  1.194500  1.023900                 2.559700   \n",
       "2      98.000000  3.051519e+05  0.000000  0.000000                 3.191500   \n",
       "3     759.000000  6.789525e+05  1.992000  1.726400                 3.320100   \n",
       "4     438.000000  8.263480e+05  0.230900  0.230900                 1.616600   \n",
       "...          ...           ...       ...       ...                      ...   \n",
       "7721   68.212861  2.379435e+05  0.000000  0.337838                 0.000000   \n",
       "7722  151.822940  6.034892e+05  2.673809  2.673809                 4.980876   \n",
       "7723  169.627646  3.509105e+05  1.830351  1.830351                 6.589123   \n",
       "7724  246.479004  5.699816e+05  0.456274  0.421173                 2.141070   \n",
       "7725  146.293753  2.819475e+05  0.997221  1.399052                 2.098565   \n",
       "\n",
       "      pct_hh_cli  pct_cmnty_cli  pct_hh_fever  pct_hh_sore_throat  \\\n",
       "0       3.043500      16.353709      3.623200           14.658900   \n",
       "1       1.683500      16.353709      2.188600           11.952900   \n",
       "2       1.020400      16.353709      1.020400            8.163300   \n",
       "3       3.425600      16.353709      3.689100           16.754600   \n",
       "4       0.457700      16.353709      0.915300            5.022800   \n",
       "...          ...            ...           ...                 ...   \n",
       "7721    0.331800      13.090070      0.331800            1.146788   \n",
       "7722    2.898391      34.417168      2.898391           12.973454   \n",
       "7723    2.369102      35.602145      3.324040           10.369216   \n",
       "7724    1.554701      15.890545      1.934649            3.885957   \n",
       "7725    0.981200      22.018291      1.385618           12.238385   \n",
       "\n",
       "      pct_hh_cough  ...  state_code_va  state_code_vt  state_code_wa  \\\n",
       "0        25.362300  ...            0.0            0.0            0.0   \n",
       "1        21.212100  ...            0.0            0.0            0.0   \n",
       "2        15.306100  ...            0.0            0.0            0.0   \n",
       "3        25.989400  ...            0.0            0.0            0.0   \n",
       "4        17.123300  ...            0.0            0.0            0.0   \n",
       "...            ...  ...            ...            ...            ...   \n",
       "7721      7.724592  ...            0.0            0.0            0.0   \n",
       "7722     19.491909  ...            0.0            0.0            0.0   \n",
       "7723     15.746734  ...            0.0            0.0            0.0   \n",
       "7724     15.309260  ...            0.0            0.0            0.0   \n",
       "7725     15.761621  ...            0.0            0.0            0.0   \n",
       "\n",
       "      state_code_wi  state_code_wv  gender_female  gender_male  \\\n",
       "0               0.0            0.0            1.0          0.0   \n",
       "1               0.0            0.0            1.0          0.0   \n",
       "2               0.0            0.0            0.0          1.0   \n",
       "3               0.0            0.0            1.0          0.0   \n",
       "4               0.0            0.0            1.0          0.0   \n",
       "...             ...            ...            ...          ...   \n",
       "7721            0.0            0.0            1.0          0.0   \n",
       "7722            0.0            0.0            1.0          0.0   \n",
       "7723            0.0            0.0            1.0          0.0   \n",
       "7724            0.0            0.0            1.0          0.0   \n",
       "7725            0.0            0.0            1.0          0.0   \n",
       "\n",
       "      age_bucket_18-34  age_bucket_35-54  age_bucket_55+  \n",
       "0                  0.0               1.0             0.0  \n",
       "1                  0.0               1.0             0.0  \n",
       "2                  0.0               0.0             1.0  \n",
       "3                  1.0               0.0             0.0  \n",
       "4                  0.0               0.0             1.0  \n",
       "...                ...               ...             ...  \n",
       "7721               0.0               0.0             1.0  \n",
       "7722               0.0               1.0             0.0  \n",
       "7723               0.0               1.0             0.0  \n",
       "7724               0.0               1.0             0.0  \n",
       "7725               1.0               0.0             0.0  \n",
       "\n",
       "[7726 rows x 145 columns]"
      ]
     },
     "execution_count": 16,
     "metadata": {},
     "output_type": "execute_result"
    }
   ],
   "source": [
    "X"
   ]
  },
  {
   "cell_type": "code",
   "execution_count": 22,
   "metadata": {},
   "outputs": [],
   "source": [
    "from sklearn.metrics import mean_absolute_error\n",
    "from sklearn.ensemble import BaggingClassifier\n",
    "from sklearn.tree import DecisionTreeClassifier\n",
    "clf = BaggingClassifier(base_estimator=DecisionTreeClassifier(),\n",
    "                       random_state=0)"
   ]
  },
  {
   "cell_type": "markdown",
   "metadata": {},
   "source": [
    "# __Make Pipeline__"
   ]
  },
  {
   "cell_type": "code",
   "execution_count": 23,
   "metadata": {},
   "outputs": [
    {
     "data": {
      "text/plain": [
       "dict_keys(['memory', 'steps', 'verbose', 'scaler', 'min_max', 'feature_select', 'clf', 'scaler__copy', 'scaler__with_mean', 'scaler__with_std', 'min_max__clip', 'min_max__copy', 'min_max__feature_range', 'feature_select__k', 'feature_select__score_func', 'clf__base_estimator__ccp_alpha', 'clf__base_estimator__class_weight', 'clf__base_estimator__criterion', 'clf__base_estimator__max_depth', 'clf__base_estimator__max_features', 'clf__base_estimator__max_leaf_nodes', 'clf__base_estimator__min_impurity_decrease', 'clf__base_estimator__min_impurity_split', 'clf__base_estimator__min_samples_leaf', 'clf__base_estimator__min_samples_split', 'clf__base_estimator__min_weight_fraction_leaf', 'clf__base_estimator__random_state', 'clf__base_estimator__splitter', 'clf__base_estimator', 'clf__bootstrap', 'clf__bootstrap_features', 'clf__max_features', 'clf__max_samples', 'clf__n_estimators', 'clf__n_jobs', 'clf__oob_score', 'clf__random_state', 'clf__verbose', 'clf__warm_start'])"
      ]
     },
     "execution_count": 23,
     "metadata": {},
     "output_type": "execute_result"
    }
   ],
   "source": [
    "from sklearn.preprocessing import StandardScaler\n",
    "from sklearn.impute import SimpleImputer\n",
    "pipe = Pipeline([\n",
    "                    \n",
    "                 ('scaler', StandardScaler()),\n",
    "                \n",
    "                ('min_max', preprocessing.MinMaxScaler(feature_range=(1, 1000))),\n",
    "                ('feature_select',SelectKBest(chi2)),\n",
    "                ('clf',clf)\n",
    "                  ])\n",
    "pipe.get_params().keys()"
   ]
  },
  {
   "cell_type": "markdown",
   "metadata": {},
   "source": [
    "## param_grid setting"
   ]
  },
  {
   "cell_type": "code",
   "execution_count": 24,
   "metadata": {},
   "outputs": [],
   "source": [
    "from sklearn.model_selection import ShuffleSplit\n",
    "# 參數篩選\n",
    "feature_select__k=[100]#50,100,150,200 中\n",
    "# \n",
    "param_grid = { \n",
    "    \n",
    "    'feature_select__k':feature_select__k,\n",
    "    \n",
    "    \n",
    "}\n",
    "# GridSearchCV : refit==True 會重新用整個data重新訓練一次\n",
    "gs=GridSearchCV(estimator=pipe,\n",
    "               param_grid=param_grid,\n",
    "               scoring='f1_macro',\n",
    "               cv=ShuffleSplit(n_splits=5, test_size=0.3, random_state=0),\n",
    "               n_jobs = -1,\n",
    "              )\n",
    "gs=gs.fit(X,y)"
   ]
  },
  {
   "cell_type": "markdown",
   "metadata": {},
   "source": [
    "# Store best_params_\n"
   ]
  },
  {
   "cell_type": "code",
   "execution_count": 25,
   "metadata": {},
   "outputs": [
    {
     "name": "stdout",
     "output_type": "stream",
     "text": [
      "{'feature_select__k': 100}\n",
      "0.8424172195331607\n"
     ]
    }
   ],
   "source": [
    "param_grid=gs.best_params_\n",
    "# type(param_grid)\n",
    "# for i in param_grid.keys():\n",
    "#     param_grid[i]=[param_grid[i]]\n",
    "# print(param_grid)\n",
    "print(gs.best_params_)\n",
    "print(gs.best_score_)\n",
    "\n",
    "df=pd.DataFrame(gs.cv_results_)\n",
    "\n",
    "# df.to_excel(\"xgboost_cv_results.xlsx\")"
   ]
  },
  {
   "cell_type": "markdown",
   "metadata": {},
   "source": [
    "# 輸入test data"
   ]
  },
  {
   "cell_type": "code",
   "execution_count": 26,
   "metadata": {},
   "outputs": [
    {
     "data": {
      "text/plain": [
       "(906, 94)"
      ]
     },
     "execution_count": 26,
     "metadata": {},
     "output_type": "execute_result"
    }
   ],
   "source": [
    "\n",
    "test=pd.read_csv(\"test_covid.csv\")\n",
    "\n",
    "\"\"\"\n",
    "mean_hh_cli_ct                                            4784 non-null   float64\n",
    "pct_worried_finances                                      0 non-null      float64\n",
    "pct_cmnty_cli                                             4804 non-null   float64\n",
    "\n",
    "\"\"\"\n",
    "# test=test.drop(['date', 'state_code', 'gender', 'age_bucket',\"mean_hh_cli_ct\",\"pct_worried_finances\",\"pct_cmnty_cli\"],axis=1)\n",
    "\n",
    "test=test.drop([\"date\",\"pct_worried_finances\"],axis=1)\n",
    "test.shape"
   ]
  },
  {
   "cell_type": "markdown",
   "metadata": {},
   "source": [
    "## Use SimpleImputer 將nan用中位數替換"
   ]
  },
  {
   "cell_type": "code",
   "execution_count": 27,
   "metadata": {},
   "outputs": [
    {
     "data": {
      "text/plain": [
       "0"
      ]
     },
     "execution_count": 27,
     "metadata": {},
     "output_type": "execute_result"
    }
   ],
   "source": [
    "from sklearn.impute import SimpleImputer\n",
    "imp_mean = SimpleImputer(missing_values=np.nan, strategy='mean')\n",
    "#因為前三個欄位為str的type\n",
    "test_num=test.iloc[:,3:]\n",
    "test_num=imp_mean.fit_transform(test_num)\n",
    "test.iloc[:,3:]=test_num\n",
    "#確認是否nan都替換掉\n",
    "test.isna().sum().sum()"
   ]
  },
  {
   "cell_type": "markdown",
   "metadata": {},
   "source": [
    "## OneHotEncoder  還要再確認是否一致"
   ]
  },
  {
   "cell_type": "code",
   "execution_count": 28,
   "metadata": {},
   "outputs": [
    {
     "name": "stdout",
     "output_type": "stream",
     "text": [
      "5436\n",
      "0\n"
     ]
    }
   ],
   "source": [
    "categorical_columns_selector = selector(dtype_include=object)\n",
    "categorical_columns = categorical_columns_selector(test)\n",
    "\n",
    "X_test=test.iloc[:,0:test.shape[1]-1]\n",
    "\n",
    "#onehotencoder使用 -> fit -> transform -> return array \n",
    "enc_test =OneHotEncoder(sparse=False)\n",
    "enc_test.fit(X_test[categorical_columns])\n",
    "data_encoded=enc_test.transform(X_test[categorical_columns])\n",
    "\n",
    "#產生columns index的名稱\n",
    "columns_encoded = enc_test.get_feature_names(categorical_columns)\n",
    "X_categorical_columns=pd.DataFrame(data_encoded, columns=columns_encoded)\n",
    "\n",
    "X_withoutcategorical_columns=X_test.drop(categorical_columns,axis=1)\n",
    "#為了讓onehotencoder 的種類一樣\n",
    "X_test=pd.concat([X_withoutcategorical_columns, X_categorical_columns], axis=1)\n",
    "#onehotencoder之後\n",
    "X_test.head()\n",
    "X_test.columns\n",
    "X_test=pd.DataFrame(X_test,columns=X.columns)\n",
    "print(X_test.isna().sum().sum())\n",
    "X_test=X_test.fillna(0)\n",
    "print(X_test.isna().sum().sum())"
   ]
  },
  {
   "cell_type": "markdown",
   "metadata": {},
   "source": [
    "# test data 訓練"
   ]
  },
  {
   "cell_type": "code",
   "execution_count": 30,
   "metadata": {},
   "outputs": [],
   "source": [
    "y_test=gs.best_estimator_.predict(X_test)\n",
    "\n",
    "col=['test_condition']\n",
    "df=pd.DataFrame(y_test,columns=col)\n",
    "df.to_csv('BaggingClassifier_oversampling_SMOTENC_ShuffleSplit.csv', index = True,index_label='id') \n",
    "#BaggingClassifier_oversampling_SMOTENC_ShuffleSplit : 0.60  0.84\n"
   ]
  },
  {
   "cell_type": "code",
   "execution_count": 59,
   "metadata": {},
   "outputs": [
    {
     "data": {
      "text/plain": [
       "(906,)"
      ]
     },
     "execution_count": 59,
     "metadata": {},
     "output_type": "execute_result"
    }
   ],
   "source": [
    "y.shape"
   ]
  },
  {
   "cell_type": "code",
   "execution_count": 57,
   "metadata": {},
   "outputs": [
    {
     "data": {
      "text/plain": [
       "(906,)"
      ]
     },
     "execution_count": 57,
     "metadata": {},
     "output_type": "execute_result"
    }
   ],
   "source": [
    "y_test.shape"
   ]
  },
  {
   "cell_type": "code",
   "execution_count": null,
   "metadata": {},
   "outputs": [],
   "source": []
  }
 ],
 "metadata": {
  "interpreter": {
   "hash": "f2d2a823a038604d853a60f43a5496ac741353b66549770f1041d492ccac9c62"
  },
  "kernelspec": {
   "display_name": "Python 3.9.7 64-bit ('pyml': venv)",
   "name": "python3"
  },
  "language_info": {
   "codemirror_mode": {
    "name": "ipython",
    "version": 3
   },
   "file_extension": ".py",
   "mimetype": "text/x-python",
   "name": "python",
   "nbconvert_exporter": "python",
   "pygments_lexer": "ipython3",
   "version": "3.9.7"
  },
  "orig_nbformat": 4
 },
 "nbformat": 4,
 "nbformat_minor": 2
}
